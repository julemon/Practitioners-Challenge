{
 "cells": [
  {
   "cell_type": "code",
   "execution_count": 1,
   "id": "temporal-backup",
   "metadata": {},
   "outputs": [],
   "source": [
    "import numpy as np             \n",
    "import pandas as pd           #Python Data Analysis Library handle data in a user friendly way\n",
    "#import random\n",
    "import matplotlib.pyplot as plt #for plots\n",
    "%matplotlib inline\n",
    "from sklearn import linear_model # A very popular Python library for Machine Learning\n",
    "from sklearn.linear_model import LinearRegression\n",
    "from sklearn.linear_model import Ridge\n",
    "from sklearn.model_selection import train_test_split #needed to for assessing prediction\n",
    "from sklearn import datasets ## imports datasets from scikit-learn\n",
    "import scipy as sc\n",
    "\n"
   ]
  },
  {
   "cell_type": "markdown",
   "id": "random-bracelet",
   "metadata": {},
   "source": [
    "## Rigdge Regression Model with standardized data"
   ]
  },
  {
   "cell_type": "markdown",
   "id": "finite-vehicle",
   "metadata": {},
   "source": [
    "### Petrol_Fraction = Petrol/Total_Cars"
   ]
  },
  {
   "cell_type": "code",
   "execution_count": 2,
   "id": "dominant-american",
   "metadata": {
    "scrolled": true
   },
   "outputs": [],
   "source": [
    "import seaborn as sns\n",
    "# sns.pairplot(data)"
   ]
  },
  {
   "cell_type": "markdown",
   "id": "inclusive-collection",
   "metadata": {},
   "source": [
    "## Bayesian Linear Regression"
   ]
  },
  {
   "cell_type": "code",
   "execution_count": 3,
   "id": "isolated-moral",
   "metadata": {},
   "outputs": [],
   "source": [
    "# function for Bayesian Linear regression, return posterior mean and 95% CIs\n",
    "def BLR(X,y,mu_0,Om_0_inv,a_0,b_0,ind_names,N):\n",
    "    col_names = ['posterior mean','lower 95% bound','upper 95% bound']\n",
    "    n,p = X.shape\n",
    "    XtX = X.T.dot(X)\n",
    "    Om_n_inv = XtX + Om_0_inv\n",
    "    Om_n = sc.linalg.inv(Om_n_inv)\n",
    "    term1 = Om_0_inv.dot(mu_0)+X.T.dot(y)\n",
    "    mu_n = Om_n.dot(term1)\n",
    "    a_n = a_0 + n/2\n",
    "    term2 = y.T.dot(y)+mu_0.dot(Om_0_inv.dot(mu_0))+mu_n.dot(Om_n_inv.dot(mu_n))\n",
    "    b_n = b_0 + term2/2\n",
    "    sigma2 = 1/np.random.gamma(a_n, 1/b_n, N)\n",
    "    betas = np.zeros((N,p))\n",
    "    # draw N samples from the marginal posterior of beta\n",
    "    for i in range(0,N):\n",
    "        s2 =sigma2[i]\n",
    "        cov = s2*Om_n\n",
    "        betas[i,] = np.random.multivariate_normal(mu_n,cov,1)\n",
    "\n",
    "    #find the mean of each column which corresponds to each beta coefficient     \n",
    "    mu_beta = np.mean(betas, axis=0)\n",
    "    #find the 2.5 and 97.5 percentils which correspond to each beta coefficient \n",
    "    lower95 = np.percentile(betas,2.5,axis=0)\n",
    "    upper95 = np.percentile(betas,97.5,axis=0)\n",
    "    results = np.column_stack([mu_beta,lower95,upper95])\n",
    "    results = pd.DataFrame(results,columns = col_names,index=ind_names)\n",
    "    return results, mu_n, Om_n, a_n, b_n"
   ]
  },
  {
   "cell_type": "markdown",
   "id": "encouraging-degree",
   "metadata": {},
   "source": [
    "## Linear Regression"
   ]
  },
  {
   "cell_type": "code",
   "execution_count": 4,
   "id": "geographic-costume",
   "metadata": {},
   "outputs": [],
   "source": [
    "def LRST451(X,y,predictor_names):\n",
    "    col_names = ['beta','se','lower 95% bound','upper 95% bound']\n",
    "    XtX = X.T.dot(X)\n",
    "    XtX_inv = sc.linalg.inv(X.T.dot(X))\n",
    "    beta = XtX_inv.dot(X.T.dot(y))\n",
    "    e = y - X.dot(beta)\n",
    "    n,p = X.shape\n",
    "    sigma2_hat = e.T.dot(e)/(n-p)\n",
    "    var_beta = sigma2_hat*(XtX_inv)\n",
    "    tval = sc.stats.t.ppf(0.975,n-p)\n",
    "    se_beta = np.sqrt(np.diag(var_beta))\n",
    "    lower95 = beta - sc.stats.t.ppf(0.975,n-p)*se_beta\n",
    "    upper95 = beta + sc.stats.t.ppf(0.975,n-p)*se_beta\n",
    "    results = np.column_stack([beta,se_beta,lower95,upper95])\n",
    "    results = pd.DataFrame(results,columns = col_names,index=predictor_names)\n",
    "    return results"
   ]
  },
  {
   "cell_type": "markdown",
   "id": "royal-mirror",
   "metadata": {},
   "source": [
    "## Model Evidence"
   ]
  },
  {
   "cell_type": "code",
   "execution_count": 5,
   "id": "unknown-following",
   "metadata": {},
   "outputs": [],
   "source": [
    "# Function for Bayes Model Evidence\n",
    "def ModEvidence(X,y,mu_n,Om_n,mu_0,Om_0_inv,a_n,b_n,a_0,b_0): \n",
    "    beta = mu_n\n",
    "    sigma2 = b_n/(a_n-1)\n",
    "    Om_0 = sc.linalg.inv(Om_0_inv)\n",
    "    mu = X.dot(beta)\n",
    "    cov = sigma2*np.eye(X.shape[0])\n",
    "    ll = sc.stats.multivariate_normal.logpdf(y,mu,cov)\n",
    "    # evaluate log-prior\n",
    "    lprior = a_0*np.log(b_0)-sc.special.loggamma(a_0)- (a_0+1)*np.log(sigma2)-b_0/sigma2\n",
    "    lprior = lprior + sc.stats.multivariate_normal.logpdf(beta,mu_0,sigma2*Om_0)\n",
    "    # evaluate log-posterior\n",
    "    lpost = a_n*np.log(b_n)-sc.special.loggamma(a_n)- (a_n+1)*np.log(sigma2)-b_n/sigma2\n",
    "    lpost = lpost + sc.stats.multivariate_normal.logpdf(beta,mu_n,sigma2*Om_n)\n",
    "    lmodevid = ll+lprior-lpost\n",
    "    return lmodevid"
   ]
  },
  {
   "cell_type": "markdown",
   "id": "micro-beast",
   "metadata": {},
   "source": [
    "## Linear Regression with the best predictors"
   ]
  },
  {
   "cell_type": "markdown",
   "id": "extraordinary-commitment",
   "metadata": {},
   "source": [
    "## Model Evidence for predicting Average_CO2"
   ]
  },
  {
   "cell_type": "markdown",
   "id": "severe-detection",
   "metadata": {},
   "source": [
    "## OLS with Intercept"
   ]
  },
  {
   "cell_type": "code",
   "execution_count": 6,
   "id": "returning-smooth",
   "metadata": {},
   "outputs": [],
   "source": [
    "# 2.\n",
    "import statsmodels.api as sm\n",
    "# predictors = ['All_Electric', 'Total_Vehicles']\n",
    "# y = standard_data['Average_CO2']\n",
    "# X = standard_data[predictors]\n",
    "# X = sm.add_constant(X) \n",
    "# model = sm.OLS(y, X).fit()\n",
    "# model.summary()"
   ]
  },
  {
   "cell_type": "markdown",
   "id": "optical-tattoo",
   "metadata": {},
   "source": [
    "# Linear, Ridge and Bayesian Regression with the new data"
   ]
  },
  {
   "cell_type": "code",
   "execution_count": 7,
   "id": "american-grammar",
   "metadata": {},
   "outputs": [
    {
     "name": "stdout",
     "output_type": "stream",
     "text": [
      "      Total_CO2_kilotonne  Total_GHGs_kilotonne  Total_Cars  Total_ULEV_cars  \\\n",
      "Year                                                                           \n",
      "2017            80176.982            114785.965    35597700         132220.0   \n",
      "2018            79834.500            113280.299    36027800         185867.0   \n",
      "2019            80274.046            113280.299    36513200         250313.0   \n",
      "\n",
      "        Petrol    Diesel  All_EV  UK_Population  Total_Vehicle_km  \\\n",
      "Year                                                                \n",
      "2017  18348092  12360237  460187       66238000      5.555000e+11   \n",
      "2018  18499594  12397636  592197       66616000      5.625000e+11   \n",
      "2019  18818368  12286328  758164       66996000      5.738000e+11   \n",
      "\n",
      "      Average_CO2_(g-km)  Average _CO2_cars_first_registered(g-km)  \\\n",
      "Year                                                                 \n",
      "2017             144.333                                   121.230   \n",
      "2018             141.928                                   124.876   \n",
      "2019             139.899                                   127.806   \n",
      "\n",
      "      Total_CO2_(NAE_data)  EV_fraction       P_D  Total_co2  Petrol_fraction  \n",
      "Year                                                                           \n",
      "2017             30980.873     0.012927  30708329  30980.873         0.515429  \n",
      "2018             30568.491     0.016437  30897230  30568.491         0.513481  \n",
      "2019             30568.491     0.020764  31104696  30568.491         0.515385  \n"
     ]
    }
   ],
   "source": [
    "# data = pd.read_csv('veh0203_final_yearly.csv')\n",
    "# data = pd.read_csv('veh0203_final_yearly_with_traffic.csv')\n",
    "data = pd.read_csv('data/GB_all_data.csv')\n",
    "data = data.set_index('Year')\n",
    "data = data.fillna(method = 'ffill')\n",
    "data['EV_fraction'] = data['All_EV']/data['Total_Cars']\n",
    "data['P_D']=data['Petrol']+data['Diesel']\n",
    "data['Total_co2']= data['Total_CO2_(NAE_data)']\n",
    "data['Petrol_fraction']=data['Petrol']/data['Total_Cars']\n",
    "print(data.tail(3))\n",
    "# print(data.head())\n"
   ]
  },
  {
   "cell_type": "code",
   "execution_count": 8,
   "id": "convenient-characteristic",
   "metadata": {},
   "outputs": [],
   "source": [
    "data_yearly =data.copy()"
   ]
  },
  {
   "cell_type": "code",
   "execution_count": 9,
   "id": "ranking-attraction",
   "metadata": {},
   "outputs": [],
   "source": [
    "# Standardize data for simplicity\n",
    "data_short = data#[data.index>2009]\n",
    "mat = np.array(data_short.T)\n",
    "std_mat = np.std(mat, axis = 1)\n",
    "mean_mat = np.mean(mat, axis = 1)\n",
    "\n",
    "mat_stand = (mat-mean_mat.reshape(-1,1))/std_mat.reshape(-1,1)\n",
    "standard_data = pd.DataFrame(mat_stand.T, index = data_short.index, \n",
    "                             columns = data.columns)\n",
    "\n",
    "std_mat = pd.DataFrame(std_mat.reshape(1,-1), \n",
    "                             columns = data.columns)\n",
    "\n",
    "mean_mat = pd.DataFrame(mean_mat.reshape(1,-1), \n",
    "                             columns = data.columns)\n",
    "# print(standard_data.tail(3))\n",
    "# print(std_mat)\n",
    "# print(mean_mat)\n",
    "# std_total_vehicle = std_mat[3]\n",
    "# mean_total_vehicle = mean_mat[3]\n",
    "# std_petrol_f = std_mat[5]\n",
    "# mean_petrol_f = mean_mat[5]\n",
    "\n",
    "# std_y = std_mat[-1]\n",
    "# mean_y = mean_mat[-1]\n",
    "# print(std_mat)"
   ]
  },
  {
   "cell_type": "code",
   "execution_count": 10,
   "id": "classified-feature",
   "metadata": {},
   "outputs": [],
   "source": [
    "# predictors = ['All_EV','Diesel','EV_Fraction','New_Total','Petrol','Petrol_Fraction','UK_Population','traffic']\n",
    "predictors = ['All_EV','EV_fraction','Total_Cars','UK_Population','P_D','Petrol_fraction']\n",
    "# predictors = ['All_EV','EV_fraction','Total_Cars','P_D']\n",
    "pairs = [[a,b] for a in predictors for b in predictors if a<b]\n",
    "\n",
    "mask_train = data.index<2019\n",
    "# y = standard_data['Total_GHGs_kilotonne'][mask_train]\n",
    "y = standard_data['Total_co2'][mask_train]\n",
    "a_0 = 0.1\n",
    "b_0 = 0.1\n",
    "N = 10000 #Monte Carlo sample size\n",
    "#nPowers = np.array([2,3,4,5,6])\n",
    "#K = nPowers.size\n",
    "K = len(pairs)\n",
    "Evidence = np.ones(K)\n",
    "\n",
    "for i in range(K):\n",
    "    predictors = pairs[i]\n",
    "    X = standard_data[predictors][mask_train]\n",
    "    n,p = X.shape\n",
    "    mu_0 = np.zeros(p)\n",
    "    XtX = X.T.dot(X)\n",
    "    Om_0_inv = XtX/n #unit information prior\n",
    "    results, mu_n, Om_n, a_n, b_n = BLR(X,y,mu_0,Om_0_inv,a_0,b_0,predictors,N)\n",
    "    Evidence[i] = ModEvidence(X,y,mu_n,Om_n,mu_0,Om_0_inv,a_n,b_n,a_0,b_0)"
   ]
  },
  {
   "cell_type": "code",
   "execution_count": 11,
   "id": "fresh-conservation",
   "metadata": {},
   "outputs": [
    {
     "name": "stdout",
     "output_type": "stream",
     "text": [
      "Total_co2~All_EV+EV_fraction 64.95054232826566\n",
      "Total_co2~All_EV+Total_Cars 76.82260492034769\n",
      "Total_co2~All_EV+UK_Population 73.94034005825358\n",
      "Total_co2~All_EV+P_D 76.80047593698865\n",
      "Total_co2~All_EV+Petrol_fraction 74.55983115685788\n",
      "Total_co2~EV_fraction+Total_Cars 76.38251869118693\n",
      "Total_co2~EV_fraction+UK_Population 74.03326362102928\n",
      "Total_co2~EV_fraction+P_D 76.35835285596741\n",
      "Total_co2~EV_fraction+Petrol_fraction 74.58039299850066\n",
      "Total_co2~Total_Cars+UK_Population 49.57699035159196\n",
      "Total_co2~P_D+Total_Cars 75.60855101558613\n",
      "Total_co2~P_D+UK_Population 55.61197864933587\n",
      "Total_co2~P_D+Petrol_fraction 50.62029753429365\n",
      "Total_co2~Petrol_fraction+Total_Cars 45.202001961691714\n",
      "Total_co2~Petrol_fraction+UK_Population 73.52887383496494\n"
     ]
    }
   ],
   "source": [
    "from sklearn import linear_model # A very popular Python library for Machine Learning\n",
    "from sklearn.linear_model import LinearRegression\n",
    "from sklearn.linear_model import Ridge\n",
    "from sklearn.model_selection import train_test_split #needed to for assessing prediction\n",
    "import numpy as np\n",
    "import pandas as pd\n",
    "from sklearn.datasets import fetch_california_housing as fch  \n",
    "import statsmodels.api as sm\n",
    "from statsmodels.formula.api import ols \n",
    "\n",
    "target = 'Total_GHGs_kilotonne'\n",
    "target = 'Total_co2'\n",
    "select_list = []\n",
    "\n",
    "for i in range(K):\n",
    "    predictors = pairs[i]\n",
    "    formula=\"{}~{}\".format(target,\"+\".join(predictors))  \n",
    "#     print(formula)\n",
    "    aic=ols(formula=formula,data=standard_data).fit().aic \n",
    "    bic=ols(formula=formula,data=standard_data).fit().bic\n",
    "    formula_select = [formula,aic,bic]\n",
    "    select_list.append(formula_select)\n",
    "    print(formula,aic)\n",
    "min_aic = min([i[1] for i in select_list] )   \n",
    "min_bic = min([i[2] for i in select_list] )"
   ]
  },
  {
   "cell_type": "code",
   "execution_count": 12,
   "id": "cosmetic-algebra",
   "metadata": {},
   "outputs": [
    {
     "name": "stdout",
     "output_type": "stream",
     "text": [
      "smallest aic 45.202001961691714 Total_co2~Petrol_fraction+Total_Cars\n",
      "smallest bic 48.976291575756164 Total_co2~Petrol_fraction+Total_Cars\n"
     ]
    }
   ],
   "source": [
    "for i in select_list:\n",
    "    if i[1] == min_aic:\n",
    "        print('smallest aic',min_aic,i[0])\n",
    "    if i[2] == min_bic:\n",
    "        print('smallest bic',min_bic,i[0])     "
   ]
  },
  {
   "cell_type": "code",
   "execution_count": 13,
   "id": "neither-issue",
   "metadata": {},
   "outputs": [
    {
     "name": "stdout",
     "output_type": "stream",
     "text": [
      "-39.19320190381286 ['Petrol_fraction', 'Total_Cars']\n"
     ]
    },
    {
     "data": {
      "text/plain": [
       "[<matplotlib.lines.Line2D at 0x1b91dc11100>]"
      ]
     },
     "execution_count": 13,
     "metadata": {},
     "output_type": "execute_result"
    },
    {
     "data": {
      "image/png": "[encoded data removed]",
      "text/plain": [
       "<Figure size 432x288 with 1 Axes>"
      ]
     },
     "metadata": {
      "needs_background": "light"
     },
     "output_type": "display_data"
    }
   ],
   "source": [
    "print(np.max(Evidence), pairs[np.argmax(Evidence)])\n",
    "plt.plot(Evidence)"
   ]
  },
  {
   "cell_type": "code",
   "execution_count": 14,
   "id": "incorporated-sphere",
   "metadata": {},
   "outputs": [
    {
     "data": {
      "text/html": [
       "<div>\n",
       "<style scoped>\n",
       "    .dataframe tbody tr th:only-of-type {\n",
       "        vertical-align: middle;\n",
       "    }\n",
       "\n",
       "    .dataframe tbody tr th {\n",
       "        vertical-align: top;\n",
       "    }\n",
       "\n",
       "    .dataframe thead th {\n",
       "        text-align: right;\n",
       "    }\n",
       "</style>\n",
       "<table border=\"1\" class=\"dataframe\">\n",
       "  <thead>\n",
       "    <tr style=\"text-align: right;\">\n",
       "      <th></th>\n",
       "      <th>Predictors</th>\n",
       "      <th>Evidence</th>\n",
       "    </tr>\n",
       "  </thead>\n",
       "  <tbody>\n",
       "    <tr>\n",
       "      <th>13</th>\n",
       "      <td>[Petrol_fraction, Total_Cars]</td>\n",
       "      <td>-39.193202</td>\n",
       "    </tr>\n",
       "    <tr>\n",
       "      <th>9</th>\n",
       "      <td>[Total_Cars, UK_Population]</td>\n",
       "      <td>-39.218405</td>\n",
       "    </tr>\n",
       "    <tr>\n",
       "      <th>12</th>\n",
       "      <td>[P_D, Petrol_fraction]</td>\n",
       "      <td>-39.239388</td>\n",
       "    </tr>\n",
       "    <tr>\n",
       "      <th>11</th>\n",
       "      <td>[P_D, UK_Population]</td>\n",
       "      <td>-39.279928</td>\n",
       "    </tr>\n",
       "    <tr>\n",
       "      <th>0</th>\n",
       "      <td>[All_EV, EV_fraction]</td>\n",
       "      <td>-39.557189</td>\n",
       "    </tr>\n",
       "  </tbody>\n",
       "</table>\n",
       "</div>"
      ],
      "text/plain": [
       "                       Predictors   Evidence\n",
       "13  [Petrol_fraction, Total_Cars] -39.193202\n",
       "9     [Total_Cars, UK_Population] -39.218405\n",
       "12         [P_D, Petrol_fraction] -39.239388\n",
       "11           [P_D, UK_Population] -39.279928\n",
       "0           [All_EV, EV_fraction] -39.557189"
      ]
     },
     "execution_count": 14,
     "metadata": {},
     "output_type": "execute_result"
    }
   ],
   "source": [
    "#Evidence_table = pd.DataFrame([np.array(pairs),Evidence], columns = ['Evidence', 'Predictors'])\n",
    "model_evidence = pd.DataFrame([[a,b] for a,b in zip(pairs,Evidence)], \n",
    "                              columns = ['Predictors','Evidence']).sort_values('Evidence', axis = 0, \n",
    "                                                                               ascending = False)\n",
    "model_evidence.head()"
   ]
  },
  {
   "cell_type": "code",
   "execution_count": 15,
   "id": "raising-antibody",
   "metadata": {},
   "outputs": [
    {
     "data": {
      "text/html": [
       "<table class=\"simpletable\">\n",
       "<caption>OLS Regression Results</caption>\n",
       "<tr>\n",
       "  <th>Dep. Variable:</th>        <td>Total_co2</td>    <th>  R-squared:         </th> <td>   0.736</td>\n",
       "</tr>\n",
       "<tr>\n",
       "  <th>Model:</th>                   <td>OLS</td>       <th>  Adj. R-squared:    </th> <td>   0.713</td>\n",
       "</tr>\n",
       "<tr>\n",
       "  <th>Method:</th>             <td>Least Squares</td>  <th>  F-statistic:       </th> <td>   31.99</td>\n",
       "</tr>\n",
       "<tr>\n",
       "  <th>Date:</th>             <td>Tue, 09 Mar 2021</td> <th>  Prob (F-statistic):</th> <td>2.27e-07</td>\n",
       "</tr>\n",
       "<tr>\n",
       "  <th>Time:</th>                 <td>21:24:35</td>     <th>  Log-Likelihood:    </th> <td> -19.601</td>\n",
       "</tr>\n",
       "<tr>\n",
       "  <th>No. Observations:</th>      <td>    26</td>      <th>  AIC:               </th> <td>   45.20</td>\n",
       "</tr>\n",
       "<tr>\n",
       "  <th>Df Residuals:</th>          <td>    23</td>      <th>  BIC:               </th> <td>   48.98</td>\n",
       "</tr>\n",
       "<tr>\n",
       "  <th>Df Model:</th>              <td>     2</td>      <th>                     </th>     <td> </td>   \n",
       "</tr>\n",
       "<tr>\n",
       "  <th>Covariance Type:</th>      <td>nonrobust</td>    <th>                     </th>     <td> </td>   \n",
       "</tr>\n",
       "</table>\n",
       "<table class=\"simpletable\">\n",
       "<tr>\n",
       "         <td></td>            <th>coef</th>     <th>std err</th>      <th>t</th>      <th>P>|t|</th>  <th>[0.025</th>    <th>0.975]</th>  \n",
       "</tr>\n",
       "<tr>\n",
       "  <th>const</th>           <td>  -6.8e-16</td> <td>    0.107</td> <td>-6.34e-15</td> <td> 1.000</td> <td>   -0.222</td> <td>    0.222</td>\n",
       "</tr>\n",
       "<tr>\n",
       "  <th>Total_Cars</th>      <td>    2.8979</td> <td>    0.417</td> <td>    6.943</td> <td> 0.000</td> <td>    2.034</td> <td>    3.761</td>\n",
       "</tr>\n",
       "<tr>\n",
       "  <th>Petrol_fraction</th> <td>    3.2265</td> <td>    0.417</td> <td>    7.730</td> <td> 0.000</td> <td>    2.363</td> <td>    4.090</td>\n",
       "</tr>\n",
       "</table>\n",
       "<table class=\"simpletable\">\n",
       "<tr>\n",
       "  <th>Omnibus:</th>       <td> 1.280</td> <th>  Durbin-Watson:     </th> <td>   0.699</td>\n",
       "</tr>\n",
       "<tr>\n",
       "  <th>Prob(Omnibus):</th> <td> 0.527</td> <th>  Jarque-Bera (JB):  </th> <td>   1.061</td>\n",
       "</tr>\n",
       "<tr>\n",
       "  <th>Skew:</th>          <td> 0.280</td> <th>  Prob(JB):          </th> <td>   0.588</td>\n",
       "</tr>\n",
       "<tr>\n",
       "  <th>Kurtosis:</th>      <td> 2.184</td> <th>  Cond. No.          </th> <td>    7.65</td>\n",
       "</tr>\n",
       "</table><br/><br/>Notes:<br/>[1] Standard Errors assume that the covariance matrix of the errors is correctly specified."
      ],
      "text/plain": [
       "<class 'statsmodels.iolib.summary.Summary'>\n",
       "\"\"\"\n",
       "                            OLS Regression Results                            \n",
       "==============================================================================\n",
       "Dep. Variable:              Total_co2   R-squared:                       0.736\n",
       "Model:                            OLS   Adj. R-squared:                  0.713\n",
       "Method:                 Least Squares   F-statistic:                     31.99\n",
       "Date:                Tue, 09 Mar 2021   Prob (F-statistic):           2.27e-07\n",
       "Time:                        21:24:35   Log-Likelihood:                -19.601\n",
       "No. Observations:                  26   AIC:                             45.20\n",
       "Df Residuals:                      23   BIC:                             48.98\n",
       "Df Model:                           2                                         \n",
       "Covariance Type:            nonrobust                                         \n",
       "===================================================================================\n",
       "                      coef    std err          t      P>|t|      [0.025      0.975]\n",
       "-----------------------------------------------------------------------------------\n",
       "const             -6.8e-16      0.107  -6.34e-15      1.000      -0.222       0.222\n",
       "Total_Cars          2.8979      0.417      6.943      0.000       2.034       3.761\n",
       "Petrol_fraction     3.2265      0.417      7.730      0.000       2.363       4.090\n",
       "==============================================================================\n",
       "Omnibus:                        1.280   Durbin-Watson:                   0.699\n",
       "Prob(Omnibus):                  0.527   Jarque-Bera (JB):                1.061\n",
       "Skew:                           0.280   Prob(JB):                        0.588\n",
       "Kurtosis:                       2.184   Cond. No.                         7.65\n",
       "==============================================================================\n",
       "\n",
       "Notes:\n",
       "[1] Standard Errors assume that the covariance matrix of the errors is correctly specified.\n",
       "\"\"\""
      ]
     },
     "execution_count": 15,
     "metadata": {},
     "output_type": "execute_result"
    }
   ],
   "source": [
    "import statsmodels.api as sm\n",
    "predictors = ['Total_Cars', 'Petrol_fraction']\n",
    "# predictors = ['UK_Population', 'All_EV']\n",
    "# predictors = ['UK_Population', 'P_D']\n",
    "# predictors = ['UK_Population', 'EV_fraction']\n",
    "y = standard_data['Total_co2']\n",
    "# y = standard_data['Total_GHGs_kilotonne']\n",
    "X = standard_data[predictors]\n",
    "X = sm.add_constant(X) \n",
    "model = sm.OLS(y, X).fit()\n",
    "model.summary()"
   ]
  },
  {
   "cell_type": "markdown",
   "id": "athletic-disclaimer",
   "metadata": {},
   "source": [
    "version 2 model"
   ]
  },
  {
   "cell_type": "code",
   "execution_count": 16,
   "id": "described-watts",
   "metadata": {},
   "outputs": [
    {
     "data": {
      "text/html": [
       "<table class=\"simpletable\">\n",
       "<caption>OLS Regression Results</caption>\n",
       "<tr>\n",
       "  <th>Dep. Variable:</th>        <td>Total_co2</td>    <th>  R-squared:         </th> <td>   0.605</td>\n",
       "</tr>\n",
       "<tr>\n",
       "  <th>Model:</th>                   <td>OLS</td>       <th>  Adj. R-squared:    </th> <td>   0.571</td>\n",
       "</tr>\n",
       "<tr>\n",
       "  <th>Method:</th>             <td>Least Squares</td>  <th>  F-statistic:       </th> <td>   17.64</td>\n",
       "</tr>\n",
       "<tr>\n",
       "  <th>Date:</th>             <td>Tue, 09 Mar 2021</td> <th>  Prob (F-statistic):</th> <td>2.27e-05</td>\n",
       "</tr>\n",
       "<tr>\n",
       "  <th>Time:</th>                 <td>21:24:35</td>     <th>  Log-Likelihood:    </th> <td> -24.806</td>\n",
       "</tr>\n",
       "<tr>\n",
       "  <th>No. Observations:</th>      <td>    26</td>      <th>  AIC:               </th> <td>   55.61</td>\n",
       "</tr>\n",
       "<tr>\n",
       "  <th>Df Residuals:</th>          <td>    23</td>      <th>  BIC:               </th> <td>   59.39</td>\n",
       "</tr>\n",
       "<tr>\n",
       "  <th>Df Model:</th>              <td>     2</td>      <th>                     </th>     <td> </td>   \n",
       "</tr>\n",
       "<tr>\n",
       "  <th>Covariance Type:</th>      <td>nonrobust</td>    <th>                     </th>     <td> </td>   \n",
       "</tr>\n",
       "</table>\n",
       "<table class=\"simpletable\">\n",
       "<tr>\n",
       "        <td></td>           <th>coef</th>     <th>std err</th>      <th>t</th>      <th>P>|t|</th>  <th>[0.025</th>    <th>0.975]</th>  \n",
       "</tr>\n",
       "<tr>\n",
       "  <th>const</th>         <td>  -6.8e-16</td> <td>    0.131</td> <td>-5.19e-15</td> <td> 1.000</td> <td>   -0.271</td> <td>    0.271</td>\n",
       "</tr>\n",
       "<tr>\n",
       "  <th>UK_Population</th> <td>   -2.2372</td> <td>    0.390</td> <td>   -5.744</td> <td> 0.000</td> <td>   -3.043</td> <td>   -1.431</td>\n",
       "</tr>\n",
       "<tr>\n",
       "  <th>P_D</th>           <td>    1.9087</td> <td>    0.390</td> <td>    4.900</td> <td> 0.000</td> <td>    1.103</td> <td>    2.714</td>\n",
       "</tr>\n",
       "</table>\n",
       "<table class=\"simpletable\">\n",
       "<tr>\n",
       "  <th>Omnibus:</th>       <td> 1.936</td> <th>  Durbin-Watson:     </th> <td>   0.468</td>\n",
       "</tr>\n",
       "<tr>\n",
       "  <th>Prob(Omnibus):</th> <td> 0.380</td> <th>  Jarque-Bera (JB):  </th> <td>   1.290</td>\n",
       "</tr>\n",
       "<tr>\n",
       "  <th>Skew:</th>          <td>-0.282</td> <th>  Prob(JB):          </th> <td>   0.525</td>\n",
       "</tr>\n",
       "<tr>\n",
       "  <th>Kurtosis:</th>      <td> 2.066</td> <th>  Cond. No.          </th> <td>    5.77</td>\n",
       "</tr>\n",
       "</table><br/><br/>Notes:<br/>[1] Standard Errors assume that the covariance matrix of the errors is correctly specified."
      ],
      "text/plain": [
       "<class 'statsmodels.iolib.summary.Summary'>\n",
       "\"\"\"\n",
       "                            OLS Regression Results                            \n",
       "==============================================================================\n",
       "Dep. Variable:              Total_co2   R-squared:                       0.605\n",
       "Model:                            OLS   Adj. R-squared:                  0.571\n",
       "Method:                 Least Squares   F-statistic:                     17.64\n",
       "Date:                Tue, 09 Mar 2021   Prob (F-statistic):           2.27e-05\n",
       "Time:                        21:24:35   Log-Likelihood:                -24.806\n",
       "No. Observations:                  26   AIC:                             55.61\n",
       "Df Residuals:                      23   BIC:                             59.39\n",
       "Df Model:                           2                                         \n",
       "Covariance Type:            nonrobust                                         \n",
       "=================================================================================\n",
       "                    coef    std err          t      P>|t|      [0.025      0.975]\n",
       "---------------------------------------------------------------------------------\n",
       "const           -6.8e-16      0.131  -5.19e-15      1.000      -0.271       0.271\n",
       "UK_Population    -2.2372      0.390     -5.744      0.000      -3.043      -1.431\n",
       "P_D               1.9087      0.390      4.900      0.000       1.103       2.714\n",
       "==============================================================================\n",
       "Omnibus:                        1.936   Durbin-Watson:                   0.468\n",
       "Prob(Omnibus):                  0.380   Jarque-Bera (JB):                1.290\n",
       "Skew:                          -0.282   Prob(JB):                        0.525\n",
       "Kurtosis:                       2.066   Cond. No.                         5.77\n",
       "==============================================================================\n",
       "\n",
       "Notes:\n",
       "[1] Standard Errors assume that the covariance matrix of the errors is correctly specified.\n",
       "\"\"\""
      ]
     },
     "execution_count": 16,
     "metadata": {},
     "output_type": "execute_result"
    }
   ],
   "source": [
    "import statsmodels.api as sm\n",
    "# predictors = ['Total_Cars', 'Petrol_fraction']\n",
    "# predictors = ['UK_Population', 'All_EV']\n",
    "predictors = ['UK_Population', 'P_D']\n",
    "# predictors = ['UK_Population', 'EV_fraction']\n",
    "y = standard_data['Total_co2']\n",
    "# y = standard_data['Total_GHGs_kilotonne']\n",
    "X = standard_data[predictors]\n",
    "X = sm.add_constant(X) \n",
    "model = sm.OLS(y, X).fit()\n",
    "model.summary()"
   ]
  },
  {
   "cell_type": "markdown",
   "id": "soviet-manhattan",
   "metadata": {},
   "source": [
    "# prediction part"
   ]
  },
  {
   "cell_type": "markdown",
   "id": "simple-chart",
   "metadata": {},
   "source": [
    "the linear regression is \n",
    "\n",
    "Y = Total_co2\n",
    "\n",
    "Intercept =-6.8e-16\n",
    "\n",
    "UK_Population = -2.2372\n",
    "\n",
    "P_D = 1.9087\t\n",
    "\n",
    "some assumption:\n",
    "\n",
    "1.the linear relationship keep unchangeable during the whole period\n",
    "\n",
    "2.the number of cars/population keeps the trend in the future (using arima model)\n",
    "\n",
    "3.the ratio of EV increase linearly\n"
   ]
  },
  {
   "cell_type": "code",
   "execution_count": 17,
   "id": "impressed-findings",
   "metadata": {},
   "outputs": [
    {
     "name": "stderr",
     "output_type": "stream",
     "text": [
      "<ipython-input-17-fed943126d2c>:4: FutureWarning: The pandas.datetime class is deprecated and will be removed from pandas in a future version. Import from datetime module instead.\n",
      "  from pandas import datetime\n"
     ]
    },
    {
     "data": {
      "text/plain": [
       "[<matplotlib.lines.Line2D at 0x1b91dd3a100>]"
      ]
     },
     "execution_count": 17,
     "metadata": {},
     "output_type": "execute_result"
    },
    {
     "data": {
      "image/png": "[encoded data removed]",
      "text/plain": [
       "<Figure size 432x288 with 1 Axes>"
      ]
     },
     "metadata": {
      "needs_background": "light"
     },
     "output_type": "display_data"
    }
   ],
   "source": [
    "import pandas as pd\n",
    "import numpy as np\n",
    "# from pandas import read_csv\n",
    "from pandas import datetime\n",
    "import matplotlib.pyplot as plt\n",
    "from pandas.plotting import autocorrelation_plot\n",
    "import numpy as np, pandas as pd\n",
    "from statsmodels.graphics.tsaplots import plot_acf, plot_pacf\n",
    "import matplotlib.pyplot as plt\n",
    "\n",
    "main = pd.read_csv('data/data_quaterly.csv')\n",
    "\n",
    "\n",
    "main['time']= pd.to_datetime(main['Quarter'].str.replace(' ','-'))#.replace()pd.to_datetime(df['Quarter'])\n",
    "main.head()\n",
    "main = main.set_index('time')\n",
    "# main[' Cars'] = main[' Cars'].str.replace('..','')\n",
    "cars = main['Total']\n",
    "cars = cars.fillna(method = 'ffill').dropna(axis=0)\n",
    "cars = cars[~cars.isin(['..'])]\n",
    "cars = cars.astype('float')\n",
    "\n",
    "plt.plot(cars)\n",
    "\n",
    "# cars_num.columns\n",
    "# print(time.head())\n",
    "\n",
    "#upward trend and some fluctuation\n",
    "\n",
    "# autocorrelation_plot(cars)"
   ]
  },
  {
   "cell_type": "code",
   "execution_count": 18,
   "id": "technological-upper",
   "metadata": {},
   "outputs": [
    {
     "name": "stdout",
     "output_type": "stream",
     "text": [
      "ADF Statistic: -2.719409\n",
      "p-value: 0.070739\n"
     ]
    },
    {
     "data": {
      "image/png": "[encoded data removed]",
      "text/plain": [
       "<Figure size 432x288 with 1 Axes>"
      ]
     },
     "metadata": {
      "needs_background": "light"
     },
     "output_type": "display_data"
    }
   ],
   "source": [
    "# check the stationarity\n",
    "from statsmodels.tsa.stattools import adfuller,arma_order_select_ic\n",
    "from numpy import log\n",
    "car_diff_4 = cars.diff(4).dropna()\n",
    "car_diff = cars.diff()[1:]\n",
    "\n",
    "car_diff_1 = car_diff.diff().dropna()\n",
    "car_diff_4 = car_diff.diff(4).dropna()\n",
    "plt.plot(car_diff)\n",
    "plt.plot(car_diff_1)\n",
    "plt.plot(car_diff_4)\n",
    "# print(car_diff)\n",
    "# print(cars)\n",
    "\n",
    "result = adfuller(car_diff)\n",
    "print('ADF Statistic: %f' % result[0])\n",
    "print('p-value: %f' % result[1])\n",
    "\n",
    "# The ADF Statistic is far from the critical values and the p-value is greater than the threshold (0.05). Thus, we can conclude that the time series is not stationary.\n"
   ]
  },
  {
   "cell_type": "code",
   "execution_count": 19,
   "id": "meaning-being",
   "metadata": {},
   "outputs": [
    {
     "name": "stdout",
     "output_type": "stream",
     "text": [
      "Performing stepwise search to minimize aic\n",
      " ARIMA(1,1,1)(0,0,0)[0] intercept   : AIC=1381.784, Time=0.33 sec\n",
      " ARIMA(0,1,0)(0,0,0)[0] intercept   : AIC=1385.704, Time=0.02 sec\n",
      " ARIMA(1,1,0)(0,0,0)[0] intercept   : AIC=1385.998, Time=0.11 sec\n",
      " ARIMA(0,1,1)(0,0,0)[0] intercept   : AIC=1384.719, Time=0.19 sec\n",
      " ARIMA(0,1,0)(0,0,0)[0]             : AIC=1417.957, Time=0.03 sec\n",
      " ARIMA(2,1,1)(0,0,0)[0] intercept   : AIC=1383.495, Time=0.44 sec\n",
      " ARIMA(1,1,2)(0,0,0)[0] intercept   : AIC=1386.184, Time=0.42 sec\n",
      " ARIMA(0,1,2)(0,0,0)[0] intercept   : AIC=1384.191, Time=0.18 sec\n",
      " ARIMA(2,1,0)(0,0,0)[0] intercept   : AIC=1382.622, Time=0.16 sec\n",
      " ARIMA(2,1,2)(0,0,0)[0] intercept   : AIC=1355.054, Time=0.62 sec\n",
      " ARIMA(3,1,2)(0,0,0)[0] intercept   : AIC=1356.413, Time=0.70 sec\n",
      " ARIMA(2,1,3)(0,0,0)[0] intercept   : AIC=1358.920, Time=0.84 sec\n",
      " ARIMA(1,1,3)(0,0,0)[0] intercept   : AIC=1370.111, Time=0.49 sec\n",
      " ARIMA(3,1,1)(0,0,0)[0] intercept   : AIC=1358.661, Time=0.63 sec\n",
      " ARIMA(3,1,3)(0,0,0)[0] intercept   : AIC=1356.776, Time=0.72 sec\n",
      " ARIMA(2,1,2)(0,0,0)[0]             : AIC=1386.030, Time=0.32 sec\n",
      "\n",
      "Best model:  ARIMA(2,1,2)(0,0,0)[0] intercept\n",
      "Total fit time: 6.211 seconds\n",
      "                               SARIMAX Results                                \n",
      "==============================================================================\n",
      "Dep. Variable:                      y   No. Observations:                  104\n",
      "Model:               SARIMAX(2, 1, 2)   Log Likelihood                -671.527\n",
      "Date:                Tue, 09 Mar 2021   AIC                           1355.054\n",
      "Time:                        21:24:43   BIC                           1370.862\n",
      "Sample:                             0   HQIC                          1361.457\n",
      "                                - 104                                         \n",
      "Covariance Type:                  opg                                         \n",
      "==============================================================================\n",
      "                 coef    std err          z      P>|z|      [0.025      0.975]\n",
      "------------------------------------------------------------------------------\n",
      "intercept    199.7103     30.495      6.549      0.000     139.942     259.479\n",
      "ar.L1          0.1267      0.048      2.613      0.009       0.032       0.222\n",
      "ar.L2         -0.9297      0.048    -19.224      0.000      -1.024      -0.835\n",
      "ma.L1         -0.2995      0.093     -3.217      0.001      -0.482      -0.117\n",
      "ma.L2          0.8545      0.082     10.471      0.000       0.695       1.014\n",
      "sigma2      2.568e+04   3085.046      8.325      0.000    1.96e+04    3.17e+04\n",
      "===================================================================================\n",
      "Ljung-Box (L1) (Q):                   0.28   Jarque-Bera (JB):                22.79\n",
      "Prob(Q):                              0.59   Prob(JB):                         0.00\n",
      "Heteroskedasticity (H):               0.50   Skew:                             0.70\n",
      "Prob(H) (two-sided):                  0.05   Kurtosis:                         4.83\n",
      "===================================================================================\n",
      "\n",
      "Warnings:\n",
      "[1] Covariance matrix calculated using the outer product of gradients (complex-step).\n"
     ]
    },
    {
     "name": "stderr",
     "output_type": "stream",
     "text": [
      "D:\\anaconda\\lib\\site-packages\\statsmodels\\tsa\\arima_model.py:472: FutureWarning: \n",
      "statsmodels.tsa.arima_model.ARMA and statsmodels.tsa.arima_model.ARIMA have\n",
      "been deprecated in favor of statsmodels.tsa.arima.model.ARIMA (note the .\n",
      "between arima and model) and\n",
      "statsmodels.tsa.SARIMAX. These will be removed after the 0.12 release.\n",
      "\n",
      "statsmodels.tsa.arima.model.ARIMA makes use of the statespace framework and\n",
      "is both well tested and maintained.\n",
      "\n",
      "To silence this warning and continue using ARMA and ARIMA until they are\n",
      "removed, use:\n",
      "\n",
      "import warnings\n",
      "warnings.filterwarnings('ignore', 'statsmodels.tsa.arima_model.ARMA',\n",
      "                        FutureWarning)\n",
      "warnings.filterwarnings('ignore', 'statsmodels.tsa.arima_model.ARIMA',\n",
      "                        FutureWarning)\n",
      "\n",
      "  warnings.warn(ARIMA_DEPRECATION_WARN, FutureWarning)\n",
      "D:\\anaconda\\lib\\site-packages\\statsmodels\\tsa\\arima_model.py:472: FutureWarning: \n",
      "statsmodels.tsa.arima_model.ARMA and statsmodels.tsa.arima_model.ARIMA have\n",
      "been deprecated in favor of statsmodels.tsa.arima.model.ARIMA (note the .\n",
      "between arima and model) and\n",
      "statsmodels.tsa.SARIMAX. These will be removed after the 0.12 release.\n",
      "\n",
      "statsmodels.tsa.arima.model.ARIMA makes use of the statespace framework and\n",
      "is both well tested and maintained.\n",
      "\n",
      "To silence this warning and continue using ARMA and ARIMA until they are\n",
      "removed, use:\n",
      "\n",
      "import warnings\n",
      "warnings.filterwarnings('ignore', 'statsmodels.tsa.arima_model.ARMA',\n",
      "                        FutureWarning)\n",
      "warnings.filterwarnings('ignore', 'statsmodels.tsa.arima_model.ARIMA',\n",
      "                        FutureWarning)\n",
      "\n",
      "  warnings.warn(ARIMA_DEPRECATION_WARN, FutureWarning)\n",
      "D:\\anaconda\\lib\\site-packages\\statsmodels\\tsa\\arima_model.py:472: FutureWarning: \n",
      "statsmodels.tsa.arima_model.ARMA and statsmodels.tsa.arima_model.ARIMA have\n",
      "been deprecated in favor of statsmodels.tsa.arima.model.ARIMA (note the .\n",
      "between arima and model) and\n",
      "statsmodels.tsa.SARIMAX. These will be removed after the 0.12 release.\n",
      "\n",
      "statsmodels.tsa.arima.model.ARIMA makes use of the statespace framework and\n",
      "is both well tested and maintained.\n",
      "\n",
      "To silence this warning and continue using ARMA and ARIMA until they are\n",
      "removed, use:\n",
      "\n",
      "import warnings\n",
      "warnings.filterwarnings('ignore', 'statsmodels.tsa.arima_model.ARMA',\n",
      "                        FutureWarning)\n",
      "warnings.filterwarnings('ignore', 'statsmodels.tsa.arima_model.ARIMA',\n",
      "                        FutureWarning)\n",
      "\n",
      "  warnings.warn(ARIMA_DEPRECATION_WARN, FutureWarning)\n",
      "D:\\anaconda\\lib\\site-packages\\statsmodels\\tsa\\arima_model.py:472: FutureWarning: \n",
      "statsmodels.tsa.arima_model.ARMA and statsmodels.tsa.arima_model.ARIMA have\n",
      "been deprecated in favor of statsmodels.tsa.arima.model.ARIMA (note the .\n",
      "between arima and model) and\n",
      "statsmodels.tsa.SARIMAX. These will be removed after the 0.12 release.\n",
      "\n",
      "statsmodels.tsa.arima.model.ARIMA makes use of the statespace framework and\n",
      "is both well tested and maintained.\n",
      "\n",
      "To silence this warning and continue using ARMA and ARIMA until they are\n",
      "removed, use:\n",
      "\n",
      "import warnings\n",
      "warnings.filterwarnings('ignore', 'statsmodels.tsa.arima_model.ARMA',\n",
      "                        FutureWarning)\n",
      "warnings.filterwarnings('ignore', 'statsmodels.tsa.arima_model.ARIMA',\n",
      "                        FutureWarning)\n",
      "\n",
      "  warnings.warn(ARIMA_DEPRECATION_WARN, FutureWarning)\n",
      "D:\\anaconda\\lib\\site-packages\\statsmodels\\tsa\\arima_model.py:472: FutureWarning: \n",
      "statsmodels.tsa.arima_model.ARMA and statsmodels.tsa.arima_model.ARIMA have\n",
      "been deprecated in favor of statsmodels.tsa.arima.model.ARIMA (note the .\n",
      "between arima and model) and\n",
      "statsmodels.tsa.SARIMAX. These will be removed after the 0.12 release.\n",
      "\n",
      "statsmodels.tsa.arima.model.ARIMA makes use of the statespace framework and\n",
      "is both well tested and maintained.\n",
      "\n",
      "To silence this warning and continue using ARMA and ARIMA until they are\n",
      "removed, use:\n",
      "\n",
      "import warnings\n",
      "warnings.filterwarnings('ignore', 'statsmodels.tsa.arima_model.ARMA',\n",
      "                        FutureWarning)\n",
      "warnings.filterwarnings('ignore', 'statsmodels.tsa.arima_model.ARIMA',\n",
      "                        FutureWarning)\n",
      "\n",
      "  warnings.warn(ARIMA_DEPRECATION_WARN, FutureWarning)\n",
      "D:\\anaconda\\lib\\site-packages\\statsmodels\\tsa\\arima_model.py:472: FutureWarning: \n",
      "statsmodels.tsa.arima_model.ARMA and statsmodels.tsa.arima_model.ARIMA have\n",
      "been deprecated in favor of statsmodels.tsa.arima.model.ARIMA (note the .\n",
      "between arima and model) and\n",
      "statsmodels.tsa.SARIMAX. These will be removed after the 0.12 release.\n",
      "\n",
      "statsmodels.tsa.arima.model.ARIMA makes use of the statespace framework and\n",
      "is both well tested and maintained.\n",
      "\n",
      "To silence this warning and continue using ARMA and ARIMA until they are\n",
      "removed, use:\n",
      "\n",
      "import warnings\n",
      "warnings.filterwarnings('ignore', 'statsmodels.tsa.arima_model.ARMA',\n",
      "                        FutureWarning)\n",
      "warnings.filterwarnings('ignore', 'statsmodels.tsa.arima_model.ARIMA',\n",
      "                        FutureWarning)\n",
      "\n",
      "  warnings.warn(ARIMA_DEPRECATION_WARN, FutureWarning)\n",
      "D:\\anaconda\\lib\\site-packages\\statsmodels\\tsa\\arima_model.py:472: FutureWarning: \n",
      "statsmodels.tsa.arima_model.ARMA and statsmodels.tsa.arima_model.ARIMA have\n",
      "been deprecated in favor of statsmodels.tsa.arima.model.ARIMA (note the .\n",
      "between arima and model) and\n",
      "statsmodels.tsa.SARIMAX. These will be removed after the 0.12 release.\n",
      "\n",
      "statsmodels.tsa.arima.model.ARIMA makes use of the statespace framework and\n",
      "is both well tested and maintained.\n",
      "\n",
      "To silence this warning and continue using ARMA and ARIMA until they are\n",
      "removed, use:\n",
      "\n",
      "import warnings\n",
      "warnings.filterwarnings('ignore', 'statsmodels.tsa.arima_model.ARMA',\n",
      "                        FutureWarning)\n",
      "warnings.filterwarnings('ignore', 'statsmodels.tsa.arima_model.ARIMA',\n",
      "                        FutureWarning)\n",
      "\n",
      "  warnings.warn(ARIMA_DEPRECATION_WARN, FutureWarning)\n",
      "D:\\anaconda\\lib\\site-packages\\statsmodels\\tsa\\arima_model.py:472: FutureWarning: \n",
      "statsmodels.tsa.arima_model.ARMA and statsmodels.tsa.arima_model.ARIMA have\n",
      "been deprecated in favor of statsmodels.tsa.arima.model.ARIMA (note the .\n",
      "between arima and model) and\n",
      "statsmodels.tsa.SARIMAX. These will be removed after the 0.12 release.\n",
      "\n",
      "statsmodels.tsa.arima.model.ARIMA makes use of the statespace framework and\n",
      "is both well tested and maintained.\n",
      "\n",
      "To silence this warning and continue using ARMA and ARIMA until they are\n",
      "removed, use:\n",
      "\n",
      "import warnings\n",
      "warnings.filterwarnings('ignore', 'statsmodels.tsa.arima_model.ARMA',\n",
      "                        FutureWarning)\n",
      "warnings.filterwarnings('ignore', 'statsmodels.tsa.arima_model.ARIMA',\n",
      "                        FutureWarning)\n",
      "\n",
      "  warnings.warn(ARIMA_DEPRECATION_WARN, FutureWarning)\n",
      "D:\\anaconda\\lib\\site-packages\\statsmodels\\tsa\\arima_model.py:472: FutureWarning: \n",
      "statsmodels.tsa.arima_model.ARMA and statsmodels.tsa.arima_model.ARIMA have\n",
      "been deprecated in favor of statsmodels.tsa.arima.model.ARIMA (note the .\n",
      "between arima and model) and\n",
      "statsmodels.tsa.SARIMAX. These will be removed after the 0.12 release.\n",
      "\n",
      "statsmodels.tsa.arima.model.ARIMA makes use of the statespace framework and\n",
      "is both well tested and maintained.\n",
      "\n",
      "To silence this warning and continue using ARMA and ARIMA until they are\n",
      "removed, use:\n",
      "\n",
      "import warnings\n",
      "warnings.filterwarnings('ignore', 'statsmodels.tsa.arima_model.ARMA',\n",
      "                        FutureWarning)\n",
      "warnings.filterwarnings('ignore', 'statsmodels.tsa.arima_model.ARIMA',\n",
      "                        FutureWarning)\n",
      "\n",
      "  warnings.warn(ARIMA_DEPRECATION_WARN, FutureWarning)\n"
     ]
    },
    {
     "data": {
      "text/plain": [
       "{'aic':              0            1            2            3\n",
       " 0  1385.703520  1385.337291  1385.323147  1374.922242\n",
       " 1  1386.383252  1386.357004  1387.322954  1362.424260\n",
       " 2  1383.470142  1384.595223  1355.597960  1360.922279\n",
       " 3  1379.445912  1360.572526  1346.426309  1341.520726,\n",
       " 'aic_min_order': (3, 3)}"
      ]
     },
     "execution_count": 19,
     "metadata": {},
     "output_type": "execute_result"
    }
   ],
   "source": [
    "from statsmodels.tsa.arima_model import ARIMA\n",
    "import pmdarima as pm\n",
    "\n",
    "\n",
    "model = pm.auto_arima(cars, start_p=1, start_q=1,\n",
    "                      test='adf',       # use adftest to find optimal 'd'\n",
    "                      max_p=3, max_q=3, # maximum p and q\n",
    "                      m=1,              # frequency of series\n",
    "                      d=1,           # let model determine 'd'\n",
    "                      seasonal=False,   # No Seasonality\n",
    "                      start_P=0, \n",
    "                      D=0, \n",
    "                      trace=True,\n",
    "                      error_action='ignore',  \n",
    "                      suppress_warnings=True, \n",
    "                      stepwise=True)\n",
    "\n",
    "print(model.summary())\n",
    "#Best model:  ARIMA(3,2,0) #p,d,q\n",
    "#(1,1,0)\n",
    "arma_order_select_ic(car_diff, max_ar=3, max_ma=3, ic='aic', trend='c', model_kw=None, fit_kw=None)"
   ]
  },
  {
   "cell_type": "code",
   "execution_count": 20,
   "id": "elect-student",
   "metadata": {},
   "outputs": [
    {
     "data": {
      "image/png": "[encoded data removed]",
      "text/plain": [
       "<Figure size 432x288 with 1 Axes>"
      ]
     },
     "execution_count": 20,
     "metadata": {},
     "output_type": "execute_result"
    },
    {
     "data": {
      "image/png": "[encoded data removed]",
      "text/plain": [
       "<Figure size 432x288 with 1 Axes>"
      ]
     },
     "metadata": {
      "needs_background": "light"
     },
     "output_type": "display_data"
    },
    {
     "data": {
      "image/png": "[encoded data removed]",
      "text/plain": [
       "<Figure size 432x288 with 1 Axes>"
      ]
     },
     "metadata": {
      "needs_background": "light"
     },
     "output_type": "display_data"
    }
   ],
   "source": [
    "# plot_acf(cars)\n",
    "# plot_pacf(cars)\n",
    "plot_acf(car_diff)\n",
    "plot_pacf(car_diff)\n",
    "# plot_acf(car_diff_1)\n",
    "# plot_pacf(car_diff_1)\n",
    "# plot_acf(car_diff_4)\n",
    "# plot_pacf(car_diff_4)"
   ]
  },
  {
   "cell_type": "code",
   "execution_count": 21,
   "id": "communist-beijing",
   "metadata": {},
   "outputs": [
    {
     "name": "stdout",
     "output_type": "stream",
     "text": [
      "time\n",
      "2019-07-01    36616.96\n",
      "2019-10-01    36513.18\n",
      "2020-01-01    36210.81\n",
      "2020-04-01    36183.84\n",
      "2020-07-01    36568.83\n",
      "Name: Total, dtype: float64\n"
     ]
    }
   ],
   "source": [
    "print(cars.tail())"
   ]
  },
  {
   "cell_type": "code",
   "execution_count": 22,
   "id": "criminal-samuel",
   "metadata": {},
   "outputs": [
    {
     "name": "stderr",
     "output_type": "stream",
     "text": [
      "D:\\anaconda\\lib\\site-packages\\statsmodels\\tsa\\arima_model.py:472: FutureWarning: \n",
      "statsmodels.tsa.arima_model.ARMA and statsmodels.tsa.arima_model.ARIMA have\n",
      "been deprecated in favor of statsmodels.tsa.arima.model.ARIMA (note the .\n",
      "between arima and model) and\n",
      "statsmodels.tsa.SARIMAX. These will be removed after the 0.12 release.\n",
      "\n",
      "statsmodels.tsa.arima.model.ARIMA makes use of the statespace framework and\n",
      "is both well tested and maintained.\n",
      "\n",
      "To silence this warning and continue using ARMA and ARIMA until they are\n",
      "removed, use:\n",
      "\n",
      "import warnings\n",
      "warnings.filterwarnings('ignore', 'statsmodels.tsa.arima_model.ARMA',\n",
      "                        FutureWarning)\n",
      "warnings.filterwarnings('ignore', 'statsmodels.tsa.arima_model.ARIMA',\n",
      "                        FutureWarning)\n",
      "\n",
      "  warnings.warn(ARIMA_DEPRECATION_WARN, FutureWarning)\n",
      "D:\\anaconda\\lib\\site-packages\\statsmodels\\tsa\\base\\tsa_model.py:524: ValueWarning: No frequency information was provided, so inferred frequency QS-OCT will be used.\n",
      "  warnings.warn('No frequency information was'\n",
      "D:\\anaconda\\lib\\site-packages\\statsmodels\\tsa\\base\\tsa_model.py:524: ValueWarning: No frequency information was provided, so inferred frequency QS-OCT will be used.\n",
      "  warnings.warn('No frequency information was'\n",
      "D:\\anaconda\\lib\\site-packages\\statsmodels\\tsa\\arima_model.py:472: FutureWarning: \n",
      "statsmodels.tsa.arima_model.ARMA and statsmodels.tsa.arima_model.ARIMA have\n",
      "been deprecated in favor of statsmodels.tsa.arima.model.ARIMA (note the .\n",
      "between arima and model) and\n",
      "statsmodels.tsa.SARIMAX. These will be removed after the 0.12 release.\n",
      "\n",
      "statsmodels.tsa.arima.model.ARIMA makes use of the statespace framework and\n",
      "is both well tested and maintained.\n",
      "\n",
      "To silence this warning and continue using ARMA and ARIMA until they are\n",
      "removed, use:\n",
      "\n",
      "import warnings\n",
      "warnings.filterwarnings('ignore', 'statsmodels.tsa.arima_model.ARMA',\n",
      "                        FutureWarning)\n",
      "warnings.filterwarnings('ignore', 'statsmodels.tsa.arima_model.ARIMA',\n",
      "                        FutureWarning)\n",
      "\n",
      "  warnings.warn(ARIMA_DEPRECATION_WARN, FutureWarning)\n"
     ]
    },
    {
     "name": "stdout",
     "output_type": "stream",
     "text": [
      "                             ARIMA Model Results                              \n",
      "==============================================================================\n",
      "Dep. Variable:                D.Total   No. Observations:                  103\n",
      "Model:                 ARIMA(2, 1, 2)   Log Likelihood                -671.799\n",
      "Method:                       css-mle   S.D. of innovations            162.766\n",
      "Date:                Tue, 09 Mar 2021   AIC                           1355.598\n",
      "Time:                        21:24:49   BIC                           1371.406\n",
      "Sample:                    01-01-1995   HQIC                          1362.001\n",
      "                         - 07-01-2020                                         \n",
      "=================================================================================\n",
      "                    coef    std err          z      P>|z|      [0.025      0.975]\n",
      "---------------------------------------------------------------------------------\n",
      "const           124.1749     13.461      9.225      0.000      97.792     150.558\n",
      "ar.L1.D.Total     0.1436      0.049      2.902      0.004       0.047       0.241\n",
      "ar.L2.D.Total    -0.9499      0.038    -25.123      0.000      -1.024      -0.876\n",
      "ma.L1.D.Total    -0.3518      0.101     -3.498      0.000      -0.549      -0.155\n",
      "ma.L2.D.Total     0.8661      0.067     12.860      0.000       0.734       0.998\n",
      "                                    Roots                                    \n",
      "=============================================================================\n",
      "                  Real          Imaginary           Modulus         Frequency\n",
      "-----------------------------------------------------------------------------\n",
      "AR.1            0.0756           -1.0233j            1.0261           -0.2383\n",
      "AR.2            0.0756           +1.0233j            1.0261            0.2383\n",
      "MA.1            0.2031           -1.0551j            1.0745           -0.2197\n",
      "MA.2            0.2031           +1.0551j            1.0745            0.2197\n",
      "-----------------------------------------------------------------------------\n"
     ]
    },
    {
     "data": {
      "image/png": "[encoded data removed]",
      "text/plain": [
       "<Figure size 432x288 with 2 Axes>"
      ]
     },
     "metadata": {
      "needs_background": "light"
     },
     "output_type": "display_data"
    },
    {
     "data": {
      "image/png": "[encoded data removed]",
      "text/plain": [
       "<Figure size 432x288 with 1 Axes>"
      ]
     },
     "metadata": {
      "needs_background": "light"
     },
     "output_type": "display_data"
    },
    {
     "name": "stderr",
     "output_type": "stream",
     "text": [
      "D:\\anaconda\\lib\\site-packages\\statsmodels\\tsa\\arima_model.py:472: FutureWarning: \n",
      "statsmodels.tsa.arima_model.ARMA and statsmodels.tsa.arima_model.ARIMA have\n",
      "been deprecated in favor of statsmodels.tsa.arima.model.ARIMA (note the .\n",
      "between arima and model) and\n",
      "statsmodels.tsa.SARIMAX. These will be removed after the 0.12 release.\n",
      "\n",
      "statsmodels.tsa.arima.model.ARIMA makes use of the statespace framework and\n",
      "is both well tested and maintained.\n",
      "\n",
      "To silence this warning and continue using ARMA and ARIMA until they are\n",
      "removed, use:\n",
      "\n",
      "import warnings\n",
      "warnings.filterwarnings('ignore', 'statsmodels.tsa.arima_model.ARMA',\n",
      "                        FutureWarning)\n",
      "warnings.filterwarnings('ignore', 'statsmodels.tsa.arima_model.ARIMA',\n",
      "                        FutureWarning)\n",
      "\n",
      "  warnings.warn(ARIMA_DEPRECATION_WARN, FutureWarning)\n",
      "D:\\anaconda\\lib\\site-packages\\statsmodels\\tsa\\base\\tsa_model.py:524: ValueWarning: No frequency information was provided, so inferred frequency QS-OCT will be used.\n",
      "  warnings.warn('No frequency information was'\n",
      "D:\\anaconda\\lib\\site-packages\\statsmodels\\tsa\\base\\tsa_model.py:524: ValueWarning: No frequency information was provided, so inferred frequency QS-OCT will be used.\n",
      "  warnings.warn('No frequency information was'\n"
     ]
    },
    {
     "name": "stdout",
     "output_type": "stream",
     "text": [
      "                             ARIMA Model Results                              \n",
      "==============================================================================\n",
      "Dep. Variable:                D.Total   No. Observations:                   68\n",
      "Model:                 ARIMA(1, 1, 0)   Log Likelihood                -459.824\n",
      "Method:                       css-mle   S.D. of innovations            209.123\n",
      "Date:                Tue, 09 Mar 2021   AIC                            925.649\n",
      "Time:                        21:24:50   BIC                            932.307\n",
      "Sample:                    01-01-1995   HQIC                           928.287\n",
      "                         - 10-01-2011                                         \n",
      "=================================================================================\n",
      "                    coef    std err          z      P>|z|      [0.025      0.975]\n",
      "---------------------------------------------------------------------------------\n",
      "const           124.8374     21.444      5.821      0.000      82.807     166.867\n",
      "ar.L1.D.Total    -0.1857      0.120     -1.544      0.123      -0.421       0.050\n",
      "                                    Roots                                    \n",
      "=============================================================================\n",
      "                  Real          Imaginary           Modulus         Frequency\n",
      "-----------------------------------------------------------------------------\n",
      "AR.1           -5.3852           +0.0000j            5.3852            0.5000\n",
      "-----------------------------------------------------------------------------\n"
     ]
    },
    {
     "data": {
      "image/png": "[encoded data removed]",
      "text/plain": [
       "<Figure size 1200x500 with 1 Axes>"
      ]
     },
     "metadata": {
      "needs_background": "light"
     },
     "output_type": "display_data"
    },
    {
     "data": {
      "text/plain": [
       "0.8035850177769495"
      ]
     },
     "execution_count": 22,
     "metadata": {},
     "output_type": "execute_result"
    }
   ],
   "source": [
    "#build the arima\n",
    "from statsmodels.tsa.arima_model import ARIMA\n",
    "\n",
    "# 3,2,0 ARIMA Model\n",
    "model = ARIMA(cars, order=(2,1,2))\n",
    "model_fit = model.fit(disp=0)\n",
    "print(model_fit.summary())\n",
    "\n",
    "# Plot residual errors\n",
    "residuals = pd.DataFrame(model_fit.resid)\n",
    "fig, ax = plt.subplots(1,2)\n",
    "residuals.plot(title=\"Residuals\", ax=ax[0])\n",
    "residuals.plot(kind='kde', title='Density', ax=ax[1])\n",
    "plt.show()\n",
    "\n",
    "# Actual vs Fitted\n",
    "model_fit.plot_predict(dynamic=False)\n",
    "plt.show()\n",
    "\n",
    "#predict\n",
    "fc, se, conf = model_fit.forecast(4*10, alpha=0.05)  # 95% conf \n",
    "\n",
    "#if we spilit the data as training and testing data, and calculate the MAE\n",
    "\n",
    "def mean_absolute_percentage_error(y_true, y_pred): \n",
    "    y_true, y_pred = np.array(y_true), np.array(y_pred)\n",
    "    return np.mean(np.abs((y_true - y_pred) / y_true)) * 100\n",
    "\n",
    "test = cars[np.round(2/3*len(cars)).astype(int):]\n",
    "train = cars[:np.round(2/3*len(cars)).astype(int)]\n",
    "model = ARIMA(train, order=(1,1,0))\n",
    "model_fit = model.fit(disp=0)\n",
    "print(model_fit.summary())\n",
    "\n",
    "# Forecast\n",
    "fc, se, conf = model_fit.forecast(len(test), alpha=0.05)  # 95% conf\n",
    "\n",
    "# Make as pandas series\n",
    "fc_series = pd.Series(fc, index=test.index)\n",
    "lower_series = pd.Series(conf[:, 0], index=test.index)\n",
    "upper_series = pd.Series(conf[:, 1], index=test.index)\n",
    "\n",
    "# Plot\n",
    "plt.figure(figsize=(12,5), dpi=100)\n",
    "plt.plot(train, label='training')\n",
    "plt.plot(test, label='actual')\n",
    "plt.plot(fc_series, label='forecast')\n",
    "# my_x_ticks = time\n",
    "\n",
    "# plt.xticks(my_x_ticks)\n",
    "\n",
    "plt.fill_between(lower_series.index, lower_series, upper_series, \n",
    "                 color='k', alpha=.15)\n",
    "plt.title('Forecast vs Actuals')\n",
    "plt.legend(loc='upper left', fontsize=8)\n",
    "plt.show()\n",
    "\n",
    "mean_absolute_percentage_error(test, fc) #7.295545504861874 acceptable (3,2,0)\n",
    "#if we use model (3,1,0) 0.5138645256869044\n",
    "#if we use model (0,1,0) 0.5319200544501159\n",
    "\n",
    "# print(cars.index)"
   ]
  },
  {
   "cell_type": "code",
   "execution_count": 23,
   "id": "senior-elephant",
   "metadata": {},
   "outputs": [
    {
     "name": "stdout",
     "output_type": "stream",
     "text": [
      "DatetimeIndex(['2020-10-01', '2020-12-31', '2021-04-01', '2021-07-01',\n",
      "               '2021-10-01', '2021-12-31', '2022-04-01', '2022-07-01',\n",
      "               '2022-10-01', '2022-12-31', '2023-04-01', '2023-07-01',\n",
      "               '2023-10-01', '2023-12-31', '2024-03-31', '2024-06-30',\n",
      "               '2024-09-30', '2024-12-30', '2025-03-31', '2025-06-30',\n",
      "               '2025-09-30', '2025-12-30', '2026-03-31', '2026-06-30',\n",
      "               '2026-09-30', '2026-12-30', '2027-03-31', '2027-06-30',\n",
      "               '2027-09-30', '2027-12-30', '2028-03-30', '2028-06-29',\n",
      "               '2028-09-29', '2028-12-29', '2029-03-30', '2029-06-29',\n",
      "               '2029-09-29', '2029-12-29', '2030-03-30', '2030-06-29',\n",
      "               '2030-09-29'],\n",
      "              dtype='datetime64[ns]', freq=None)\n"
     ]
    }
   ],
   "source": [
    "import datetime\n",
    "\n",
    "def create_assist_date(datestart = None,dateend = None):\n",
    "\tdatestart=datetime.datetime.strptime(datestart,'%Y-%m-%d')\n",
    "\tdateend=datetime.datetime.strptime(dateend,'%Y-%m-%d')\n",
    "\tdate_list = []\n",
    "\tdate_list.append(datestart.strftime('%Y-%m-%d'))\n",
    "\twhile datestart<dateend:\n",
    "\t    datestart+=datetime.timedelta(days = 365/4)\n",
    "\t    date_list.append(datestart.strftime('%Y-%m-%d'))\n",
    "\treturn date_list\n",
    "\n",
    "len(create_assist_date('2020-10-01','2030-10-01'))\n",
    "new_index = pd.to_datetime(create_assist_date('2020-10-01','2030-09-29')) #2030-12-29 equals to the 2031-01-01\n",
    "print(new_index)"
   ]
  },
  {
   "cell_type": "code",
   "execution_count": 24,
   "id": "senior-prague",
   "metadata": {},
   "outputs": [
    {
     "name": "stderr",
     "output_type": "stream",
     "text": [
      "D:\\anaconda\\lib\\site-packages\\statsmodels\\tsa\\arima_model.py:472: FutureWarning: \n",
      "statsmodels.tsa.arima_model.ARMA and statsmodels.tsa.arima_model.ARIMA have\n",
      "been deprecated in favor of statsmodels.tsa.arima.model.ARIMA (note the .\n",
      "between arima and model) and\n",
      "statsmodels.tsa.SARIMAX. These will be removed after the 0.12 release.\n",
      "\n",
      "statsmodels.tsa.arima.model.ARIMA makes use of the statespace framework and\n",
      "is both well tested and maintained.\n",
      "\n",
      "To silence this warning and continue using ARMA and ARIMA until they are\n",
      "removed, use:\n",
      "\n",
      "import warnings\n",
      "warnings.filterwarnings('ignore', 'statsmodels.tsa.arima_model.ARMA',\n",
      "                        FutureWarning)\n",
      "warnings.filterwarnings('ignore', 'statsmodels.tsa.arima_model.ARIMA',\n",
      "                        FutureWarning)\n",
      "\n",
      "  warnings.warn(ARIMA_DEPRECATION_WARN, FutureWarning)\n",
      "D:\\anaconda\\lib\\site-packages\\statsmodels\\tsa\\base\\tsa_model.py:524: ValueWarning: No frequency information was provided, so inferred frequency QS-OCT will be used.\n",
      "  warnings.warn('No frequency information was'\n",
      "D:\\anaconda\\lib\\site-packages\\statsmodels\\tsa\\base\\tsa_model.py:524: ValueWarning: No frequency information was provided, so inferred frequency QS-OCT will be used.\n",
      "  warnings.warn('No frequency information was'\n",
      "D:\\anaconda\\lib\\site-packages\\statsmodels\\tsa\\arima_model.py:472: FutureWarning: \n",
      "statsmodels.tsa.arima_model.ARMA and statsmodels.tsa.arima_model.ARIMA have\n",
      "been deprecated in favor of statsmodels.tsa.arima.model.ARIMA (note the .\n",
      "between arima and model) and\n",
      "statsmodels.tsa.SARIMAX. These will be removed after the 0.12 release.\n",
      "\n",
      "statsmodels.tsa.arima.model.ARIMA makes use of the statespace framework and\n",
      "is both well tested and maintained.\n",
      "\n",
      "To silence this warning and continue using ARMA and ARIMA until they are\n",
      "removed, use:\n",
      "\n",
      "import warnings\n",
      "warnings.filterwarnings('ignore', 'statsmodels.tsa.arima_model.ARMA',\n",
      "                        FutureWarning)\n",
      "warnings.filterwarnings('ignore', 'statsmodels.tsa.arima_model.ARIMA',\n",
      "                        FutureWarning)\n",
      "\n",
      "  warnings.warn(ARIMA_DEPRECATION_WARN, FutureWarning)\n"
     ]
    },
    {
     "name": "stdout",
     "output_type": "stream",
     "text": [
      "                             ARIMA Model Results                              \n",
      "==============================================================================\n",
      "Dep. Variable:                D.Total   No. Observations:                  103\n",
      "Model:                 ARIMA(2, 1, 2)   Log Likelihood                -671.799\n",
      "Method:                       css-mle   S.D. of innovations            162.766\n",
      "Date:                Tue, 09 Mar 2021   AIC                           1355.598\n",
      "Time:                        21:24:51   BIC                           1371.406\n",
      "Sample:                    01-01-1995   HQIC                          1362.001\n",
      "                         - 07-01-2020                                         \n",
      "=================================================================================\n",
      "                    coef    std err          z      P>|z|      [0.025      0.975]\n",
      "---------------------------------------------------------------------------------\n",
      "const           124.1749     13.461      9.225      0.000      97.792     150.558\n",
      "ar.L1.D.Total     0.1436      0.049      2.902      0.004       0.047       0.241\n",
      "ar.L2.D.Total    -0.9499      0.038    -25.123      0.000      -1.024      -0.876\n",
      "ma.L1.D.Total    -0.3518      0.101     -3.498      0.000      -0.549      -0.155\n",
      "ma.L2.D.Total     0.8661      0.067     12.860      0.000       0.734       0.998\n",
      "                                    Roots                                    \n",
      "=============================================================================\n",
      "                  Real          Imaginary           Modulus         Frequency\n",
      "-----------------------------------------------------------------------------\n",
      "AR.1            0.0756           -1.0233j            1.0261           -0.2383\n",
      "AR.2            0.0756           +1.0233j            1.0261            0.2383\n",
      "MA.1            0.2031           -1.0551j            1.0745           -0.2197\n",
      "MA.2            0.2031           +1.0551j            1.0745            0.2197\n",
      "-----------------------------------------------------------------------------\n"
     ]
    },
    {
     "data": {
      "image/png": "[encoded data removed]",
      "text/plain": [
       "<Figure size 1200x500 with 1 Axes>"
      ]
     },
     "metadata": {
      "needs_background": "light"
     },
     "output_type": "display_data"
    }
   ],
   "source": [
    "# test = cars[np.round(2/3*len(cars)).astype(int):]\n",
    "# train = cars[:np.round(2/3*len(cars)).astype(int)]\n",
    "model = ARIMA(cars, order=(2,1,2))\n",
    "model_fit = model.fit(disp=0)\n",
    "print(model_fit.summary())\n",
    "\n",
    "# model with whole data and Forecast until 2030\n",
    "fc, se, conf = model_fit.forecast(4*10+1, alpha=0.05)  # 95% conf\n",
    "\n",
    "# Make as pandas series\n",
    "fc_series = pd.Series(fc, index=new_index)\n",
    "lower_series = pd.Series(conf[:, 0], index=new_index)\n",
    "upper_series = pd.Series(conf[:, 1], index=new_index)\n",
    "\n",
    "# Plot\n",
    "plt.figure(figsize=(12,5), dpi=100)\n",
    "# plt.plot(cars, label='training')\n",
    "plt.plot(cars, label='actual')\n",
    "plt.plot(fc_series, label='forecast')\n",
    "# my_x_ticks = time\n",
    "\n",
    "# plt.xticks(my_x_ticks)\n",
    "\n",
    "plt.fill_between(lower_series.index, lower_series, upper_series, \n",
    "                 color='k', alpha=.15)\n",
    "plt.title('Actuals & Forecast')\n",
    "plt.legend(loc='upper left', fontsize=8)\n",
    "plt.show()\n",
    "\n",
    "#the predicted value of number of cars at the begining of 2030 is \n",
    "predict_2030 = fc_series['2029-12-29']"
   ]
  },
  {
   "cell_type": "markdown",
   "id": "twenty-confidentiality",
   "metadata": {},
   "source": [
    "## fc_year_1 is the prediction from 2020(mean of 4 quarter,only Q4 is predicted) to 2030"
   ]
  },
  {
   "cell_type": "code",
   "execution_count": 25,
   "id": "empirical-browse",
   "metadata": {},
   "outputs": [
    {
     "name": "stdout",
     "output_type": "stream",
     "text": [
      "               0\n",
      "0   36375.183739\n",
      "1   36852.724397\n",
      "2   37347.102041\n",
      "3   37841.925329\n",
      "4   38337.275483\n",
      "5   38833.172534\n",
      "6   39329.584955\n",
      "7   39826.442005\n",
      "8   40323.647213\n",
      "9   40821.091599\n",
      "10  41318.665535\n"
     ]
    }
   ],
   "source": [
    "# transform the prediction of number of vehicles from quarterly to yearly\n",
    "\n",
    "car_num_series = pd.concat([cars.iloc[[-3,-2,-1]],fc_series])\n",
    "# print(car_num_series)\n",
    "fc_year = []\n",
    "for i in range(0, len(car_num_series), 4):\n",
    "    fc_year.append(car_num_series[i:i+4])\n",
    "# print(fc_year)  \n",
    "fc_year_1 =[np.mean(i) for i in fc_year]\n",
    "# print(len(fc_year_1))\n",
    "fc_year_1 = pd.DataFrame(fc_year_1)\n",
    "print(fc_year_1)"
   ]
  },
  {
   "cell_type": "code",
   "execution_count": 26,
   "id": "orange-florida",
   "metadata": {},
   "outputs": [
    {
     "name": "stdout",
     "output_type": "stream",
     "text": [
      "time\n",
      "2019-07-01    36616.96\n",
      "2019-10-01    36513.18\n",
      "2020-01-01    36210.81\n",
      "2020-04-01    36183.84\n",
      "2020-07-01    36568.83\n",
      "Name: Total, dtype: float64\n"
     ]
    }
   ],
   "source": [
    "print(cars.tail())"
   ]
  },
  {
   "cell_type": "markdown",
   "id": "certified-conflict",
   "metadata": {},
   "source": [
    "# get the prediction for petrol+diesel "
   ]
  },
  {
   "cell_type": "markdown",
   "id": "clean-moral",
   "metadata": {},
   "source": [
    "get the prediction for petrol+diesel \n",
    "\n",
    "1.If we assume that the ratio of petrol+diesel increase linearly from 2019-2030\n",
    "\n",
    "2.alternatively if we assume that the ratio of EV increase linearly\n"
   ]
  },
  {
   "cell_type": "code",
   "execution_count": 27,
   "id": "retained-klein",
   "metadata": {},
   "outputs": [
    {
     "name": "stdout",
     "output_type": "stream",
     "text": [
      "               0\n",
      "0   30055.008017\n",
      "1   29505.223825\n",
      "2   28944.014310\n",
      "3   28357.801862\n",
      "4   27746.611005\n",
      "5   27110.415223\n",
      "6   26449.151268\n",
      "7   25762.733762\n",
      "8   25051.068592\n",
      "9   24314.064081\n",
      "10  23551.639355\n"
     ]
    }
   ],
   "source": [
    "#assumption 1\n",
    "fraction = data['P_D']/ data['Total_Cars']\n",
    "fraction_2019 = fraction.loc[2019]\n",
    "fraction_2030 = (1-0.43)\n",
    "fraction_future = []\n",
    "for i in range(11):\n",
    "    fraction = fraction_2019 + (i+1)*(fraction_2030-fraction_2019)/11\n",
    "    fraction_future.append(fraction)\n",
    "    \n",
    "fraction_future = pd.DataFrame(fraction_future)  \n",
    "P_D_future = fraction_future*fc_year_1\n",
    "print(P_D_future)"
   ]
  },
  {
   "cell_type": "code",
   "execution_count": 28,
   "id": "respiratory-bachelor",
   "metadata": {},
   "outputs": [
    {
     "name": "stdout",
     "output_type": "stream",
     "text": [
      "Year\n",
      "1994    0.000004\n",
      "1995    0.000003\n",
      "1996    0.000004\n",
      "1997    0.000005\n",
      "1998    0.000006\n",
      "1999    0.000007\n",
      "2000    0.000015\n",
      "2001    0.000037\n",
      "2002    0.000049\n",
      "2003    0.000063\n",
      "2004    0.000113\n",
      "2005    0.000287\n",
      "2006    0.000569\n",
      "2007    0.001050\n",
      "2008    0.001519\n",
      "2009    0.001968\n",
      "2010    0.002615\n",
      "2011    0.003269\n",
      "2012    0.003994\n",
      "2013    0.004855\n",
      "2014    0.006095\n",
      "2015    0.007854\n",
      "2016    0.010028\n",
      "2017    0.012927\n",
      "2018    0.016437\n",
      "2019    0.020764\n",
      "Name: EV_fraction, dtype: float64\n"
     ]
    }
   ],
   "source": [
    "print(data['EV_fraction'])"
   ]
  },
  {
   "cell_type": "code",
   "execution_count": 34,
   "id": "elder-european",
   "metadata": {},
   "outputs": [
    {
     "ename": "KeyError",
     "evalue": "'EV_fraction'",
     "output_type": "error",
     "traceback": [
      "\u001b[1;31m---------------------------------------------------------------------------\u001b[0m",
      "\u001b[1;31mKeyError\u001b[0m                                  Traceback (most recent call last)",
      "\u001b[1;32mD:\\anaconda\\lib\\site-packages\\pandas\\core\\indexes\\base.py\u001b[0m in \u001b[0;36mget_loc\u001b[1;34m(self, key, method, tolerance)\u001b[0m\n\u001b[0;32m   3079\u001b[0m             \u001b[1;32mtry\u001b[0m\u001b[1;33m:\u001b[0m\u001b[1;33m\u001b[0m\u001b[1;33m\u001b[0m\u001b[0m\n\u001b[1;32m-> 3080\u001b[1;33m                 \u001b[1;32mreturn\u001b[0m \u001b[0mself\u001b[0m\u001b[1;33m.\u001b[0m\u001b[0m_engine\u001b[0m\u001b[1;33m.\u001b[0m\u001b[0mget_loc\u001b[0m\u001b[1;33m(\u001b[0m\u001b[0mcasted_key\u001b[0m\u001b[1;33m)\u001b[0m\u001b[1;33m\u001b[0m\u001b[1;33m\u001b[0m\u001b[0m\n\u001b[0m\u001b[0;32m   3081\u001b[0m             \u001b[1;32mexcept\u001b[0m \u001b[0mKeyError\u001b[0m \u001b[1;32mas\u001b[0m \u001b[0merr\u001b[0m\u001b[1;33m:\u001b[0m\u001b[1;33m\u001b[0m\u001b[1;33m\u001b[0m\u001b[0m\n",
      "\u001b[1;32mpandas\\_libs\\index.pyx\u001b[0m in \u001b[0;36mpandas._libs.index.IndexEngine.get_loc\u001b[1;34m()\u001b[0m\n",
      "\u001b[1;32mpandas\\_libs\\index.pyx\u001b[0m in \u001b[0;36mpandas._libs.index.IndexEngine.get_loc\u001b[1;34m()\u001b[0m\n",
      "\u001b[1;32mpandas\\_libs\\hashtable_class_helper.pxi\u001b[0m in \u001b[0;36mpandas._libs.hashtable.PyObjectHashTable.get_item\u001b[1;34m()\u001b[0m\n",
      "\u001b[1;32mpandas\\_libs\\hashtable_class_helper.pxi\u001b[0m in \u001b[0;36mpandas._libs.hashtable.PyObjectHashTable.get_item\u001b[1;34m()\u001b[0m\n",
      "\u001b[1;31mKeyError\u001b[0m: 'EV_fraction'",
      "\nThe above exception was the direct cause of the following exception:\n",
      "\u001b[1;31mKeyError\u001b[0m                                  Traceback (most recent call last)",
      "\u001b[1;32m<ipython-input-34-fd93e5935cdd>\u001b[0m in \u001b[0;36m<module>\u001b[1;34m\u001b[0m\n\u001b[0;32m      1\u001b[0m \u001b[1;31m#assumption 2\u001b[0m\u001b[1;33m\u001b[0m\u001b[1;33m\u001b[0m\u001b[1;33m\u001b[0m\u001b[0m\n\u001b[1;32m----> 2\u001b[1;33m \u001b[0mfraction\u001b[0m \u001b[1;33m=\u001b[0m \u001b[0mdata\u001b[0m\u001b[1;33m[\u001b[0m\u001b[1;34m'EV_fraction'\u001b[0m\u001b[1;33m]\u001b[0m\u001b[1;33m\u001b[0m\u001b[1;33m\u001b[0m\u001b[0m\n\u001b[0m\u001b[0;32m      3\u001b[0m \u001b[0mfraction_2019\u001b[0m \u001b[1;33m=\u001b[0m \u001b[0mfraction\u001b[0m\u001b[1;33m.\u001b[0m\u001b[0mloc\u001b[0m\u001b[1;33m[\u001b[0m\u001b[1;36m2019\u001b[0m\u001b[1;33m]\u001b[0m\u001b[1;33m\u001b[0m\u001b[1;33m\u001b[0m\u001b[0m\n\u001b[0;32m      4\u001b[0m \u001b[0mfraction_2030\u001b[0m \u001b[1;33m=\u001b[0m \u001b[1;36m0.43\u001b[0m\u001b[1;33m\u001b[0m\u001b[1;33m\u001b[0m\u001b[0m\n\u001b[0;32m      5\u001b[0m \u001b[0mfraction_future\u001b[0m \u001b[1;33m=\u001b[0m \u001b[1;33m[\u001b[0m\u001b[1;33m]\u001b[0m\u001b[1;33m\u001b[0m\u001b[1;33m\u001b[0m\u001b[0m\n",
      "\u001b[1;32mD:\\anaconda\\lib\\site-packages\\pandas\\core\\frame.py\u001b[0m in \u001b[0;36m__getitem__\u001b[1;34m(self, key)\u001b[0m\n\u001b[0;32m   3022\u001b[0m             \u001b[1;32mif\u001b[0m \u001b[0mself\u001b[0m\u001b[1;33m.\u001b[0m\u001b[0mcolumns\u001b[0m\u001b[1;33m.\u001b[0m\u001b[0mnlevels\u001b[0m \u001b[1;33m>\u001b[0m \u001b[1;36m1\u001b[0m\u001b[1;33m:\u001b[0m\u001b[1;33m\u001b[0m\u001b[1;33m\u001b[0m\u001b[0m\n\u001b[0;32m   3023\u001b[0m                 \u001b[1;32mreturn\u001b[0m \u001b[0mself\u001b[0m\u001b[1;33m.\u001b[0m\u001b[0m_getitem_multilevel\u001b[0m\u001b[1;33m(\u001b[0m\u001b[0mkey\u001b[0m\u001b[1;33m)\u001b[0m\u001b[1;33m\u001b[0m\u001b[1;33m\u001b[0m\u001b[0m\n\u001b[1;32m-> 3024\u001b[1;33m             \u001b[0mindexer\u001b[0m \u001b[1;33m=\u001b[0m \u001b[0mself\u001b[0m\u001b[1;33m.\u001b[0m\u001b[0mcolumns\u001b[0m\u001b[1;33m.\u001b[0m\u001b[0mget_loc\u001b[0m\u001b[1;33m(\u001b[0m\u001b[0mkey\u001b[0m\u001b[1;33m)\u001b[0m\u001b[1;33m\u001b[0m\u001b[1;33m\u001b[0m\u001b[0m\n\u001b[0m\u001b[0;32m   3025\u001b[0m             \u001b[1;32mif\u001b[0m \u001b[0mis_integer\u001b[0m\u001b[1;33m(\u001b[0m\u001b[0mindexer\u001b[0m\u001b[1;33m)\u001b[0m\u001b[1;33m:\u001b[0m\u001b[1;33m\u001b[0m\u001b[1;33m\u001b[0m\u001b[0m\n\u001b[0;32m   3026\u001b[0m                 \u001b[0mindexer\u001b[0m \u001b[1;33m=\u001b[0m \u001b[1;33m[\u001b[0m\u001b[0mindexer\u001b[0m\u001b[1;33m]\u001b[0m\u001b[1;33m\u001b[0m\u001b[1;33m\u001b[0m\u001b[0m\n",
      "\u001b[1;32mD:\\anaconda\\lib\\site-packages\\pandas\\core\\indexes\\base.py\u001b[0m in \u001b[0;36mget_loc\u001b[1;34m(self, key, method, tolerance)\u001b[0m\n\u001b[0;32m   3080\u001b[0m                 \u001b[1;32mreturn\u001b[0m \u001b[0mself\u001b[0m\u001b[1;33m.\u001b[0m\u001b[0m_engine\u001b[0m\u001b[1;33m.\u001b[0m\u001b[0mget_loc\u001b[0m\u001b[1;33m(\u001b[0m\u001b[0mcasted_key\u001b[0m\u001b[1;33m)\u001b[0m\u001b[1;33m\u001b[0m\u001b[1;33m\u001b[0m\u001b[0m\n\u001b[0;32m   3081\u001b[0m             \u001b[1;32mexcept\u001b[0m \u001b[0mKeyError\u001b[0m \u001b[1;32mas\u001b[0m \u001b[0merr\u001b[0m\u001b[1;33m:\u001b[0m\u001b[1;33m\u001b[0m\u001b[1;33m\u001b[0m\u001b[0m\n\u001b[1;32m-> 3082\u001b[1;33m                 \u001b[1;32mraise\u001b[0m \u001b[0mKeyError\u001b[0m\u001b[1;33m(\u001b[0m\u001b[0mkey\u001b[0m\u001b[1;33m)\u001b[0m \u001b[1;32mfrom\u001b[0m \u001b[0merr\u001b[0m\u001b[1;33m\u001b[0m\u001b[1;33m\u001b[0m\u001b[0m\n\u001b[0m\u001b[0;32m   3083\u001b[0m \u001b[1;33m\u001b[0m\u001b[0m\n\u001b[0;32m   3084\u001b[0m         \u001b[1;32mif\u001b[0m \u001b[0mtolerance\u001b[0m \u001b[1;32mis\u001b[0m \u001b[1;32mnot\u001b[0m \u001b[1;32mNone\u001b[0m\u001b[1;33m:\u001b[0m\u001b[1;33m\u001b[0m\u001b[1;33m\u001b[0m\u001b[0m\n",
      "\u001b[1;31mKeyError\u001b[0m: 'EV_fraction'"
     ]
    }
   ],
   "source": [
    "#assumption 2\n",
    "fraction = data['EV_fraction']\n",
    "fraction_2019 = fraction.loc[2019]\n",
    "fraction_2030 = 0.43\n",
    "fraction_future = []\n",
    "for i in range(11):\n",
    "    fraction = fraction_2019 + (i+1)*(fraction_2030-fraction_2019)/11\n",
    "    fraction_future.append(fraction)\n",
    "    \n",
    "# print(len(fraction_future))  \n",
    "# fraction_future =[0.02,0.0290272728019456,\n",
    "#  0.04048153091370442,\n",
    "#  0.05626723531117826,\n",
    "#  0.0778475766224905,\n",
    "#  0.10702194811828247,\n",
    "#  0.1458608852187137,\n",
    "#  0.1964924272907288,\n",
    "#  0.26065614079515137,\n",
    "#  0.33897532052871315,\n",
    "#  0.4300377963058284]\n",
    "#replace the fraction_future here with your EV fraction(from 2020 to 2030,including 11 values)\n",
    "fraction_future = pd.DataFrame(fraction_future)\n",
    "P_D_future = (1-fraction_future)*fc_year_1\n",
    "print(P_D_future)"
   ]
  },
  {
   "cell_type": "markdown",
   "id": "governing-correspondence",
   "metadata": {},
   "source": [
    "# predict the future population\n",
    "it is like a expotional increase and didn't suited to use ARIMA(have not done)"
   ]
  },
  {
   "cell_type": "code",
   "execution_count": 30,
   "id": "subsequent-knitting",
   "metadata": {},
   "outputs": [],
   "source": [
    "population = pd.read_csv('data/UK_population.csv')\n",
    "population = population.set_index('Year')\n",
    "# print(population)\n",
    "mask_population = (population.index<2031) & (population.index>2019)\n",
    "uk_population = population[mask_population]\n",
    "\n",
    "uk_population = uk_population.reset_index(drop=True)\n",
    "# # mean_UK_Population =pd.DataFrame([mean_UK_Population]*11)\n",
    "# print(len(uk_population))\n",
    "# print(uk_population)\n",
    "# print(uk_population-list(mean_UK_Population))\n",
    "# print(mean_UK_Population)\n",
    "# print(P_D_future)\n",
    "# print(type(list(mean_UK_Population)))"
   ]
  },
  {
   "cell_type": "code",
   "execution_count": 31,
   "id": "commercial-credits",
   "metadata": {},
   "outputs": [
    {
     "data": {
      "image/png": "[encoded data removed]",
      "text/plain": [
       "<Figure size 1200x500 with 1 Axes>"
      ]
     },
     "metadata": {
      "needs_background": "light"
     },
     "output_type": "display_data"
    }
   ],
   "source": [
    "# Plot\n",
    "plt.figure(figsize=(12,5), dpi=100)\n",
    "# plt.plot(cars, label='training')\n",
    "plt.plot(cars, label='actual')\n",
    "plt.plot(fc_series, label='forecast')\n",
    "# my_x_ticks = time\n",
    "\n",
    "# plt.xticks(my_x_ticks)\n",
    "\n",
    "plt.title('Forecast vs Actuals')\n",
    "plt.legend(loc='upper left', fontsize=8)\n",
    "plt.show()"
   ]
  },
  {
   "cell_type": "markdown",
   "id": "hollywood-kennedy",
   "metadata": {},
   "source": [
    "# calculate co2 by prediction of population and p_d"
   ]
  },
  {
   "cell_type": "markdown",
   "id": "naughty-wireless",
   "metadata": {},
   "source": [
    "the linear regression is \n",
    "\n",
    "\n",
    "Y = Total_co2\n",
    "\n",
    "Intercept =-6.8e-16\n",
    "\n",
    "UK_Population = -2.2372\n",
    "\n",
    "P_D = 1.9087\t"
   ]
  },
  {
   "cell_type": "code",
   "execution_count": 32,
   "id": "hearing-japanese",
   "metadata": {},
   "outputs": [
    {
     "name": "stdout",
     "output_type": "stream",
     "text": [
      "            CO2\n",
      "0   9570.585168\n",
      "1   9343.418099\n",
      "2   9116.149992\n",
      "3   8888.730740\n",
      "4   8661.110360\n",
      "5   8433.229727\n",
      "6   8280.756853\n",
      "7   8052.173102\n",
      "8   7898.911744\n",
      "9   7745.264952\n",
      "10          NaN\n"
     ]
    }
   ],
   "source": [
    "Intercept = -6.8e-16\n",
    "beta_UK_Population =  -2.2372\n",
    "beta_petrol_D = 1.9087\n",
    "# Intercept =pd.DataFrame([Intercept]*11)\n",
    "\n",
    "std_UK_Population = std_mat['UK_Population']\n",
    "mean_UK_Population = mean_mat['UK_Population']\n",
    "std_petrol_D = std_mat['P_D']\n",
    "mean_petrol_D = mean_mat['P_D']\n",
    "\n",
    "std_y = std_mat['Total_co2']\n",
    "mean_y = mean_mat['Total_co2']\n",
    "\n",
    "\n",
    "######replace the fc_year_1 with the prediction for population\n",
    "P_D_future= P_D_future.rename(columns={0: \"population\"})\n",
    "y = Intercept+ beta_UK_Population*(uk_population-list(mean_UK_Population))/list(std_UK_Population)+beta_petrol_D *(P_D_future-list(mean_petrol_D))/list(std_petrol_D)\n",
    "\n",
    "y_unstandardize = y*list(std_y)+list(mean_y)\n",
    "y_unstandardize = y_unstandardize.rename(columns={\"population\": \"CO2\"})\n",
    "# print(y)\n",
    "print(y_unstandardize)\n",
    "# print(fraction_future)\n",
    "\n"
   ]
  },
  {
   "cell_type": "markdown",
   "id": "bottom-hughes",
   "metadata": {},
   "source": [
    "## y_unstandardize is the prediction of Total_co2 from 2020 to 2030"
   ]
  },
  {
   "cell_type": "markdown",
   "id": "pleased-teaching",
   "metadata": {},
   "source": [
    "try arimax\n",
    "\n",
    "refer to https://www.statsmodels.org/dev/examples/notebooks/generated/statespace_sarimax_stata.html\n",
    "\n",
    "https://www.kaggle.com/poiupoiu/how-to-use-sarimax"
   ]
  },
  {
   "cell_type": "code",
   "execution_count": 33,
   "id": "divided-sister",
   "metadata": {},
   "outputs": [
    {
     "name": "stderr",
     "output_type": "stream",
     "text": [
      "D:\\anaconda\\lib\\site-packages\\statsmodels\\base\\model.py:566: ConvergenceWarning: Maximum Likelihood optimization failed to converge. Check mle_retvals\n",
      "  warnings.warn(\"Maximum Likelihood optimization failed to \"\n"
     ]
    },
    {
     "name": "stdout",
     "output_type": "stream",
     "text": [
      "                               SARIMAX Results                                \n",
      "==============================================================================\n",
      "Dep. Variable:                      y   No. Observations:                  104\n",
      "Model:               SARIMAX(2, 1, 2)   Log Likelihood                -685.079\n",
      "Date:                Tue, 09 Mar 2021   AIC                           1384.157\n",
      "Time:                        21:24:53   BIC                           1402.600\n",
      "Sample:                             0   HQIC                          1391.627\n",
      "                                - 104                                         \n",
      "Covariance Type:                  opg                                         \n",
      "==============================================================================\n",
      "                 coef    std err          z      P>|z|      [0.025      0.975]\n",
      "------------------------------------------------------------------------------\n",
      "const         -0.4794    233.004     -0.002      0.998    -457.159     456.201\n",
      "x1          -376.9134    361.826     -1.042      0.298   -1086.079     332.252\n",
      "ar.L1          0.0482      0.052      0.931      0.352      -0.053       0.150\n",
      "ar.L2          0.9507      0.053     17.835      0.000       0.846       1.055\n",
      "ma.L1         -0.1065      0.094     -1.130      0.258      -0.291       0.078\n",
      "ma.L2         -0.8670      0.097     -8.914      0.000      -1.058      -0.676\n",
      "sigma2      3.284e+04   4062.788      8.083      0.000    2.49e+04    4.08e+04\n",
      "===================================================================================\n",
      "Ljung-Box (L1) (Q):                   0.01   Jarque-Bera (JB):                43.49\n",
      "Prob(Q):                              0.91   Prob(JB):                         0.00\n",
      "Heteroskedasticity (H):               0.43   Skew:                             1.08\n",
      "Prob(H) (two-sided):                  0.02   Kurtosis:                         5.33\n",
      "===================================================================================\n",
      "\n",
      "Warnings:\n",
      "[1] Covariance matrix calculated using the outer product of gradients (complex-step).\n",
      "[2] Covariance matrix is singular or near-singular, with condition number 6.14e+16. Standard errors may be unstable.\n"
     ]
    },
    {
     "data": {
      "image/png": "[encoded data removed]",
      "text/plain": [
       "<Figure size 1200x500 with 1 Axes>"
      ]
     },
     "metadata": {
      "needs_background": "light"
     },
     "output_type": "display_data"
    }
   ],
   "source": [
    "data = pd.DataFrame(data=cars, index=cars.index, columns=['covid'])\n",
    "data['time']=data.index\n",
    "# print(data)\n",
    "#30-01-2020 we assume that it start from the first quarter of 2020 in UK\n",
    "date_point = pd.to_datetime('2020Q1')\n",
    "\n",
    "data.loc[(data['time'] >= date_point), 'covid'] = 1;\n",
    "data.loc[(data['time'] < date_point), 'covid'] = 0;\n",
    "# print(data)\n",
    "covid = data['covid']\n",
    "# print(covid)\n",
    "\n",
    "#if we assume the covid-19 will affect UK until 2030\n",
    "covid_future = np.ones([41,2])\n",
    "# print(covid_future)\n",
    "# print(pd.DataFrame(np.ones([41,2])))\n",
    "\n",
    "#if we assume the affect will be be removed from 2021Q4, as the new lock down plan said step four june 2021 remove all legal limits on social contact\n",
    "covid_positive_future = np.ones([5,2])\n",
    "a = np.ones([36,1])\n",
    "b = np.zeros([36,1])\n",
    "m = np.concatenate((a,b),axis=1)\n",
    "covid_positive = np.concatenate((covid_positive_future,m),axis=0)\n",
    "\n",
    "\n",
    "import numpy as np\n",
    "import pandas as pd\n",
    "from scipy.stats import norm\n",
    "import statsmodels.api as sm\n",
    "import matplotlib.pyplot as plt\n",
    "from datetime import datetime\n",
    "import requests\n",
    "from io import BytesIO\n",
    "# Variables\n",
    "endog = cars\n",
    "exog = sm.add_constant(covid)\n",
    "endog = np.array(endog, dtype=float)\n",
    "exog  = np.array(exog , dtype=float)\n",
    "# Fit the model\n",
    "mod = sm.tsa.statespace.SARIMAX(endog,exog, order=(2,1,2))\n",
    "res = mod.fit(disp=False)\n",
    "print(res.summary())\n",
    "\n",
    "fc_covid = res.forecast(exog=covid_future ,steps=4*10+1, alpha=0.05)\n",
    "# fcast_res2 = res.get_forecast(steps=2)\n",
    "fc_covid_pos = res.forecast(exog=covid_positive ,steps=4*10+1, alpha=0.05)\n",
    "\n",
    "# Make as pandas series\n",
    "fc_series_covid = pd.Series(fc_covid, index=new_index)\n",
    "fc_series_covid_pos = pd.Series(fc_covid_pos, index=new_index)\n",
    "# Plot\n",
    "plt.figure(figsize=(12,5), dpi=100)\n",
    "# plt.plot(cars, label='training')\n",
    "plt.plot(cars, label='actual')\n",
    "plt.plot(fc_series, label='forecast')\n",
    "# plt.plot(fc_series_covid, label='forecast_with_covid19')\n",
    "plt.plot(fc_series_covid_pos, label='forecast_with_covid19')\n",
    "# my_x_ticks = time\n",
    "\n",
    "# plt.xticks(my_x_ticks)\n",
    "\n",
    "plt.fill_between(lower_series.index, lower_series, upper_series, \n",
    "                 color='k', alpha=.15)\n",
    "plt.title('Forecast based on Covid-19')\n",
    "plt.legend(loc='upper left', fontsize=8)\n",
    "plt.show()\n",
    "\n"
   ]
  },
  {
   "cell_type": "code",
   "execution_count": null,
   "id": "aware-package",
   "metadata": {},
   "outputs": [],
   "source": []
  }
 ],
 "metadata": {
  "kernelspec": {
   "display_name": "Python 3",
   "language": "python",
   "name": "python3"
  },
  "language_info": {
   "codemirror_mode": {
    "name": "ipython",
    "version": 3
   },
   "file_extension": ".py",
   "mimetype": "text/x-python",
   "name": "python",
   "nbconvert_exporter": "python",
   "pygments_lexer": "ipython3",
   "version": "3.8.5"
  }
 },
 "nbformat": 4,
 "nbformat_minor": 5
}
