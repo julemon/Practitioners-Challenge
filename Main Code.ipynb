{
 "cells": [
  {
   "cell_type": "code",
   "execution_count": 1,
   "id": "temporal-backup",
   "metadata": {},
   "outputs": [],
   "source": [
    "import numpy as np             \n",
    "import pandas as pd           #Python Data Analysis Library handle data in a user friendly way\n",
    "#import random\n",
    "import matplotlib.pyplot as plt #for plots\n",
    "%matplotlib inline\n",
    "from sklearn import linear_model # A very popular Python library for Machine Learning\n",
    "from sklearn.linear_model import LinearRegression\n",
    "from sklearn.linear_model import Ridge\n",
    "from sklearn.model_selection import train_test_split #needed to for assessing prediction\n",
    "from sklearn import datasets ## imports datasets from scikit-learn\n",
    "import scipy as sc\n",
    "import seaborn as sns\n",
    "import statsmodels.api as sm\n",
    "from statsmodels.formula.api import ols \n",
    "from datetime import datetime\n",
    "from pandas.plotting import autocorrelation_plot\n",
    "from statsmodels.graphics.tsaplots import plot_acf, plot_pacf\n",
    "from statsmodels.tsa.arima_model import ARIMA\n",
    "import pmdarima as pm\n",
    "from scipy.stats import norm\n",
    "import requests\n",
    "from io import BytesIO"
   ]
  },
  {
   "cell_type": "markdown",
   "id": "black-publicity",
   "metadata": {},
   "source": [
    "# Appendix\n",
    "## Introduction\n",
    "\n",
    "In the code below we implement the steps discussed in the main part of the report.\n",
    "\n",
    "First we introduce the necessary functios for calculating model evidence using Bayesian Linear Regression. For finding the best possible predictors, we use AIC, BIC and Bayesian Model Evidence.\n",
    "\n",
    "We find the coefficients for linear regression for the best chosen predictors. And perform prediction into the future, up to the year 2030 for the predictors, using corresponding models for them.\n",
    "\n",
    "We figured out, that the best predictors for our model in terms of AIC/BIC/Model Evidence and common sense are the ```(Petrol+Diesel)``` and ```UK Population```. Using  ```(Petrol+Diesel) = Total_Cars * (1-EV_Fraction)```, we focus on prediction of the ```EV_Fraction``` and ```UK_Population```. We obtain future values for UK population according to the prediction of the Office for National Statistics.\n",
    "\n",
    "The future values of the ```EV_Fraction``` are obtained from the SI model discussed below. We consider three scenarios for this model:\n",
    "1) UK predicted scenario with 43% of EV fraction on the road in 2030;\n",
    "\n",
    "2) Scenario where the current Social Awreness measured in Google trend scores affects the parameter $\\lambda$ of the model;\n",
    "\n",
    "3) Scenario where the UK follows the exact steps which Norway implemented for increasing the usage of the EV in the country in short time."
   ]
  },
  {
   "cell_type": "markdown",
   "id": "inclusive-collection",
   "metadata": {},
   "source": [
    "## Predefine Necessary Functions\n",
    "##### Bayesian Linear Regression Function"
   ]
  },
  {
   "cell_type": "code",
   "execution_count": 2,
   "id": "isolated-moral",
   "metadata": {},
   "outputs": [],
   "source": [
    "# function for Bayesian Linear regression, return posterior mean and 95% CIs\n",
    "def BLR(X,y,mu_0,Om_0_inv,a_0,b_0,ind_names,N):\n",
    "    col_names = ['posterior mean','lower 95% bound','upper 95% bound']\n",
    "    n,p = X.shape\n",
    "    XtX = X.T.dot(X)\n",
    "    Om_n_inv = XtX + Om_0_inv\n",
    "    Om_n = sc.linalg.inv(Om_n_inv)\n",
    "    term1 = Om_0_inv.dot(mu_0)+X.T.dot(y)\n",
    "    mu_n = Om_n.dot(term1)\n",
    "    a_n = a_0 + n/2\n",
    "    term2 = y.T.dot(y)+mu_0.dot(Om_0_inv.dot(mu_0))+mu_n.dot(Om_n_inv.dot(mu_n))\n",
    "    b_n = b_0 + term2/2\n",
    "    sigma2 = 1/np.random.gamma(a_n, 1/b_n, N)\n",
    "    betas = np.zeros((N,p))\n",
    "    # draw N samples from the marginal posterior of beta\n",
    "    for i in range(0,N):\n",
    "        s2 =sigma2[i]\n",
    "        cov = s2*Om_n\n",
    "        betas[i,] = np.random.multivariate_normal(mu_n,cov,1)\n",
    "\n",
    "    #find the mean of each column which corresponds to each beta coefficient     \n",
    "    mu_beta = np.mean(betas, axis=0)\n",
    "    #find the 2.5 and 97.5 percentils which correspond to each beta coefficient \n",
    "    lower95 = np.percentile(betas,2.5,axis=0)\n",
    "    upper95 = np.percentile(betas,97.5,axis=0)\n",
    "    results = np.column_stack([mu_beta,lower95,upper95])\n",
    "    results = pd.DataFrame(results,columns = col_names,index=ind_names)\n",
    "    return results, mu_n, Om_n, a_n, b_n"
   ]
  },
  {
   "cell_type": "markdown",
   "id": "royal-mirror",
   "metadata": {},
   "source": [
    "##### Model Evidence"
   ]
  },
  {
   "cell_type": "code",
   "execution_count": 3,
   "id": "unknown-following",
   "metadata": {},
   "outputs": [],
   "source": [
    "# Function for Bayes Model Evidence\n",
    "def ModEvidence(X,y,mu_n,Om_n,mu_0,Om_0_inv,a_n,b_n,a_0,b_0): \n",
    "    beta = mu_n\n",
    "    sigma2 = b_n/(a_n-1)\n",
    "    Om_0 = sc.linalg.inv(Om_0_inv)\n",
    "    mu = X.dot(beta)\n",
    "    cov = sigma2*np.eye(X.shape[0])\n",
    "    ll = sc.stats.multivariate_normal.logpdf(y,mu,cov)\n",
    "    # evaluate log-prior\n",
    "    lprior = a_0*np.log(b_0)-sc.special.loggamma(a_0)- (a_0+1)*np.log(sigma2)-b_0/sigma2\n",
    "    lprior = lprior + sc.stats.multivariate_normal.logpdf(beta,mu_0,sigma2*Om_0)\n",
    "    # evaluate log-posterior\n",
    "    lpost = a_n*np.log(b_n)-sc.special.loggamma(a_n)- (a_n+1)*np.log(sigma2)-b_n/sigma2\n",
    "    lpost = lpost + sc.stats.multivariate_normal.logpdf(beta,mu_n,sigma2*Om_n)\n",
    "    lmodevid = ll+lprior-lpost\n",
    "    return lmodevid"
   ]
  },
  {
   "cell_type": "markdown",
   "id": "optical-tattoo",
   "metadata": {},
   "source": [
    "## Linear Regression"
   ]
  },
  {
   "cell_type": "code",
   "execution_count": 4,
   "id": "american-grammar",
   "metadata": {},
   "outputs": [
    {
     "data": {
      "text/html": [
       "<div>\n",
       "<style scoped>\n",
       "    .dataframe tbody tr th:only-of-type {\n",
       "        vertical-align: middle;\n",
       "    }\n",
       "\n",
       "    .dataframe tbody tr th {\n",
       "        vertical-align: top;\n",
       "    }\n",
       "\n",
       "    .dataframe thead th {\n",
       "        text-align: right;\n",
       "    }\n",
       "</style>\n",
       "<table border=\"1\" class=\"dataframe\">\n",
       "  <thead>\n",
       "    <tr style=\"text-align: right;\">\n",
       "      <th></th>\n",
       "      <th>Total_CO2_kilotonne</th>\n",
       "      <th>Total_GHGs_kilotonne</th>\n",
       "      <th>Total_Cars</th>\n",
       "      <th>Total_ULEV_cars</th>\n",
       "      <th>Petrol</th>\n",
       "      <th>Diesel</th>\n",
       "      <th>All_EV</th>\n",
       "      <th>All_ULEV_veh133</th>\n",
       "      <th>ULEV_fraction</th>\n",
       "      <th>UK_Population</th>\n",
       "      <th>Total_Vehicle_km</th>\n",
       "      <th>Average_CO2_(g-km)</th>\n",
       "      <th>Average _CO2_cars_first_registered(g-km)</th>\n",
       "      <th>Total_CO2_(NAE_data)</th>\n",
       "      <th>EV_fraction</th>\n",
       "      <th>P_D</th>\n",
       "      <th>Total_co2</th>\n",
       "      <th>Petrol_fraction</th>\n",
       "    </tr>\n",
       "    <tr>\n",
       "      <th>Year</th>\n",
       "      <th></th>\n",
       "      <th></th>\n",
       "      <th></th>\n",
       "      <th></th>\n",
       "      <th></th>\n",
       "      <th></th>\n",
       "      <th></th>\n",
       "      <th></th>\n",
       "      <th></th>\n",
       "      <th></th>\n",
       "      <th></th>\n",
       "      <th></th>\n",
       "      <th></th>\n",
       "      <th></th>\n",
       "      <th></th>\n",
       "      <th></th>\n",
       "      <th></th>\n",
       "      <th></th>\n",
       "    </tr>\n",
       "  </thead>\n",
       "  <tbody>\n",
       "    <tr>\n",
       "      <th>1994</th>\n",
       "      <td>NaN</td>\n",
       "      <td>113648.313</td>\n",
       "      <td>23757800</td>\n",
       "      <td>NaN</td>\n",
       "      <td>19620898.0</td>\n",
       "      <td>1576196.0</td>\n",
       "      <td>93.0</td>\n",
       "      <td>NaN</td>\n",
       "      <td>NaN</td>\n",
       "      <td>57943000.0</td>\n",
       "      <td>4.215000e+11</td>\n",
       "      <td>NaN</td>\n",
       "      <td>NaN</td>\n",
       "      <td>30280.662</td>\n",
       "      <td>0.000004</td>\n",
       "      <td>21197094.0</td>\n",
       "      <td>30280.662</td>\n",
       "      <td>0.825872</td>\n",
       "    </tr>\n",
       "    <tr>\n",
       "      <th>1995</th>\n",
       "      <td>NaN</td>\n",
       "      <td>112645.659</td>\n",
       "      <td>23939800</td>\n",
       "      <td>NaN</td>\n",
       "      <td>19499763.0</td>\n",
       "      <td>1891271.0</td>\n",
       "      <td>74.0</td>\n",
       "      <td>NaN</td>\n",
       "      <td>NaN</td>\n",
       "      <td>58095000.0</td>\n",
       "      <td>4.297000e+11</td>\n",
       "      <td>NaN</td>\n",
       "      <td>NaN</td>\n",
       "      <td>29976.864</td>\n",
       "      <td>0.000003</td>\n",
       "      <td>21391034.0</td>\n",
       "      <td>29976.864</td>\n",
       "      <td>0.814533</td>\n",
       "    </tr>\n",
       "    <tr>\n",
       "      <th>1996</th>\n",
       "      <td>NaN</td>\n",
       "      <td>116737.339</td>\n",
       "      <td>24841300</td>\n",
       "      <td>NaN</td>\n",
       "      <td>20051602.0</td>\n",
       "      <td>2181634.0</td>\n",
       "      <td>94.0</td>\n",
       "      <td>NaN</td>\n",
       "      <td>NaN</td>\n",
       "      <td>58239000.0</td>\n",
       "      <td>4.411000e+11</td>\n",
       "      <td>NaN</td>\n",
       "      <td>NaN</td>\n",
       "      <td>31146.438</td>\n",
       "      <td>0.000004</td>\n",
       "      <td>22233236.0</td>\n",
       "      <td>31146.438</td>\n",
       "      <td>0.807188</td>\n",
       "    </tr>\n",
       "  </tbody>\n",
       "</table>\n",
       "</div>"
      ],
      "text/plain": [
       "      Total_CO2_kilotonne  Total_GHGs_kilotonne  Total_Cars  Total_ULEV_cars  \\\n",
       "Year                                                                           \n",
       "1994                  NaN            113648.313    23757800              NaN   \n",
       "1995                  NaN            112645.659    23939800              NaN   \n",
       "1996                  NaN            116737.339    24841300              NaN   \n",
       "\n",
       "          Petrol     Diesel  All_EV  All_ULEV_veh133  ULEV_fraction  \\\n",
       "Year                                                                  \n",
       "1994  19620898.0  1576196.0    93.0              NaN            NaN   \n",
       "1995  19499763.0  1891271.0    74.0              NaN            NaN   \n",
       "1996  20051602.0  2181634.0    94.0              NaN            NaN   \n",
       "\n",
       "      UK_Population  Total_Vehicle_km  Average_CO2_(g-km)  \\\n",
       "Year                                                        \n",
       "1994     57943000.0      4.215000e+11                 NaN   \n",
       "1995     58095000.0      4.297000e+11                 NaN   \n",
       "1996     58239000.0      4.411000e+11                 NaN   \n",
       "\n",
       "      Average _CO2_cars_first_registered(g-km)  Total_CO2_(NAE_data)  \\\n",
       "Year                                                                   \n",
       "1994                                       NaN             30280.662   \n",
       "1995                                       NaN             29976.864   \n",
       "1996                                       NaN             31146.438   \n",
       "\n",
       "      EV_fraction         P_D  Total_co2  Petrol_fraction  \n",
       "Year                                                       \n",
       "1994     0.000004  21197094.0  30280.662         0.825872  \n",
       "1995     0.000003  21391034.0  29976.864         0.814533  \n",
       "1996     0.000004  22233236.0  31146.438         0.807188  "
      ]
     },
     "execution_count": 4,
     "metadata": {},
     "output_type": "execute_result"
    }
   ],
   "source": [
    "data = pd.read_csv('data/GB_all_data.csv')\n",
    "data = data.set_index('Year')\n",
    "data = data.fillna(method = 'ffill')\n",
    "data['EV_fraction'] = data['All_EV']/data['Total_Cars']\n",
    "data['P_D']=data['Petrol']+data['Diesel']\n",
    "data['Total_co2']= data['Total_CO2_(NAE_data)']\n",
    "data['Petrol_fraction']=data['Petrol']/data['Total_Cars']\n",
    "data.head(3)\n",
    "\n"
   ]
  },
  {
   "cell_type": "markdown",
   "id": "floppy-calvin",
   "metadata": {},
   "source": [
    "### Standardize the data"
   ]
  },
  {
   "cell_type": "code",
   "execution_count": 5,
   "id": "ranking-attraction",
   "metadata": {},
   "outputs": [],
   "source": [
    "mat = np.array(data.T) # obtain an array from the dataframe\n",
    "std_mat = np.std(mat, axis = 1) # array of standard defviations\n",
    "mean_mat = np.mean(mat, axis = 1) # array of means\n",
    "\n",
    "mat_stand = (mat-mean_mat.reshape(-1,1))/std_mat.reshape(-1,1) # standardize the data\n",
    "\n",
    "standard_data = pd.DataFrame(mat_stand.T, index = data.index, #transfer back to dataframe\n",
    "                             columns = data.columns)\n",
    "\n",
    "std_mat = pd.DataFrame(std_mat.reshape(1,-1), \n",
    "                             columns = data.columns)\n",
    "\n",
    "mean_mat = pd.DataFrame(mean_mat.reshape(1,-1), \n",
    "                             columns = data.columns)\n"
   ]
  },
  {
   "cell_type": "markdown",
   "id": "christian-morocco",
   "metadata": {},
   "source": [
    "### Obtain the predictors\n",
    "\n",
    "Since there are too less samples, we consider juts two predictors for the model. We will consider Bayes Model Evidence as one of the approaches to choose the pair of predictors."
   ]
  },
  {
   "cell_type": "code",
   "execution_count": 6,
   "id": "classified-feature",
   "metadata": {},
   "outputs": [],
   "source": [
    "predictors = ['All_EV','EV_fraction','Total_Cars','UK_Population','P_D','Petrol_fraction'] #list of predictors\n",
    "pairs = [[a,b] for a in predictors for b in predictors if a<b] # split into pairs\n",
    "\n",
    "mask_train = data.index<2019\n",
    "# y = standard_data['Total_GHGs_kilotonne'][mask_train]\n",
    "y = standard_data['Total_co2'][mask_train]\n",
    "a_0 = 0.1\n",
    "b_0 = 0.1\n",
    "N = 10000 #Monte Carlo sample size\n",
    "\n",
    "K = len(pairs)\n",
    "Evidence = np.ones(K)\n",
    "\n",
    "for i in range(K):\n",
    "    predictors = pairs[i]\n",
    "    X = standard_data[predictors][mask_train]\n",
    "    n,p = X.shape\n",
    "    mu_0 = np.zeros(p)\n",
    "    XtX = X.T.dot(X)\n",
    "    Om_0_inv = XtX/n #unit information prior\n",
    "    results, mu_n, Om_n, a_n, b_n = BLR(X,y,mu_0,Om_0_inv,a_0,b_0,predictors,N)   \n",
    "    Evidence[i] = ModEvidence(X,y,mu_n,Om_n,mu_0,Om_0_inv,a_n,b_n,a_0,b_0)"
   ]
  },
  {
   "cell_type": "code",
   "execution_count": 7,
   "id": "optimum-findings",
   "metadata": {},
   "outputs": [
    {
     "name": "stdout",
     "output_type": "stream",
     "text": [
      "Table for the Model Evidence\n"
     ]
    },
    {
     "data": {
      "text/html": [
       "<div>\n",
       "<style scoped>\n",
       "    .dataframe tbody tr th:only-of-type {\n",
       "        vertical-align: middle;\n",
       "    }\n",
       "\n",
       "    .dataframe tbody tr th {\n",
       "        vertical-align: top;\n",
       "    }\n",
       "\n",
       "    .dataframe thead th {\n",
       "        text-align: right;\n",
       "    }\n",
       "</style>\n",
       "<table border=\"1\" class=\"dataframe\">\n",
       "  <thead>\n",
       "    <tr style=\"text-align: right;\">\n",
       "      <th></th>\n",
       "      <th>Predictors</th>\n",
       "      <th>Evidence</th>\n",
       "    </tr>\n",
       "  </thead>\n",
       "  <tbody>\n",
       "    <tr>\n",
       "      <th>13</th>\n",
       "      <td>[Petrol_fraction, Total_Cars]</td>\n",
       "      <td>-39.594235</td>\n",
       "    </tr>\n",
       "    <tr>\n",
       "      <th>9</th>\n",
       "      <td>[Total_Cars, UK_Population]</td>\n",
       "      <td>-39.620303</td>\n",
       "    </tr>\n",
       "    <tr>\n",
       "      <th>12</th>\n",
       "      <td>[P_D, Petrol_fraction]</td>\n",
       "      <td>-39.640187</td>\n",
       "    </tr>\n",
       "    <tr>\n",
       "      <th>11</th>\n",
       "      <td>[P_D, UK_Population]</td>\n",
       "      <td>-39.684615</td>\n",
       "    </tr>\n",
       "    <tr>\n",
       "      <th>0</th>\n",
       "      <td>[All_EV, EV_fraction]</td>\n",
       "      <td>-39.976824</td>\n",
       "    </tr>\n",
       "  </tbody>\n",
       "</table>\n",
       "</div>"
      ],
      "text/plain": [
       "                       Predictors   Evidence\n",
       "13  [Petrol_fraction, Total_Cars] -39.594235\n",
       "9     [Total_Cars, UK_Population] -39.620303\n",
       "12         [P_D, Petrol_fraction] -39.640187\n",
       "11           [P_D, UK_Population] -39.684615\n",
       "0           [All_EV, EV_fraction] -39.976824"
      ]
     },
     "execution_count": 7,
     "metadata": {},
     "output_type": "execute_result"
    }
   ],
   "source": [
    "#Evidence_table\n",
    "model_evidence = pd.DataFrame([[a,b] for a,b in zip(pairs,Evidence)], \n",
    "                              columns = ['Predictors','Evidence']).sort_values('Evidence', axis = 0, \n",
    "                                                                               ascending = False)\n",
    "print('Table for the Model Evidence')\n",
    "model_evidence.head()"
   ]
  },
  {
   "cell_type": "markdown",
   "id": "monetary-envelope",
   "metadata": {},
   "source": [
    "### AIC and BIC for model selection"
   ]
  },
  {
   "cell_type": "code",
   "execution_count": 8,
   "id": "fresh-conservation",
   "metadata": {},
   "outputs": [
    {
     "name": "stdout",
     "output_type": "stream",
     "text": [
      "Total_co2~All_EV+EV_fraction 67.63650100460357\n",
      "Total_co2~All_EV+Total_Cars 79.72224269316641\n",
      "Total_co2~All_EV+UK_Population 76.3860738115662\n",
      "Total_co2~All_EV+P_D 79.70999134756876\n",
      "Total_co2~All_EV+Petrol_fraction 77.03776140178539\n",
      "Total_co2~EV_fraction+Total_Cars 79.34884880033474\n",
      "Total_co2~EV_fraction+UK_Population 76.49369787527468\n",
      "Total_co2~EV_fraction+P_D 79.33248902803794\n",
      "Total_co2~EV_fraction+Petrol_fraction 77.0743939118195\n",
      "Total_co2~Total_Cars+UK_Population 51.879858700370924\n",
      "Total_co2~P_D+Total_Cars 78.70759150605552\n",
      "Total_co2~P_D+UK_Population 58.806082560918\n",
      "Total_co2~P_D+Petrol_fraction 52.29274635982891\n",
      "Total_co2~Petrol_fraction+Total_Cars 46.87492891198832\n",
      "Total_co2~Petrol_fraction+UK_Population 76.5192105354318\n"
     ]
    }
   ],
   "source": [
    "target = 'Total_co2'\n",
    "select_list = []\n",
    "\n",
    "for i in range(K):\n",
    "    predictors = pairs[i]\n",
    "    formula=\"{}~{}\".format(target,\"+\".join(predictors))  \n",
    "    aic=ols(formula=formula,data=standard_data).fit().aic \n",
    "    bic=ols(formula=formula,data=standard_data).fit().bic\n",
    "    formula_select = [formula,aic,bic]\n",
    "    select_list.append(formula_select)\n",
    "    print(formula,aic)\n",
    "min_aic = min([i[1] for i in select_list] )   \n",
    "min_bic = min([i[2] for i in select_list] )"
   ]
  },
  {
   "cell_type": "code",
   "execution_count": 9,
   "id": "cosmetic-algebra",
   "metadata": {},
   "outputs": [
    {
     "name": "stdout",
     "output_type": "stream",
     "text": [
      "smallest aic 46.87492891198832 Total_co2~Petrol_fraction+Total_Cars\n",
      "smallest bic 50.76243951000131 Total_co2~Petrol_fraction+Total_Cars\n"
     ]
    }
   ],
   "source": [
    "for i in select_list:\n",
    "    if i[1] == min_aic:\n",
    "        print('smallest aic',min_aic,i[0])\n",
    "    if i[2] == min_bic:\n",
    "        print('smallest bic',min_bic,i[0])     "
   ]
  },
  {
   "cell_type": "markdown",
   "id": "athletic-disclaimer",
   "metadata": {},
   "source": [
    "## Main model"
   ]
  },
  {
   "cell_type": "code",
   "execution_count": 10,
   "id": "described-watts",
   "metadata": {},
   "outputs": [
    {
     "data": {
      "text/html": [
       "<table class=\"simpletable\">\n",
       "<caption>OLS Regression Results</caption>\n",
       "<tr>\n",
       "  <th>Dep. Variable:</th>        <td>Total_co2</td>    <th>  R-squared:         </th> <td>   0.586</td>\n",
       "</tr>\n",
       "<tr>\n",
       "  <th>Model:</th>                   <td>OLS</td>       <th>  Adj. R-squared:    </th> <td>   0.552</td>\n",
       "</tr>\n",
       "<tr>\n",
       "  <th>Method:</th>             <td>Least Squares</td>  <th>  F-statistic:       </th> <td>   16.99</td>\n",
       "</tr>\n",
       "<tr>\n",
       "  <th>Date:</th>             <td>Wed, 17 Mar 2021</td> <th>  Prob (F-statistic):</th> <td>2.53e-05</td>\n",
       "</tr>\n",
       "<tr>\n",
       "  <th>Time:</th>                 <td>14:11:50</td>     <th>  Log-Likelihood:    </th> <td> -26.403</td>\n",
       "</tr>\n",
       "<tr>\n",
       "  <th>No. Observations:</th>      <td>    27</td>      <th>  AIC:               </th> <td>   58.81</td>\n",
       "</tr>\n",
       "<tr>\n",
       "  <th>Df Residuals:</th>          <td>    24</td>      <th>  BIC:               </th> <td>   62.69</td>\n",
       "</tr>\n",
       "<tr>\n",
       "  <th>Df Model:</th>              <td>     2</td>      <th>                     </th>     <td> </td>   \n",
       "</tr>\n",
       "<tr>\n",
       "  <th>Covariance Type:</th>      <td>nonrobust</td>    <th>                     </th>     <td> </td>   \n",
       "</tr>\n",
       "</table>\n",
       "<table class=\"simpletable\">\n",
       "<tr>\n",
       "        <td></td>           <th>coef</th>     <th>std err</th>      <th>t</th>      <th>P>|t|</th>  <th>[0.025</th>    <th>0.975]</th>  \n",
       "</tr>\n",
       "<tr>\n",
       "  <th>const</th>         <td>-2.203e-15</td> <td>    0.131</td> <td>-1.68e-14</td> <td> 1.000</td> <td>   -0.271</td> <td>    0.271</td>\n",
       "</tr>\n",
       "<tr>\n",
       "  <th>UK_Population</th> <td>   -2.2504</td> <td>    0.402</td> <td>   -5.602</td> <td> 0.000</td> <td>   -3.079</td> <td>   -1.421</td>\n",
       "</tr>\n",
       "<tr>\n",
       "  <th>P_D</th>           <td>    1.9151</td> <td>    0.402</td> <td>    4.767</td> <td> 0.000</td> <td>    1.086</td> <td>    2.744</td>\n",
       "</tr>\n",
       "</table>\n",
       "<table class=\"simpletable\">\n",
       "<tr>\n",
       "  <th>Omnibus:</th>       <td> 2.384</td> <th>  Durbin-Watson:     </th> <td>   0.446</td>\n",
       "</tr>\n",
       "<tr>\n",
       "  <th>Prob(Omnibus):</th> <td> 0.304</td> <th>  Jarque-Bera (JB):  </th> <td>   1.793</td>\n",
       "</tr>\n",
       "<tr>\n",
       "  <th>Skew:</th>          <td>-0.461</td> <th>  Prob(JB):          </th> <td>   0.408</td>\n",
       "</tr>\n",
       "<tr>\n",
       "  <th>Kurtosis:</th>      <td> 2.137</td> <th>  Cond. No.          </th> <td>    5.95</td>\n",
       "</tr>\n",
       "</table><br/><br/>Notes:<br/>[1] Standard Errors assume that the covariance matrix of the errors is correctly specified."
      ],
      "text/plain": [
       "<class 'statsmodels.iolib.summary.Summary'>\n",
       "\"\"\"\n",
       "                            OLS Regression Results                            \n",
       "==============================================================================\n",
       "Dep. Variable:              Total_co2   R-squared:                       0.586\n",
       "Model:                            OLS   Adj. R-squared:                  0.552\n",
       "Method:                 Least Squares   F-statistic:                     16.99\n",
       "Date:                Wed, 17 Mar 2021   Prob (F-statistic):           2.53e-05\n",
       "Time:                        14:11:50   Log-Likelihood:                -26.403\n",
       "No. Observations:                  27   AIC:                             58.81\n",
       "Df Residuals:                      24   BIC:                             62.69\n",
       "Df Model:                           2                                         \n",
       "Covariance Type:            nonrobust                                         \n",
       "=================================================================================\n",
       "                    coef    std err          t      P>|t|      [0.025      0.975]\n",
       "---------------------------------------------------------------------------------\n",
       "const         -2.203e-15      0.131  -1.68e-14      1.000      -0.271       0.271\n",
       "UK_Population    -2.2504      0.402     -5.602      0.000      -3.079      -1.421\n",
       "P_D               1.9151      0.402      4.767      0.000       1.086       2.744\n",
       "==============================================================================\n",
       "Omnibus:                        2.384   Durbin-Watson:                   0.446\n",
       "Prob(Omnibus):                  0.304   Jarque-Bera (JB):                1.793\n",
       "Skew:                          -0.461   Prob(JB):                        0.408\n",
       "Kurtosis:                       2.137   Cond. No.                         5.95\n",
       "==============================================================================\n",
       "\n",
       "Notes:\n",
       "[1] Standard Errors assume that the covariance matrix of the errors is correctly specified.\n",
       "\"\"\""
      ]
     },
     "execution_count": 10,
     "metadata": {},
     "output_type": "execute_result"
    }
   ],
   "source": [
    "import statsmodels.api as sm\n",
    "\n",
    "predictors = ['UK_Population', 'P_D']\n",
    "\n",
    "y = standard_data['Total_co2']\n",
    "\n",
    "X = standard_data[predictors]\n",
    "X = sm.add_constant(X) \n",
    "model = sm.OLS(y, X).fit()\n",
    "model.summary()"
   ]
  },
  {
   "cell_type": "markdown",
   "id": "independent-sperm",
   "metadata": {},
   "source": [
    "## ARIMA Model for Total Cars\n",
    "\n",
    "For predicting the Petrol+Diesel, we first build ARIMA model for Total cars prediction"
   ]
  },
  {
   "cell_type": "code",
   "execution_count": 11,
   "id": "impressed-findings",
   "metadata": {},
   "outputs": [
    {
     "data": {
      "text/plain": [
       "[<matplotlib.lines.Line2D at 0x7f7f8df7e610>]"
      ]
     },
     "execution_count": 11,
     "metadata": {},
     "output_type": "execute_result"
    },
    {
     "data": {
      "image/png": "[encoded data removed]",
      "text/plain": [
       "<Figure size 432x288 with 1 Axes>"
      ]
     },
     "metadata": {
      "needs_background": "light"
     },
     "output_type": "display_data"
    }
   ],
   "source": [
    "main = pd.read_csv('data/data_quaterly.csv')\n",
    "main['time']= pd.to_datetime(main['Quarter'].str.replace(' ','-'))#.replace()pd.to_datetime(df['Quarter'])\n",
    "main = main.set_index('time')\n",
    "# main[' Cars'] = main[' Cars'].str.replace('..','')\n",
    "cars = main['Total']\n",
    "cars = cars.fillna(method = 'ffill').dropna(axis=0)\n",
    "cars = cars[~cars.isin(['..'])]\n",
    "cars = cars.astype('float')\n",
    "\n",
    "plt.plot(cars)\n"
   ]
  },
  {
   "cell_type": "code",
   "execution_count": 12,
   "id": "excessive-tractor",
   "metadata": {},
   "outputs": [
    {
     "name": "stdout",
     "output_type": "stream",
     "text": [
      "ADF Statistic: -2.719409\n",
      "p-value: 0.070739\n"
     ]
    },
    {
     "data": {
      "image/png": "[encoded data removed]",
      "text/plain": [
       "<Figure size 432x288 with 1 Axes>"
      ]
     },
     "metadata": {
      "needs_background": "light"
     },
     "output_type": "display_data"
    }
   ],
   "source": [
    "# check the stationarity\n",
    "from statsmodels.tsa.stattools import adfuller,arma_order_select_ic\n",
    "from numpy import log\n",
    "\n",
    "car_diff = cars.diff().dropna()\n",
    "car_diff_4 = cars.diff(4).dropna()\n",
    "plt.plot(car_diff,label='diff1')\n",
    "plt.plot(car_diff_4,label='diff_season')\n",
    "plt.legend(loc='upper left', fontsize=8)\n",
    "\n",
    "result = adfuller(car_diff)\n",
    "print('ADF Statistic: %f' % result[0])\n",
    "print('p-value: %f' % result[1])"
   ]
  },
  {
   "cell_type": "markdown",
   "id": "supposed-adapter",
   "metadata": {},
   "source": [
    "The ADF Statistic is far from the critical values and the p-value is greater than the threshold (0.05).\n",
    "Thus, we can conclude that the time series is not stationary."
   ]
  },
  {
   "cell_type": "code",
   "execution_count": 13,
   "id": "meaning-being",
   "metadata": {
    "scrolled": true
   },
   "outputs": [
    {
     "name": "stdout",
     "output_type": "stream",
     "text": [
      "Performing stepwise search to minimize aic\n",
      " ARIMA(1,1,1)(0,0,0)[0] intercept   : AIC=1381.784, Time=0.20 sec\n",
      " ARIMA(0,1,0)(0,0,0)[0] intercept   : AIC=1385.704, Time=0.02 sec\n",
      " ARIMA(1,1,0)(0,0,0)[0] intercept   : AIC=1385.998, Time=0.07 sec\n",
      " ARIMA(0,1,1)(0,0,0)[0] intercept   : AIC=1384.719, Time=0.17 sec\n",
      " ARIMA(0,1,0)(0,0,0)[0]             : AIC=1417.957, Time=0.02 sec\n",
      " ARIMA(2,1,1)(0,0,0)[0] intercept   : AIC=1383.495, Time=0.22 sec\n",
      " ARIMA(1,1,2)(0,0,0)[0] intercept   : AIC=1386.184, Time=0.18 sec\n",
      " ARIMA(0,1,2)(0,0,0)[0] intercept   : AIC=1384.191, Time=0.11 sec\n",
      " ARIMA(2,1,0)(0,0,0)[0] intercept   : AIC=1382.622, Time=0.11 sec\n",
      " ARIMA(2,1,2)(0,0,0)[0] intercept   : AIC=1355.067, Time=0.34 sec\n",
      " ARIMA(3,1,2)(0,0,0)[0] intercept   : AIC=1356.395, Time=0.53 sec\n",
      " ARIMA(2,1,3)(0,0,0)[0] intercept   : AIC=1358.877, Time=0.81 sec\n",
      " ARIMA(1,1,3)(0,0,0)[0] intercept   : AIC=1370.111, Time=0.45 sec\n",
      " ARIMA(3,1,1)(0,0,0)[0] intercept   : AIC=1358.661, Time=0.39 sec\n",
      " ARIMA(3,1,3)(0,0,0)[0] intercept   : AIC=1356.776, Time=0.95 sec\n",
      " ARIMA(2,1,2)(0,0,0)[0]             : AIC=1386.030, Time=0.32 sec\n",
      "\n",
      "Best model:  ARIMA(2,1,2)(0,0,0)[0] intercept\n",
      "Total fit time: 4.926 seconds\n",
      "                               SARIMAX Results                                \n",
      "==============================================================================\n",
      "Dep. Variable:                      y   No. Observations:                  104\n",
      "Model:               SARIMAX(2, 1, 2)   Log Likelihood                -671.533\n",
      "Date:                Wed, 17 Mar 2021   AIC                           1355.067\n",
      "Time:                        14:11:56   BIC                           1370.875\n",
      "Sample:                             0   HQIC                          1361.470\n",
      "                                - 104                                         \n",
      "Covariance Type:                  opg                                         \n",
      "==============================================================================\n",
      "                 coef    std err          z      P>|z|      [0.025      0.975]\n",
      "------------------------------------------------------------------------------\n",
      "intercept    199.5762     30.387      6.568      0.000     140.020     259.133\n",
      "ar.L1          0.1286      0.046      2.825      0.005       0.039       0.218\n",
      "ar.L2         -0.9352      0.045    -20.727      0.000      -1.024      -0.847\n",
      "ma.L1         -0.2915      0.089     -3.272      0.001      -0.466      -0.117\n",
      "ma.L2          0.8626      0.078     11.012      0.000       0.709       1.016\n",
      "sigma2      2.558e+04   3057.108      8.366      0.000    1.96e+04    3.16e+04\n",
      "===================================================================================\n",
      "Ljung-Box (L1) (Q):                   0.39   Jarque-Bera (JB):                22.88\n",
      "Prob(Q):                              0.53   Prob(JB):                         0.00\n",
      "Heteroskedasticity (H):               0.50   Skew:                             0.71\n",
      "Prob(H) (two-sided):                  0.05   Kurtosis:                         4.82\n",
      "===================================================================================\n",
      "\n",
      "Warnings:\n",
      "[1] Covariance matrix calculated using the outer product of gradients (complex-step).\n"
     ]
    }
   ],
   "source": [
    "import warnings\n",
    "warnings.filterwarnings('ignore', 'statsmodels.tsa.arima_model.ARMA',\n",
    "                        FutureWarning)\n",
    "warnings.filterwarnings('ignore', 'statsmodels.tsa.arima_model.ARIMA',\n",
    "                        FutureWarning)\n",
    "model = pm.auto_arima(cars, start_p=1, start_q=1,\n",
    "                      test='adf',       # use adftest to find optimal 'd'\n",
    "                      max_p=3, max_q=3, # maximum p and q\n",
    "                      m=1,              # frequency of series\n",
    "                      d=1,           # set the difference as 1\n",
    "                      seasonal=False,   # No Seasonality\n",
    "                      start_P=0, \n",
    "                      D=0, \n",
    "                      trace=True,\n",
    "                      error_action='ignore',  \n",
    "                      suppress_warnings=True, \n",
    "                      stepwise=True)\n",
    "\n",
    "print(model.summary())\n",
    "\n",
    "# arma_order_select_ic(car_diff, max_ar=3, max_ma=3, ic='aic', trend='c', model_kw=None, fit_kw=None)"
   ]
  },
  {
   "cell_type": "code",
   "execution_count": 14,
   "id": "elect-student",
   "metadata": {
    "scrolled": true
   },
   "outputs": [
    {
     "data": {
      "text/plain": [
       "Text(0, 0.5, 'Autocorrelation')"
      ]
     },
     "execution_count": 14,
     "metadata": {},
     "output_type": "execute_result"
    },
    {
     "data": {
      "text/plain": [
       "<Figure size 1200x500 with 0 Axes>"
      ]
     },
     "metadata": {},
     "output_type": "display_data"
    },
    {
     "data": {
      "image/png": "[encoded data removed]",
      "text/plain": [
       "<Figure size 432x288 with 1 Axes>"
      ]
     },
     "metadata": {
      "needs_background": "light"
     },
     "output_type": "display_data"
    }
   ],
   "source": [
    "plt.figure(figsize=(12,5), dpi=100)\n",
    "plot_acf(car_diff)\n",
    "plt.xlabel('Lags', fontsize=10)\n",
    "plt.ylabel('Autocorrelation', fontsize=10)"
   ]
  },
  {
   "cell_type": "code",
   "execution_count": 15,
   "id": "accompanied-corrections",
   "metadata": {},
   "outputs": [
    {
     "data": {
      "text/plain": [
       "Text(0, 0.5, 'Partial Autocorrelation')"
      ]
     },
     "execution_count": 15,
     "metadata": {},
     "output_type": "execute_result"
    },
    {
     "data": {
      "image/png": "[encoded data removed]",
      "text/plain": [
       "<Figure size 432x288 with 1 Axes>"
      ]
     },
     "metadata": {
      "needs_background": "light"
     },
     "output_type": "display_data"
    }
   ],
   "source": [
    "plot_pacf(car_diff)\n",
    "plt.xlabel('Lags', fontsize=10)\n",
    "plt.ylabel('Partial Autocorrelation', fontsize=10)"
   ]
  },
  {
   "cell_type": "code",
   "execution_count": 16,
   "id": "constant-memorabilia",
   "metadata": {},
   "outputs": [
    {
     "name": "stderr",
     "output_type": "stream",
     "text": [
      "/Users/firuzamamedova/opt/anaconda3/lib/python3.8/site-packages/statsmodels/tsa/arima_model.py:472: FutureWarning: \n",
      "statsmodels.tsa.arima_model.ARMA and statsmodels.tsa.arima_model.ARIMA have\n",
      "been deprecated in favor of statsmodels.tsa.arima.model.ARIMA (note the .\n",
      "between arima and model) and\n",
      "statsmodels.tsa.SARIMAX. These will be removed after the 0.12 release.\n",
      "\n",
      "statsmodels.tsa.arima.model.ARIMA makes use of the statespace framework and\n",
      "is both well tested and maintained.\n",
      "\n",
      "To silence this warning and continue using ARMA and ARIMA until they are\n",
      "removed, use:\n",
      "\n",
      "import warnings\n",
      "warnings.filterwarnings('ignore', 'statsmodels.tsa.arima_model.ARMA',\n",
      "                        FutureWarning)\n",
      "warnings.filterwarnings('ignore', 'statsmodels.tsa.arima_model.ARIMA',\n",
      "                        FutureWarning)\n",
      "\n",
      "  warnings.warn(ARIMA_DEPRECATION_WARN, FutureWarning)\n",
      "/Users/firuzamamedova/opt/anaconda3/lib/python3.8/site-packages/statsmodels/tsa/base/tsa_model.py:524: ValueWarning: No frequency information was provided, so inferred frequency QS-OCT will be used.\n",
      "  warnings.warn('No frequency information was'\n",
      "/Users/firuzamamedova/opt/anaconda3/lib/python3.8/site-packages/statsmodels/tsa/base/tsa_model.py:524: ValueWarning: No frequency information was provided, so inferred frequency QS-OCT will be used.\n",
      "  warnings.warn('No frequency information was'\n",
      "/Users/firuzamamedova/opt/anaconda3/lib/python3.8/site-packages/statsmodels/tsa/arima_model.py:472: FutureWarning: \n",
      "statsmodels.tsa.arima_model.ARMA and statsmodels.tsa.arima_model.ARIMA have\n",
      "been deprecated in favor of statsmodels.tsa.arima.model.ARIMA (note the .\n",
      "between arima and model) and\n",
      "statsmodels.tsa.SARIMAX. These will be removed after the 0.12 release.\n",
      "\n",
      "statsmodels.tsa.arima.model.ARIMA makes use of the statespace framework and\n",
      "is both well tested and maintained.\n",
      "\n",
      "To silence this warning and continue using ARMA and ARIMA until they are\n",
      "removed, use:\n",
      "\n",
      "import warnings\n",
      "warnings.filterwarnings('ignore', 'statsmodels.tsa.arima_model.ARMA',\n",
      "                        FutureWarning)\n",
      "warnings.filterwarnings('ignore', 'statsmodels.tsa.arima_model.ARIMA',\n",
      "                        FutureWarning)\n",
      "\n",
      "  warnings.warn(ARIMA_DEPRECATION_WARN, FutureWarning)\n"
     ]
    },
    {
     "name": "stdout",
     "output_type": "stream",
     "text": [
      "                             ARIMA Model Results                              \n",
      "==============================================================================\n",
      "Dep. Variable:                D.Total   No. Observations:                  103\n",
      "Model:                 ARIMA(2, 1, 2)   Log Likelihood                -671.799\n",
      "Method:                       css-mle   S.D. of innovations            162.766\n",
      "Date:                Wed, 17 Mar 2021   AIC                           1355.598\n",
      "Time:                        14:11:57   BIC                           1371.406\n",
      "Sample:                    01-01-1995   HQIC                          1362.001\n",
      "                         - 07-01-2020                                         \n",
      "=================================================================================\n",
      "                    coef    std err          z      P>|z|      [0.025      0.975]\n",
      "---------------------------------------------------------------------------------\n",
      "const           124.1744     13.461      9.225      0.000      97.791     150.558\n",
      "ar.L1.D.Total     0.1436      0.049      2.902      0.004       0.047       0.241\n",
      "ar.L2.D.Total    -0.9499      0.038    -25.123      0.000      -1.024      -0.876\n",
      "ma.L1.D.Total    -0.3518      0.101     -3.498      0.000      -0.549      -0.155\n",
      "ma.L2.D.Total     0.8661      0.067     12.860      0.000       0.734       0.998\n",
      "                                    Roots                                    \n",
      "=============================================================================\n",
      "                  Real          Imaginary           Modulus         Frequency\n",
      "-----------------------------------------------------------------------------\n",
      "AR.1            0.0756           -1.0233j            1.0261           -0.2383\n",
      "AR.2            0.0756           +1.0233j            1.0261            0.2383\n",
      "MA.1            0.2031           -1.0551j            1.0745           -0.2197\n",
      "MA.2            0.2031           +1.0551j            1.0745            0.2197\n",
      "-----------------------------------------------------------------------------\n"
     ]
    },
    {
     "data": {
      "image/png": "[encoded data removed]",
      "text/plain": [
       "<Figure size 432x288 with 2 Axes>"
      ]
     },
     "metadata": {
      "needs_background": "light"
     },
     "output_type": "display_data"
    },
    {
     "data": {
      "image/png": "[encoded data removed]",
      "text/plain": [
       "<Figure size 432x288 with 1 Axes>"
      ]
     },
     "metadata": {
      "needs_background": "light"
     },
     "output_type": "display_data"
    },
    {
     "name": "stderr",
     "output_type": "stream",
     "text": [
      "/Users/firuzamamedova/opt/anaconda3/lib/python3.8/site-packages/statsmodels/tsa/arima_model.py:472: FutureWarning: \n",
      "statsmodels.tsa.arima_model.ARMA and statsmodels.tsa.arima_model.ARIMA have\n",
      "been deprecated in favor of statsmodels.tsa.arima.model.ARIMA (note the .\n",
      "between arima and model) and\n",
      "statsmodels.tsa.SARIMAX. These will be removed after the 0.12 release.\n",
      "\n",
      "statsmodels.tsa.arima.model.ARIMA makes use of the statespace framework and\n",
      "is both well tested and maintained.\n",
      "\n",
      "To silence this warning and continue using ARMA and ARIMA until they are\n",
      "removed, use:\n",
      "\n",
      "import warnings\n",
      "warnings.filterwarnings('ignore', 'statsmodels.tsa.arima_model.ARMA',\n",
      "                        FutureWarning)\n",
      "warnings.filterwarnings('ignore', 'statsmodels.tsa.arima_model.ARIMA',\n",
      "                        FutureWarning)\n",
      "\n",
      "  warnings.warn(ARIMA_DEPRECATION_WARN, FutureWarning)\n",
      "/Users/firuzamamedova/opt/anaconda3/lib/python3.8/site-packages/statsmodels/tsa/base/tsa_model.py:524: ValueWarning: No frequency information was provided, so inferred frequency QS-OCT will be used.\n",
      "  warnings.warn('No frequency information was'\n",
      "/Users/firuzamamedova/opt/anaconda3/lib/python3.8/site-packages/statsmodels/tsa/base/tsa_model.py:524: ValueWarning: No frequency information was provided, so inferred frequency QS-OCT will be used.\n",
      "  warnings.warn('No frequency information was'\n"
     ]
    },
    {
     "name": "stdout",
     "output_type": "stream",
     "text": [
      "                             ARIMA Model Results                              \n",
      "==============================================================================\n",
      "Dep. Variable:                D.Total   No. Observations:                   68\n",
      "Model:                 ARIMA(1, 1, 0)   Log Likelihood                -459.824\n",
      "Method:                       css-mle   S.D. of innovations            209.123\n",
      "Date:                Wed, 17 Mar 2021   AIC                            925.649\n",
      "Time:                        14:11:58   BIC                            932.307\n",
      "Sample:                    01-01-1995   HQIC                           928.287\n",
      "                         - 10-01-2011                                         \n",
      "=================================================================================\n",
      "                    coef    std err          z      P>|z|      [0.025      0.975]\n",
      "---------------------------------------------------------------------------------\n",
      "const           124.8365     21.444      5.821      0.000      82.807     166.866\n",
      "ar.L1.D.Total    -0.1857      0.120     -1.544      0.123      -0.421       0.050\n",
      "                                    Roots                                    \n",
      "=============================================================================\n",
      "                  Real          Imaginary           Modulus         Frequency\n",
      "-----------------------------------------------------------------------------\n",
      "AR.1           -5.3852           +0.0000j            5.3852            0.5000\n",
      "-----------------------------------------------------------------------------\n"
     ]
    },
    {
     "data": {
      "image/png": "[encoded data removed]",
      "text/plain": [
       "<Figure size 1200x500 with 1 Axes>"
      ]
     },
     "metadata": {
      "needs_background": "light"
     },
     "output_type": "display_data"
    },
    {
     "data": {
      "text/plain": [
       "0.8036052265097938"
      ]
     },
     "execution_count": 16,
     "metadata": {},
     "output_type": "execute_result"
    }
   ],
   "source": [
    "#build the arima\n",
    "from statsmodels.tsa.arima_model import ARIMA\n",
    "\n",
    "# 2,1,2 ARIMA Model\n",
    "model = ARIMA(cars, order=(2,1,2))\n",
    "model_fit = model.fit(disp=0)\n",
    "print(model_fit.summary())\n",
    "\n",
    "# Plot residual errors\n",
    "residuals = pd.DataFrame(model_fit.resid)\n",
    "fig, ax = plt.subplots(1,2)\n",
    "residuals.plot(title=\"Residuals\", ax=ax[0])\n",
    "residuals.plot(kind='kde', title='Density', ax=ax[1])\n",
    "plt.show()\n",
    "\n",
    "# Actual vs Fitted\n",
    "model_fit.plot_predict(dynamic=False)\n",
    "plt.show()\n",
    "\n",
    "#predict\n",
    "fc, se, conf = model_fit.forecast(4*10, alpha=0.05)  # 95% conf \n",
    "\n",
    "#if we spilit the data as training and testing data, and calculate the MAE\n",
    "\n",
    "def mean_absolute_percentage_error(y_true, y_pred): \n",
    "    y_true, y_pred = np.array(y_true), np.array(y_pred)\n",
    "    return np.mean(np.abs((y_true - y_pred) / y_true)) * 100\n",
    "\n",
    "test = cars[np.round(2/3*len(cars)).astype(int):]\n",
    "train = cars[:np.round(2/3*len(cars)).astype(int)]\n",
    "model = ARIMA(train, order=(1,1,0))\n",
    "model_fit = model.fit(disp=0)\n",
    "print(model_fit.summary())\n",
    "\n",
    "# Forecast\n",
    "fc, se, conf = model_fit.forecast(len(test), alpha=0.05)  # 95% conf\n",
    "\n",
    "# Make as pandas series\n",
    "fc_series = pd.Series(fc, index=test.index)\n",
    "lower_series = pd.Series(conf[:, 0], index=test.index)\n",
    "upper_series = pd.Series(conf[:, 1], index=test.index)\n",
    "\n",
    "# Plot\n",
    "plt.figure(figsize=(12,5), dpi=100)\n",
    "plt.plot(train, label='training')\n",
    "plt.plot(test, label='actual')\n",
    "plt.plot(fc_series, label='forecast')\n",
    "\n",
    "\n",
    "plt.fill_between(lower_series.index, lower_series, upper_series, \n",
    "                 color='k', alpha=.15)\n",
    "plt.title('Forecast vs Actuals')\n",
    "plt.legend(loc='upper left', fontsize=8)\n",
    "plt.show()\n",
    "\n",
    "#measure the performance of predict\n",
    "mean_absolute_percentage_error(test, fc) \n"
   ]
  },
  {
   "cell_type": "code",
   "execution_count": 17,
   "id": "senior-elephant",
   "metadata": {
    "scrolled": true
   },
   "outputs": [
    {
     "name": "stdout",
     "output_type": "stream",
     "text": [
      "DatetimeIndex(['2020-10-01', '2020-12-31', '2021-04-01', '2021-07-01',\n",
      "               '2021-10-01', '2021-12-31', '2022-04-01', '2022-07-01',\n",
      "               '2022-10-01', '2022-12-31', '2023-04-01', '2023-07-01',\n",
      "               '2023-10-01', '2023-12-31', '2024-03-31', '2024-06-30',\n",
      "               '2024-09-30', '2024-12-30', '2025-03-31', '2025-06-30',\n",
      "               '2025-09-30', '2025-12-30', '2026-03-31', '2026-06-30',\n",
      "               '2026-09-30', '2026-12-30', '2027-03-31', '2027-06-30',\n",
      "               '2027-09-30', '2027-12-30', '2028-03-30', '2028-06-29',\n",
      "               '2028-09-29', '2028-12-29', '2029-03-30', '2029-06-29',\n",
      "               '2029-09-29', '2029-12-29', '2030-03-30', '2030-06-29',\n",
      "               '2030-09-29'],\n",
      "              dtype='datetime64[ns]', freq=None)\n"
     ]
    }
   ],
   "source": [
    "#create the datetime index for predict\n",
    "import datetime\n",
    "\n",
    "def create_assist_date(datestart = None,dateend = None):\n",
    "    datestart=datetime.datetime.strptime(datestart,'%Y-%m-%d')\n",
    "    dateend=datetime.datetime.strptime(dateend,'%Y-%m-%d')\n",
    "    date_list = []\n",
    "    date_list.append(datestart.strftime('%Y-%m-%d'))\n",
    "    while datestart<dateend:\n",
    "        datestart+=datetime.timedelta(days = 365/4)\n",
    "        date_list.append(datestart.strftime('%Y-%m-%d'))\n",
    "    return date_list\n",
    "\n",
    "len(create_assist_date('2020-10-01','2030-10-01'))\n",
    "new_index = pd.to_datetime(create_assist_date('2020-10-01','2030-09-29')) #2030-12-29 equals to the 2031-01-01\n",
    "print(new_index)"
   ]
  },
  {
   "cell_type": "code",
   "execution_count": 18,
   "id": "happy-messaging",
   "metadata": {},
   "outputs": [
    {
     "name": "stderr",
     "output_type": "stream",
     "text": [
      "/Users/firuzamamedova/opt/anaconda3/lib/python3.8/site-packages/statsmodels/tsa/arima_model.py:472: FutureWarning: \n",
      "statsmodels.tsa.arima_model.ARMA and statsmodels.tsa.arima_model.ARIMA have\n",
      "been deprecated in favor of statsmodels.tsa.arima.model.ARIMA (note the .\n",
      "between arima and model) and\n",
      "statsmodels.tsa.SARIMAX. These will be removed after the 0.12 release.\n",
      "\n",
      "statsmodels.tsa.arima.model.ARIMA makes use of the statespace framework and\n",
      "is both well tested and maintained.\n",
      "\n",
      "To silence this warning and continue using ARMA and ARIMA until they are\n",
      "removed, use:\n",
      "\n",
      "import warnings\n",
      "warnings.filterwarnings('ignore', 'statsmodels.tsa.arima_model.ARMA',\n",
      "                        FutureWarning)\n",
      "warnings.filterwarnings('ignore', 'statsmodels.tsa.arima_model.ARIMA',\n",
      "                        FutureWarning)\n",
      "\n",
      "  warnings.warn(ARIMA_DEPRECATION_WARN, FutureWarning)\n",
      "/Users/firuzamamedova/opt/anaconda3/lib/python3.8/site-packages/statsmodels/tsa/base/tsa_model.py:524: ValueWarning: No frequency information was provided, so inferred frequency QS-OCT will be used.\n",
      "  warnings.warn('No frequency information was'\n",
      "/Users/firuzamamedova/opt/anaconda3/lib/python3.8/site-packages/statsmodels/tsa/base/tsa_model.py:524: ValueWarning: No frequency information was provided, so inferred frequency QS-OCT will be used.\n",
      "  warnings.warn('No frequency information was'\n",
      "/Users/firuzamamedova/opt/anaconda3/lib/python3.8/site-packages/statsmodels/tsa/arima_model.py:472: FutureWarning: \n",
      "statsmodels.tsa.arima_model.ARMA and statsmodels.tsa.arima_model.ARIMA have\n",
      "been deprecated in favor of statsmodels.tsa.arima.model.ARIMA (note the .\n",
      "between arima and model) and\n",
      "statsmodels.tsa.SARIMAX. These will be removed after the 0.12 release.\n",
      "\n",
      "statsmodels.tsa.arima.model.ARIMA makes use of the statespace framework and\n",
      "is both well tested and maintained.\n",
      "\n",
      "To silence this warning and continue using ARMA and ARIMA until they are\n",
      "removed, use:\n",
      "\n",
      "import warnings\n",
      "warnings.filterwarnings('ignore', 'statsmodels.tsa.arima_model.ARMA',\n",
      "                        FutureWarning)\n",
      "warnings.filterwarnings('ignore', 'statsmodels.tsa.arima_model.ARIMA',\n",
      "                        FutureWarning)\n",
      "\n",
      "  warnings.warn(ARIMA_DEPRECATION_WARN, FutureWarning)\n"
     ]
    },
    {
     "name": "stdout",
     "output_type": "stream",
     "text": [
      "                             ARIMA Model Results                              \n",
      "==============================================================================\n",
      "Dep. Variable:                D.Total   No. Observations:                  103\n",
      "Model:                 ARIMA(2, 1, 2)   Log Likelihood                -671.799\n",
      "Method:                       css-mle   S.D. of innovations            162.766\n",
      "Date:                Wed, 17 Mar 2021   AIC                           1355.598\n",
      "Time:                        14:11:59   BIC                           1371.406\n",
      "Sample:                    01-01-1995   HQIC                          1362.001\n",
      "                         - 07-01-2020                                         \n",
      "=================================================================================\n",
      "                    coef    std err          z      P>|z|      [0.025      0.975]\n",
      "---------------------------------------------------------------------------------\n",
      "const           124.1744     13.461      9.225      0.000      97.791     150.558\n",
      "ar.L1.D.Total     0.1436      0.049      2.902      0.004       0.047       0.241\n",
      "ar.L2.D.Total    -0.9499      0.038    -25.123      0.000      -1.024      -0.876\n",
      "ma.L1.D.Total    -0.3518      0.101     -3.498      0.000      -0.549      -0.155\n",
      "ma.L2.D.Total     0.8661      0.067     12.860      0.000       0.734       0.998\n",
      "                                    Roots                                    \n",
      "=============================================================================\n",
      "                  Real          Imaginary           Modulus         Frequency\n",
      "-----------------------------------------------------------------------------\n",
      "AR.1            0.0756           -1.0233j            1.0261           -0.2383\n",
      "AR.2            0.0756           +1.0233j            1.0261            0.2383\n",
      "MA.1            0.2031           -1.0551j            1.0745           -0.2197\n",
      "MA.2            0.2031           +1.0551j            1.0745            0.2197\n",
      "-----------------------------------------------------------------------------\n"
     ]
    },
    {
     "data": {
      "image/png": "[encoded data removed]",
      "text/plain": [
       "<Figure size 1200x500 with 1 Axes>"
      ]
     },
     "metadata": {
      "needs_background": "light"
     },
     "output_type": "display_data"
    }
   ],
   "source": [
    "import warnings\n",
    "warnings.filterwarnings('ignore', 'statsmodels.tsa.arima_model.ARMA',\n",
    "                        FutureWarning)\n",
    "warnings.filterwarnings('ignore', 'statsmodels.tsa.arima_model.ARIMA',\n",
    "                        FutureWarning)\n",
    "\n",
    "#predict\n",
    "model = ARIMA(cars, order=(2,1,2))\n",
    "model_fit = model.fit(disp=0)\n",
    "print(model_fit.summary())\n",
    "\n",
    "# model with whole data and Forecast until 2030\n",
    "fc, se, conf = model_fit.forecast(4*10+1, alpha=0.05)  # 95% conf\n",
    "\n",
    "# Make as pandas series\n",
    "fc_series = pd.Series(fc, index=new_index)\n",
    "lower_series = pd.Series(conf[:, 0], index=new_index)\n",
    "upper_series = pd.Series(conf[:, 1], index=new_index)\n",
    "\n",
    "# Plot\n",
    "plt.figure(figsize=(12,5), dpi=100)\n",
    "plt.plot(cars, label='actual')\n",
    "plt.plot(fc_series, label='forecast')\n",
    "\n",
    "plt.fill_between(lower_series.index, lower_series, upper_series, \n",
    "                 color='k', alpha=.15)\n",
    "plt.title('Actuals & Forecast')\n",
    "plt.legend(loc='upper left', fontsize=8)\n",
    "plt.show()\n",
    "\n",
    "#the predicted value of number of cars at the begining of 2030 is \n",
    "predict_2030 = fc_series['2029-12-29']"
   ]
  },
  {
   "cell_type": "markdown",
   "id": "twenty-confidentiality",
   "metadata": {},
   "source": [
    "##  Total Cars Prediction until 2030\n",
    "\n",
    "```fc_year_1``` is the prediction from 2020 Q4 to 2030."
   ]
  },
  {
   "cell_type": "code",
   "execution_count": 19,
   "id": "empirical-browse",
   "metadata": {},
   "outputs": [
    {
     "name": "stdout",
     "output_type": "stream",
     "text": [
      "               0\n",
      "0   36375.183716\n",
      "1   36852.722540\n",
      "2   37347.097967\n",
      "3   37841.919033\n",
      "4   38337.266959\n",
      "5   38833.161780\n",
      "6   39329.571967\n",
      "7   39826.426783\n",
      "8   40323.629756\n",
      "9   40821.071910\n",
      "10  41318.643617\n"
     ]
    }
   ],
   "source": [
    "# transform the prediction of number of vehicles from quarterly to yearly\n",
    "\n",
    "car_num_series = pd.concat([cars.iloc[[-3,-2,-1]],fc_series])\n",
    "\n",
    "fc_year = []\n",
    "for i in range(0, len(car_num_series), 4):\n",
    "    fc_year.append(car_num_series[i:i+4])\n",
    "\n",
    "fc_year_1 =[np.mean(i) for i in fc_year]\n",
    "\n",
    "fc_year_1 = pd.DataFrame(fc_year_1)\n",
    "print(fc_year_1)"
   ]
  },
  {
   "cell_type": "markdown",
   "id": "harmful-satellite",
   "metadata": {},
   "source": [
    "### ARIMAX try: taking into account COVID19\n",
    "\n",
    "We use this model to obtain predictions with COVID19. See details in the main body of the report.\n",
    "\n",
    "refer to https://www.statsmodels.org/dev/examples/notebooks/generated/statespace_sarimax_stata.html\n",
    "\n",
    "https://www.kaggle.com/poiupoiu/how-to-use-sarimax"
   ]
  },
  {
   "cell_type": "code",
   "execution_count": 20,
   "id": "prospective-collaboration",
   "metadata": {
    "scrolled": true
   },
   "outputs": [
    {
     "name": "stdout",
     "output_type": "stream",
     "text": [
      "                               SARIMAX Results                                \n",
      "==============================================================================\n",
      "Dep. Variable:                      y   No. Observations:                  104\n",
      "Model:               SARIMAX(2, 1, 2)   Log Likelihood                -685.150\n",
      "Date:                Wed, 17 Mar 2021   AIC                           1384.300\n",
      "Time:                        14:12:01   BIC                           1402.743\n",
      "Sample:                             0   HQIC                          1391.770\n",
      "                                - 104                                         \n",
      "Covariance Type:                  opg                                         \n",
      "==============================================================================\n",
      "                 coef    std err          z      P>|z|      [0.025      0.975]\n",
      "------------------------------------------------------------------------------\n",
      "const         -0.1553   2.69e+04  -5.78e-06      1.000   -5.26e+04    5.26e+04\n",
      "x1          -326.5778    251.699     -1.297      0.194    -819.899     166.744\n",
      "ar.L1          0.0460      0.053      0.865      0.387      -0.058       0.150\n",
      "ar.L2          0.9491      0.056     17.032      0.000       0.840       1.058\n",
      "ma.L1         -0.1026      0.099     -1.040      0.298      -0.296       0.091\n",
      "ma.L2         -0.8435      0.098     -8.647      0.000      -1.035      -0.652\n",
      "sigma2      3.376e+04   4555.481      7.412      0.000    2.48e+04    4.27e+04\n",
      "===================================================================================\n",
      "Ljung-Box (L1) (Q):                   0.00   Jarque-Bera (JB):                36.82\n",
      "Prob(Q):                              0.96   Prob(JB):                         0.00\n",
      "Heteroskedasticity (H):               0.45   Skew:                             1.02\n",
      "Prob(H) (two-sided):                  0.02   Kurtosis:                         5.11\n",
      "===================================================================================\n",
      "\n",
      "Warnings:\n",
      "[1] Covariance matrix calculated using the outer product of gradients (complex-step).\n"
     ]
    },
    {
     "name": "stderr",
     "output_type": "stream",
     "text": [
      "/Users/firuzamamedova/opt/anaconda3/lib/python3.8/site-packages/statsmodels/base/model.py:566: ConvergenceWarning: Maximum Likelihood optimization failed to converge. Check mle_retvals\n",
      "  warnings.warn(\"Maximum Likelihood optimization failed to \"\n"
     ]
    }
   ],
   "source": [
    "import warnings\n",
    "warnings.filterwarnings('ignore', 'statsmodels.tsa.arima_model.ARMA',\n",
    "                        FutureWarning)\n",
    "warnings.filterwarnings('ignore', 'statsmodels.tsa.arima_model.ARIMA',\n",
    "                        FutureWarning)\n",
    "\n",
    "dataAX = pd.DataFrame(data=cars, index=cars.index, columns=['covid'])\n",
    "dataAX['time']=dataAX.index\n",
    "\n",
    "#30-01-2020 we assume that it start from the first quarter of 2020 in UK\n",
    "date_point = pd.to_datetime('2020Q1')\n",
    "dataAX.loc[(dataAX['time'] >= date_point), 'covid'] = 1;\n",
    "dataAX.loc[(dataAX['time'] < date_point), 'covid'] = 0;\n",
    "covid = dataAX['covid']\n",
    "\n",
    "covid_future = np.ones([41,2])\n",
    "\n",
    "#if we assume the affect will be be removed from 2021Q4, as the new lock down plan said step four june 2021 remove all legal limits on social contact\n",
    "covid_positive_future = np.ones([5,2])\n",
    "a = np.ones([36,1])\n",
    "b = np.zeros([36,1])\n",
    "m = np.concatenate((a,b),axis=1)\n",
    "covid_positive = np.concatenate((covid_positive_future,m),axis=0)\n",
    "\n",
    "# Variables\n",
    "endog = cars\n",
    "exog = sm.add_constant(covid)\n",
    "endog = np.array(endog, dtype=float)\n",
    "exog  = np.array(exog , dtype=float)\n",
    "# Fit the model\n",
    "mod = sm.tsa.statespace.SARIMAX(endog,exog, order=(2,1,2))\n",
    "res = mod.fit(disp=False)\n",
    "print(res.summary())\n",
    "\n",
    "fc_covid = res.forecast(exog=covid_future ,steps=4*10+1, alpha=0.05)\n",
    "fc_covid_pos = res.forecast(exog=covid_positive ,steps=4*10+1, alpha=0.05)\n",
    "\n",
    "# Make as pandas series\n",
    "fc_series_covid = pd.Series(fc_covid, index=new_index)\n",
    "fc_series_covid_pos = pd.Series(fc_covid_pos, index=new_index)\n"
   ]
  },
  {
   "cell_type": "code",
   "execution_count": 21,
   "id": "posted-accordance",
   "metadata": {},
   "outputs": [
    {
     "data": {
      "image/png": "[encoded data removed]",
      "text/plain": [
       "<Figure size 1200x500 with 1 Axes>"
      ]
     },
     "metadata": {
      "needs_background": "light"
     },
     "output_type": "display_data"
    }
   ],
   "source": [
    "# Plot\n",
    "plt.figure(figsize=(12,5), dpi=100)\n",
    "plt.plot(cars, label='actual')\n",
    "plt.plot(fc_series, label='forecast')\n",
    "plt.plot(fc_series_covid_pos, label='forecast_with_covid19')\n",
    "plt.fill_between(lower_series.index, lower_series, upper_series, \n",
    "                 color='k', alpha=.15)\n",
    "plt.title('Forecast based on Covid-19')\n",
    "plt.legend(loc='upper left', fontsize=8)\n",
    "plt.xlabel('Year')\n",
    "plt.ylabel('Total Vehicles (Millions)')\n",
    "plt.show()"
   ]
  },
  {
   "cell_type": "markdown",
   "id": "certified-conflict",
   "metadata": {},
   "source": [
    "## Get the prediction for petrol+diesel "
   ]
  },
  {
   "cell_type": "markdown",
   "id": "hollow-breakdown",
   "metadata": {},
   "source": [
    "As mentioned before, we follow a simple formula for predicting the Petrol+Diesel:\n",
    "$$P_D = 1-EV_{frac},$$\n",
    "where $EV_{frac}$ is the fraction of electric vehicles on the road.\n"
   ]
  },
  {
   "cell_type": "markdown",
   "id": "peaceful-password",
   "metadata": {},
   "source": [
    "### Main approach for EV Fraction model: SI-type model\n",
    "\n",
    "Since the EV fraction of the cars on the road is directly connected to the population, we suppose that it follows SI (Susceptible-Infective) model trend. For example, the same trend one can see for the people owning smartphones.\n",
    "\n",
    "We can represent this trend as time series which is given by the differential equation:\n",
    "$$f'(t) = \\lambda f(t)(1-f(t)),$$\n",
    "\n",
    "where $1$ represents the 100% of EVs on the road and $\\lambda$ is the \"infection\" rate. This parameter depends on different factors. We will present two scenarios for the parameter, representing how it can affect the fraction of EV cars on the road and the CO2 emissions derived from it.\n",
    "\n",
    "By the constraints of the Road to Zero, it is predicted, that there will be 43% of EV on the UK roads by 2030. With this restriction, we found the \"infection rate\" for the SI model should be $0.506945$. But this model is presenting very optimistic scenario. We also set the infection rate to slowly decrease after the goal of 43% is achieved.\n",
    "\n",
    "We also created two possible scenarios, where we suggest the factors that affect the infection rate and build the prediction for EV fraction into the future."
   ]
  },
  {
   "cell_type": "code",
   "execution_count": 22,
   "id": "broad-shower",
   "metadata": {},
   "outputs": [],
   "source": [
    "infect_rate = 0.507#664 # was just found according to the curve, tried several values\n",
    "series = np.ones(31,)\n",
    "series[0] = 0.0102\n",
    "for t in range(1,31):\n",
    "    series[t] = infect_rate*series[t-1]*(1-series[t-1])+series[t-1]\n",
    "\n",
    "series\n",
    "\n",
    "future_ev_fraction_uk = pd.Series(series, index = range(2020,2051))\n"
   ]
  },
  {
   "cell_type": "code",
   "execution_count": 23,
   "id": "sealed-angle",
   "metadata": {},
   "outputs": [
    {
     "data": {
      "image/png": "[encoded data removed]",
      "text/plain": [
       "<Figure size 432x288 with 1 Axes>"
      ]
     },
     "metadata": {
      "needs_background": "light"
     },
     "output_type": "display_data"
    }
   ],
   "source": [
    "plt.plot(future_ev_fraction_uk,  linewidth=2.5, color = \"blue\")\n",
    "\n",
    "plt.grid(b=True, color='DarkTurquoise', alpha=0.2, linestyle=':', linewidth=2)\n",
    "plt.rcParams['figure.figsize'] = [12, 8]\n",
    "plt.xlabel('Year', fontsize=15)\n",
    "plt.ylabel('EV Fraction', fontsize=15)\n",
    "plt.title('EV Fraction future projection')\n",
    "\n",
    "plt.show()\n"
   ]
  },
  {
   "cell_type": "markdown",
   "id": "pointed-begin",
   "metadata": {},
   "source": [
    "### Petrol + Diesel Predictions"
   ]
  },
  {
   "cell_type": "code",
   "execution_count": 24,
   "id": "happy-minneapolis",
   "metadata": {},
   "outputs": [
    {
     "name": "stdout",
     "output_type": "stream",
     "text": [
      "               0\n",
      "0   30055.007998\n",
      "1   29505.222338\n",
      "2   28944.011153\n",
      "3   28357.797144\n",
      "4   27746.604837\n",
      "5   27110.407715\n",
      "6   26449.142534\n",
      "7   25762.723915\n",
      "8   25051.057747\n",
      "9   24314.052354\n",
      "10  23551.626862\n"
     ]
    }
   ],
   "source": [
    "#assumption 1\n",
    "fraction = data['P_D']/ data['Total_Cars']\n",
    "fraction_2019 = fraction.loc[2019]\n",
    "fraction_2030 = (1-0.43)\n",
    "fraction_future = []\n",
    "for i in range(11):\n",
    "    fraction = fraction_2019 + (i+1)*(fraction_2030-fraction_2019)/11\n",
    "    fraction_future.append(fraction)\n",
    "    \n",
    "fraction_future = pd.DataFrame(fraction_future)  \n",
    "P_D_future = fraction_future*fc_year_1 #fraction_forecast*cars_forecast\n",
    "print(P_D_future)"
   ]
  },
  {
   "cell_type": "markdown",
   "id": "advanced-spare",
   "metadata": {},
   "source": [
    "#### UK Optimistic Scenario"
   ]
  },
  {
   "cell_type": "code",
   "execution_count": 25,
   "id": "elder-european",
   "metadata": {},
   "outputs": [
    {
     "name": "stdout",
     "output_type": "stream",
     "text": [
      "               0\n",
      "0   36004.156842\n",
      "1   36288.188519\n",
      "2   36489.375740\n",
      "3   36542.325361\n",
      "4   36376.067236\n",
      "5   35890.928163\n",
      "6   34953.411964\n",
      "7   33398.232554\n",
      "8   31048.004640\n",
      "9   27765.378739\n",
      "10  23546.711493\n"
     ]
    }
   ],
   "source": [
    "# UK scenario\n",
    "fraction = data['EV_fraction']\n",
    "fraction_2019 = fraction.loc[2019]\n",
    "fraction_future_UK =  list(future_ev_fraction_uk)[0:11]\n",
    "\n",
    "fraction_future = pd.DataFrame(fraction_future_UK)\n",
    "P_D_future_UK = (1-fraction_future)*fc_year_1\n",
    "print(P_D_future_UK)"
   ]
  },
  {
   "cell_type": "markdown",
   "id": "living-black",
   "metadata": {},
   "source": [
    "### Social Networks Impact Model\n",
    "\n",
    "As the score for the impact we consider current Google trend of different terms connected to the EV: \"Electric car\", \"Electric Vehicle\", \"Hybrid cars\". This trend gives us the infection rate for our SI model.\n",
    "\n",
    "Since at earlier time steps the model is close to an exponential model (i.e. $f(t) = e^{\\lambda t}$), we can find $\\lambda$ for each of the terms we have. \n",
    "\n",
    "\n",
    "We finally use this parameter $\\lambda$ to build another SI model for the trend of EV cars which are affected by the social media. The time series for EV fraction may be then presented in the following way:\n",
    "$$f'(t) = \\lambda f(t)(1-f(t)),$$"
   ]
  },
  {
   "cell_type": "code",
   "execution_count": 26,
   "id": "demanding-hartford",
   "metadata": {},
   "outputs": [],
   "source": [
    "df_orig = pd.read_csv('UK_pivotGoogle_orig.csv')\n",
    "df_orig = df_orig.iloc[:-2]\n",
    "\n",
    "df_orig = df_orig.set_index('Row Labels')\n",
    "df_orig.columns = ['Hybrid_cars',\n",
    "       'Electric_cars',\n",
    "       'Car_cost',\n",
    "       'Best_EVs',\n",
    "       'Electric_vehicles', 'Total']\n",
    "\n",
    "df_orig['Avg_EV_trend'] = 1/4*(df_orig['Electric_cars'] + df_orig['Hybrid_cars']\n",
    "                               + df_orig['Best_EVs'] +  df_orig['Electric_vehicles'])#.plot()\n",
    "df_orig_lambdas  = np.diff(df_orig, prepend = 0, axis = 0)/df_orig.shift(1)\n",
    "df_orig_lambdas = df_orig_lambdas[df_orig_lambdas>=0]\n",
    "df_orig_lambdas_column_list = np.nanmean(df_orig_lambdas, axis = 0)\n"
   ]
  },
  {
   "cell_type": "code",
   "execution_count": 27,
   "id": "further-track",
   "metadata": {},
   "outputs": [
    {
     "data": {
      "image/png": "[encoded data removed]",
      "text/plain": [
       "<Figure size 864x576 with 1 Axes>"
      ]
     },
     "metadata": {
      "needs_background": "light"
     },
     "output_type": "display_data"
    }
   ],
   "source": [
    "plt.plot((df_orig['Avg_EV_trend']-np.mean(df_orig['Avg_EV_trend']))/np.std(df_orig['Avg_EV_trend']),  linewidth=2, color = \"green\")\n",
    "#plt.add_hline(0, 0.087030, linewidth=2 )\n",
    "plt.grid(b=True, color='DarkTurquoise', alpha=0.2, linestyle=':', linewidth=2)\n",
    "plt.rcParams['figure.figsize'] = [12, 8]\n",
    "plt.xlabel('Year', fontsize=15)\n",
    "plt.ylabel('Score', fontsize=15)\n",
    "plt.title('Google Trend for EV connected phrases')\n",
    "#plt.hlines(0.087030, xmin = 2010, xmax = 2030)\n",
    "plt.show()"
   ]
  },
  {
   "cell_type": "code",
   "execution_count": 28,
   "id": "increasing-decade",
   "metadata": {},
   "outputs": [],
   "source": [
    "infect_rate = df_orig_lambdas_column_list[-1]\n",
    "series = np.ones(11,)\n",
    "series[0] = 0.0102\n",
    "for t in range(1,11):\n",
    "    series[t] = infect_rate*series[t-1]*(1-series[t-1])+series[t-1]\n",
    "\n",
    "future_ev_fraction_SA = pd.Series(series, index = range(2020,2031))\n"
   ]
  },
  {
   "cell_type": "code",
   "execution_count": 29,
   "id": "secondary-texas",
   "metadata": {},
   "outputs": [
    {
     "data": {
      "image/png": "[encoded data removed]",
      "text/plain": [
       "<Figure size 864x576 with 1 Axes>"
      ]
     },
     "metadata": {
      "needs_background": "light"
     },
     "output_type": "display_data"
    }
   ],
   "source": [
    "new_data = pd.read_csv('data/GB_all_data.csv')\n",
    "new_data = new_data.set_index('Year')\n",
    "past_EV_fraction = new_data['ULEV_fraction']\n",
    "plt.plot(past_EV_fraction,  linewidth=2)\n",
    "plt.plot(future_ev_fraction_SA,  linewidth=2)\n",
    "\n",
    "plt.grid(b=True, color='DarkTurquoise', alpha=0.2, linestyle=':', linewidth=2)\n",
    "plt.rcParams['figure.figsize'] = [12, 8]\n",
    "plt.xlabel('Year', fontsize=15)\n",
    "plt.ylabel('EV-Fraction', fontsize=15)\n",
    "plt.title('EV Fraction Projection')\n",
    "\n",
    "plt.show()"
   ]
  },
  {
   "cell_type": "code",
   "execution_count": 30,
   "id": "available-soviet",
   "metadata": {},
   "outputs": [
    {
     "name": "stdout",
     "output_type": "stream",
     "text": [
      "               0\n",
      "0   36004.156842\n",
      "1   36384.870555\n",
      "2   36757.278294\n",
      "3   37098.914127\n",
      "4   37402.154093\n",
      "5   37657.563982\n",
      "6   37853.595491\n",
      "7   37976.276042\n",
      "8   38008.921778\n",
      "9   37931.923865\n",
      "10  37722.686183\n"
     ]
    }
   ],
   "source": [
    "# SA scenario\n",
    "fraction = data['EV_fraction']\n",
    "fraction_2019 = fraction.loc[2019]\n",
    "fraction_future_SA =  list(future_ev_fraction_SA)[0:11]\n",
    "\n",
    "fraction_future = pd.DataFrame(fraction_future_SA)\n",
    "P_D_future_SA = (1-fraction_future)*fc_year_1\n",
    "print(P_D_future_SA)"
   ]
  },
  {
   "cell_type": "markdown",
   "id": "unnecessary-suffering",
   "metadata": {},
   "source": [
    "### Norway Model"
   ]
  },
  {
   "cell_type": "code",
   "execution_count": 31,
   "id": "juvenile-tampa",
   "metadata": {},
   "outputs": [],
   "source": [
    "norway = pd.DataFrame([0.1, 0.7, 0.9, 3.2, 5.7, 14.5, 21.1, 26.6,33.6,49.1,55.9,74.7], \n",
    "                   index = range(2009,2021),\n",
    "                    columns = ['EV_fraction'])\n",
    "norway['EV_fraction'] = norway['EV_fraction']/100\n",
    "norway['lambdas'] = np.log(norway['EV_fraction']/norway['EV_fraction'].shift(1))#np.diff(norway['EV_fraction'], prepend = 0)/norway['EV_fraction'].shift(1) #equation for finding lambda\n",
    "norway\n",
    "infect_rate = norway['lambdas'].copy().iloc[1:] # get the lambda  # change to np.mean to see faster increase\n",
    "future_ev_NOR = np.ones(11,) # change to 31 for stopping at 2050\n",
    "\n",
    "future_ev_NOR[0] = 0.015 # the starting 1.5% for EV cars in the UK in 2020\n",
    "for t in range(1,11): \n",
    "    future_ev_NOR[t] = infect_rate.iloc[t]*future_ev_NOR[t-1]*(1-future_ev_NOR[t-1]) + future_ev_NOR[t-1]\n",
    "\n",
    "future_ev_NOR = pd.Series(future_ev_NOR, index = range(2020,2031)) #change to range(2020,2051) for stopping at 2050"
   ]
  },
  {
   "cell_type": "code",
   "execution_count": 32,
   "id": "express-spice",
   "metadata": {},
   "outputs": [
    {
     "name": "stdout",
     "output_type": "stream",
     "text": [
      "               0\n",
      "0   35829.555960\n",
      "1   36163.091253\n",
      "2   35778.264816\n",
      "3   35373.138685\n",
      "4   33653.289260\n",
      "5   32526.247405\n",
      "6   31702.740209\n",
      "7   30648.876388\n",
      "8   28318.947655\n",
      "9   27561.288970\n",
      "10  25270.085575\n"
     ]
    }
   ],
   "source": [
    "# NOR scenario\n",
    "fraction = data['EV_fraction']\n",
    "fraction_2019 = fraction.loc[2019]\n",
    "fraction_future_NOR =  list(future_ev_NOR)[0:11]\n",
    "\n",
    "fraction_future = pd.DataFrame(fraction_future_NOR)\n",
    "P_D_future_NOR = (1-fraction_future)*fc_year_1\n",
    "print(P_D_future_NOR)"
   ]
  },
  {
   "cell_type": "markdown",
   "id": "governing-correspondence",
   "metadata": {},
   "source": [
    "## Prediction for the Future Population\n",
    "\n",
    "The population model is an exponential growth model. But we use the values provided by the Office for National Statistics."
   ]
  },
  {
   "cell_type": "code",
   "execution_count": 33,
   "id": "subsequent-knitting",
   "metadata": {},
   "outputs": [
    {
     "data": {
      "text/html": [
       "<div>\n",
       "<style scoped>\n",
       "    .dataframe tbody tr th:only-of-type {\n",
       "        vertical-align: middle;\n",
       "    }\n",
       "\n",
       "    .dataframe tbody tr th {\n",
       "        vertical-align: top;\n",
       "    }\n",
       "\n",
       "    .dataframe thead th {\n",
       "        text-align: right;\n",
       "    }\n",
       "</style>\n",
       "<table border=\"1\" class=\"dataframe\">\n",
       "  <thead>\n",
       "    <tr style=\"text-align: right;\">\n",
       "      <th></th>\n",
       "      <th>population</th>\n",
       "    </tr>\n",
       "    <tr>\n",
       "      <th>Year</th>\n",
       "      <th></th>\n",
       "    </tr>\n",
       "  </thead>\n",
       "  <tbody>\n",
       "    <tr>\n",
       "      <th>2020</th>\n",
       "      <td>67200000</td>\n",
       "    </tr>\n",
       "    <tr>\n",
       "      <th>2021</th>\n",
       "      <td>67500000</td>\n",
       "    </tr>\n",
       "    <tr>\n",
       "      <th>2022</th>\n",
       "      <td>67800000</td>\n",
       "    </tr>\n",
       "    <tr>\n",
       "      <th>2023</th>\n",
       "      <td>68100000</td>\n",
       "    </tr>\n",
       "    <tr>\n",
       "      <th>2024</th>\n",
       "      <td>68400000</td>\n",
       "    </tr>\n",
       "    <tr>\n",
       "      <th>2025</th>\n",
       "      <td>68700000</td>\n",
       "    </tr>\n",
       "    <tr>\n",
       "      <th>2026</th>\n",
       "      <td>68900000</td>\n",
       "    </tr>\n",
       "    <tr>\n",
       "      <th>2027</th>\n",
       "      <td>69200000</td>\n",
       "    </tr>\n",
       "    <tr>\n",
       "      <th>2028</th>\n",
       "      <td>69400000</td>\n",
       "    </tr>\n",
       "    <tr>\n",
       "      <th>2029</th>\n",
       "      <td>69600000</td>\n",
       "    </tr>\n",
       "    <tr>\n",
       "      <th>2030</th>\n",
       "      <td>69800000</td>\n",
       "    </tr>\n",
       "  </tbody>\n",
       "</table>\n",
       "</div>"
      ],
      "text/plain": [
       "      population\n",
       "Year            \n",
       "2020    67200000\n",
       "2021    67500000\n",
       "2022    67800000\n",
       "2023    68100000\n",
       "2024    68400000\n",
       "2025    68700000\n",
       "2026    68900000\n",
       "2027    69200000\n",
       "2028    69400000\n",
       "2029    69600000\n",
       "2030    69800000"
      ]
     },
     "execution_count": 33,
     "metadata": {},
     "output_type": "execute_result"
    }
   ],
   "source": [
    "population = pd.read_csv('data/UK_population.csv')\n",
    "population = population.set_index('Year')\n",
    "# print(population)\n",
    "mask_population = (population.index<2031) & (population.index>2019)\n",
    "uk_population = population[mask_population]\n",
    "\n",
    "#uk_population = uk_population.reset_index(drop=True)\n",
    "\n",
    "uk_population"
   ]
  },
  {
   "cell_type": "markdown",
   "id": "hollywood-kennedy",
   "metadata": {},
   "source": [
    "## CO2 prediction with Population and P_D\n",
    "\n",
    "\n",
    "The formula for linear regression is the following: \n",
    "\n",
    "```Total_co2 = -2.2372*UK_Population + 1.9087*P_D```\n",
    "\n",
    "\n",
    "We assume that:\n",
    "\n",
    "1. The linear relationship stays unchangeable during the whole period.\n",
    "\n",
    "2. The number of cars/population keeps the trend into the future (using arima model).\n",
    "\n",
    "\n"
   ]
  },
  {
   "cell_type": "markdown",
   "id": "manual-promotion",
   "metadata": {},
   "source": [
    "### Standardize the data\n",
    "\n",
    "Since our model is built using the standardized data, we first standardize the Population and P_D predictions."
   ]
  },
  {
   "cell_type": "code",
   "execution_count": 34,
   "id": "hearing-japanese",
   "metadata": {},
   "outputs": [],
   "source": [
    "beta_UK_Population =  -2.2372\n",
    "beta_petrol_D = 1.9087\n",
    "\n",
    "\n",
    "std_y = std_mat['Total_co2'].iloc[0]\n",
    "mean_y = mean_mat['Total_co2'].iloc[0]\n",
    "\n",
    "uk_population_std = np.array((uk_population-np.mean(uk_population))/np.std(uk_population))\n"
   ]
  },
  {
   "cell_type": "code",
   "execution_count": 35,
   "id": "pending-liberty",
   "metadata": {},
   "outputs": [],
   "source": [
    "# Define the prediction for 2020-2030 function\n",
    "def prediction(P_D_future):\n",
    "    \n",
    "    P_D_future_std = np.array((P_D_future-np.mean(P_D_future))/np.std(P_D_future))\n",
    "\n",
    "    y = beta_UK_Population*uk_population_std + beta_petrol_D*P_D_future_std\n",
    "\n",
    "    y_unstandardize = y*std_y + mean_y\n",
    "    y_unstandardize = pd.DataFrame(y_unstandardize, index = range(2020,2031), columns = [\"CO2\"])\n",
    "    decrease = (y_unstandardize[\"CO2\"].iloc[-1]-y_unstandardize[\"CO2\"].iloc[0])/y_unstandardize[\"CO2\"].iloc[0]\n",
    "\n",
    "    print('Prediction:\\n',y_unstandardize)\n",
    "    print('Decrease for CO2 emissions:', decrease)\n"
   ]
  },
  {
   "cell_type": "code",
   "execution_count": 36,
   "id": "forward-desktop",
   "metadata": {},
   "outputs": [
    {
     "name": "stdout",
     "output_type": "stream",
     "text": [
      "Prediction:\n",
      "                CO2\n",
      "2020  35797.222243\n",
      "2021  35137.069029\n",
      "2022  34439.261160\n",
      "2023  33674.075990\n",
      "2024  32809.256003\n",
      "2025  31799.497503\n",
      "2026  30847.207479\n",
      "2027  29351.091744\n",
      "2028  27756.692689\n",
      "2029  25738.497924\n",
      "2030  23294.851458\n",
      "Decrease for CO2 emissions: -0.349255333275596\n"
     ]
    }
   ],
   "source": [
    "# UK Scenario\n",
    "prediction(P_D_future_UK)"
   ]
  },
  {
   "cell_type": "code",
   "execution_count": 37,
   "id": "alternative-jesus",
   "metadata": {},
   "outputs": [
    {
     "name": "stdout",
     "output_type": "stream",
     "text": [
      "Prediction:\n",
      "                CO2\n",
      "2020  30857.736044\n",
      "2021  31145.249887\n",
      "2022  31409.272092\n",
      "2023  31586.262665\n",
      "2024  31654.658891\n",
      "2025  31587.778165\n",
      "2026  31616.042612\n",
      "2027  31173.765870\n",
      "2028  30739.929251\n",
      "2029  29995.989459\n",
      "2030  28878.038287\n",
      "Decrease for CO2 emissions: -0.06415563846865756\n"
     ]
    }
   ],
   "source": [
    "# SA Scenario\n",
    "prediction(P_D_future_SA)"
   ]
  },
  {
   "cell_type": "code",
   "execution_count": 38,
   "id": "aging-examination",
   "metadata": {},
   "outputs": [
    {
     "name": "stdout",
     "output_type": "stream",
     "text": [
      "Prediction:\n",
      "                CO2\n",
      "2020  36612.116771\n",
      "2021  35997.093332\n",
      "2022  35006.819953\n",
      "2023  34005.942643\n",
      "2024  32318.294566\n",
      "2025  30940.310820\n",
      "2026  29983.968173\n",
      "2027  28644.210367\n",
      "2028  26900.959723\n",
      "2029  25979.014300\n",
      "2030  24255.992574\n",
      "Decrease for CO2 emissions: -0.33748729345723144\n"
     ]
    }
   ],
   "source": [
    "# NOR Scenario\n",
    "prediction(P_D_future_NOR)"
   ]
  }
 ],
 "metadata": {
  "kernelspec": {
   "display_name": "Python 3",
   "language": "python",
   "name": "python3"
  },
  "language_info": {
   "codemirror_mode": {
    "name": "ipython",
    "version": 3
   },
   "file_extension": ".py",
   "mimetype": "text/x-python",
   "name": "python",
   "nbconvert_exporter": "python",
   "pygments_lexer": "ipython3",
   "version": "3.8.5"
  }
 },
 "nbformat": 4,
 "nbformat_minor": 5
}
