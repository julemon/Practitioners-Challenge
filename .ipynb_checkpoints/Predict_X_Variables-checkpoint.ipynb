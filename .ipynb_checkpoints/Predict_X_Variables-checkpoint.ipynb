{
 "cells": [
  {
   "cell_type": "markdown",
   "metadata": {},
   "source": [
    "## Projecting total number of cars in the UK\n",
    "\n",
    "2 models used -  AutoReg and ARIMA"
   ]
  },
  {
   "cell_type": "markdown",
   "metadata": {},
   "source": [
    "## Projection with AutoRegression"
   ]
  },
  {
   "cell_type": "code",
   "execution_count": 93,
   "metadata": {
    "scrolled": false
   },
   "outputs": [
    {
     "name": "stderr",
     "output_type": "stream",
     "text": [
      "/opt/anaconda3/lib/python3.8/site-packages/statsmodels/tsa/base/tsa_model.py:213: ValueWarning: An unsupported index was provided and will be ignored when e.g. forecasting.\n",
      "  warnings.warn('An unsupported index was provided and will be'\n",
      "/opt/anaconda3/lib/python3.8/site-packages/statsmodels/tsa/base/tsa_model.py:580: ValueWarning: No supported index is available. Prediction results will be given with an integer index beginning at `start`.\n",
      "  warnings.warn('No supported index is available.'\n"
     ]
    },
    {
     "data": {
      "text/plain": [
       "2014 Q3    2.973730e+07\n",
       "2014 Q4    2.961150e+07\n",
       "2015 Q1    2.976640e+07\n",
       "2015 Q2    3.003020e+07\n",
       "2015 Q3    3.023400e+07\n",
       "2015 Q4    3.025030e+07\n",
       "2016 Q1    3.046110e+07\n",
       "2016 Q2    3.068930e+07\n",
       "2016 Q3    3.087080e+07\n",
       "2016 Q4    3.085040e+07\n",
       "2017 Q1    3.107360e+07\n",
       "2017 Q2    3.121220e+07\n",
       "2017 Q3    3.133950e+07\n",
       "2017 Q4    3.120020e+07\n",
       "2018 Q1    3.134760e+07\n",
       "2018 Q2    3.149820e+07\n",
       "2018 Q3    3.160190e+07\n",
       "2018 Q4    3.151760e+07\n",
       "2019 Q1    3.168730e+07\n",
       "2019 Q2    3.184250e+07\n",
       "2019 Q3    3.197620e+07\n",
       "2019 Q4    3.188840e+07\n",
       "2020 Q1    3.166140e+07\n",
       "2020 Q2    3.161920e+07\n",
       "2020 Q3    3.186940e+07\n",
       "2020 Q4    3.190690e+07\n",
       "2021 Q1    3.194219e+07\n",
       "2021 Q2    3.197540e+07\n",
       "2021 Q3    3.200665e+07\n",
       "2021 Q4    3.203605e+07\n",
       "2022 Q1    3.206373e+07\n",
       "2022 Q2    3.208977e+07\n",
       "2022 Q3    3.211428e+07\n",
       "2022 Q4    3.213734e+07\n",
       "2023 Q1    3.215904e+07\n",
       "2023 Q2    3.217946e+07\n",
       "dtype: float64"
      ]
     },
     "execution_count": 93,
     "metadata": {},
     "output_type": "execute_result"
    }
   ],
   "source": [
    "import pandas as pd\n",
    "import numpy as np\n",
    "from statsmodels.tsa.ar_model import AutoReg\n",
    "from statsmodels.tsa.arima.model import ARIMA\n",
    "\n",
    "x = index={25: \"2020 Q4\", 26: \"2021 Q1\", 27: \"2021 Q2\",28: \"2021 Q3\", 29: \"2021 Q4\", 30: \"2022 Q1\",\n",
    "            31: \"2022 Q2\", 32: \"2022 Q3\", 33: \"2022 Q4\", 34: \"2023 Q1\", 35: \"2023 Q2\"}\n",
    "\n",
    "#Read in the car data\n",
    "main = pd.read_csv('big_data.csv')\n",
    "main = main.set_index('Date')\n",
    "main_AR = main['Total Cars in Millions'].dropna(axis=0)\n",
    "main_ARIMA = main_AR\n",
    "\n",
    "# Fit  AutoReg model\n",
    "model = AutoReg(main_AR, lags=1)\n",
    "model_fit = model.fit()\n",
    "\n",
    "#make AutoReg prediction\n",
    "yhat_AR = model_fit.predict(25,35)\n",
    "yhat_AR = yhat_AR.rename(x)\n",
    "main_AR = main_AR.append(yhat_AR)\n",
    "main_AR"
   ]
  },
  {
   "cell_type": "markdown",
   "metadata": {},
   "source": [
    "### Projection with ARIMA"
   ]
  },
  {
   "cell_type": "code",
   "execution_count": 94,
   "metadata": {},
   "outputs": [
    {
     "name": "stderr",
     "output_type": "stream",
     "text": [
      "/opt/anaconda3/lib/python3.8/site-packages/statsmodels/tsa/base/tsa_model.py:213: ValueWarning: An unsupported index was provided and will be ignored when e.g. forecasting.\n",
      "  warnings.warn('An unsupported index was provided and will be'\n",
      "/opt/anaconda3/lib/python3.8/site-packages/statsmodels/tsa/base/tsa_model.py:213: ValueWarning: An unsupported index was provided and will be ignored when e.g. forecasting.\n",
      "  warnings.warn('An unsupported index was provided and will be'\n",
      "/opt/anaconda3/lib/python3.8/site-packages/statsmodels/tsa/base/tsa_model.py:213: ValueWarning: An unsupported index was provided and will be ignored when e.g. forecasting.\n",
      "  warnings.warn('An unsupported index was provided and will be'\n",
      "/opt/anaconda3/lib/python3.8/site-packages/statsmodels/tsa/base/tsa_model.py:580: ValueWarning: No supported index is available. Prediction results will be given with an integer index beginning at `start`.\n",
      "  warnings.warn('No supported index is available.'\n"
     ]
    },
    {
     "data": {
      "text/plain": [
       "2014 Q3    2.973730e+07\n",
       "2014 Q4    2.961150e+07\n",
       "2015 Q1    2.976640e+07\n",
       "2015 Q2    3.003020e+07\n",
       "2015 Q3    3.023400e+07\n",
       "2015 Q4    3.025030e+07\n",
       "2016 Q1    3.046110e+07\n",
       "2016 Q2    3.068930e+07\n",
       "2016 Q3    3.087080e+07\n",
       "2016 Q4    3.085040e+07\n",
       "2017 Q1    3.107360e+07\n",
       "2017 Q2    3.121220e+07\n",
       "2017 Q3    3.133950e+07\n",
       "2017 Q4    3.120020e+07\n",
       "2018 Q1    3.134760e+07\n",
       "2018 Q2    3.149820e+07\n",
       "2018 Q3    3.160190e+07\n",
       "2018 Q4    3.151760e+07\n",
       "2019 Q1    3.168730e+07\n",
       "2019 Q2    3.184250e+07\n",
       "2019 Q3    3.197620e+07\n",
       "2019 Q4    3.188840e+07\n",
       "2020 Q1    3.166140e+07\n",
       "2020 Q2    3.161920e+07\n",
       "2020 Q3    3.186940e+07\n",
       "2020 Q4    3.186828e+07\n",
       "2021 Q1    3.186846e+07\n",
       "2021 Q2    3.186843e+07\n",
       "2021 Q3    3.186843e+07\n",
       "2021 Q4    3.186843e+07\n",
       "2022 Q1    3.186843e+07\n",
       "2022 Q2    3.186843e+07\n",
       "2022 Q3    3.186843e+07\n",
       "2022 Q4    3.186843e+07\n",
       "2023 Q1    3.186843e+07\n",
       "2023 Q2    3.186843e+07\n",
       "dtype: float64"
      ]
     },
     "execution_count": 94,
     "metadata": {},
     "output_type": "execute_result"
    }
   ],
   "source": [
    "# Fit  ARIMA model\n",
    "ARIMA_model = ARIMA(main_ARIMA, order=(1, 1, 1))\n",
    "ARIMA_model_fit = ARIMA_model.fit()\n",
    "\n",
    "# make ARIMA prediction (no SARIMA because there is apparently no seasonality)\n",
    "yhat_ARIMA = ARIMA_model_fit.predict(25,35, type='levels')\n",
    "yhat_ARIMA = yhat_ARIMA.rename(x)\n",
    "main_ARIMA = main_ARIMA.append(yhat_ARIMA)\n",
    "main_ARIMA\n"
   ]
  },
  {
   "cell_type": "code",
   "execution_count": null,
   "metadata": {},
   "outputs": [],
   "source": []
  }
 ],
 "metadata": {
  "kernelspec": {
   "display_name": "Python 3",
   "language": "python",
   "name": "python3"
  },
  "language_info": {
   "codemirror_mode": {
    "name": "ipython",
    "version": 3
   },
   "file_extension": ".py",
   "mimetype": "text/x-python",
   "name": "python",
   "nbconvert_exporter": "python",
   "pygments_lexer": "ipython3",
   "version": "3.8.5"
  }
 },
 "nbformat": 4,
 "nbformat_minor": 4
}
