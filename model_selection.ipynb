{
 "cells": [
  {
   "cell_type": "code",
   "execution_count": 2,
   "id": "southern-questionnaire",
   "metadata": {},
   "outputs": [
    {
     "name": "stdout",
     "output_type": "stream",
     "text": [
      "Index(['Year', 'Average CO2 (g/km)',\n",
      "       'Average reported CO2 emissions figure of cars registered for the first time (g/km)',\n",
      "       'Total_GHGs', 'Petrol', 'Diesel', 'Hybrid Electric',\n",
      "       'Plug-in Hybrid Electric', 'Battery Electric',\n",
      "       'Range-Extended Electric', 'Fuel Cell Electric', 'Gas', 'Other',\n",
      "       'Total Vehicles',\n",
      "       'Gross Domestic Product: quarter on quarter growth rate: CP SA %',\n",
      "       'Unemployment rate (aged 16 and over, seasonally adjusted)',\n",
      "       'UK resident population: mid-year estimates (Qtly data interpolated)',\n",
      "       'Total Production : Sections B, C, D and E (Index):CVM',\n",
      "       'Employment rate (aged 16 - 64, seasonally adjusted)'],\n",
      "      dtype='object')\n",
      "<class 'str'>\n"
     ]
    }
   ],
   "source": [
    "from sklearn import linear_model # A very popular Python library for Machine Learning\n",
    "from sklearn.linear_model import LinearRegression\n",
    "from sklearn.linear_model import Ridge\n",
    "from sklearn.model_selection import train_test_split #needed to for assessing prediction\n",
    "import numpy as np\n",
    "import pandas as pd\n",
    "from sklearn.datasets import fetch_california_housing as fch  \n",
    "import statsmodels.api as sm\n",
    "from statsmodels.formula.api import ols \n",
    "\n",
    "GB = pd.read_csv('./data/GB_all_data.csv')\n",
    "# print(GB.head())\n",
    "print(GB.columns)\n",
    "GB = GB.set_index('Year')\n",
    "# print(GB.head())\n",
    "GB.shape\n",
    "print(type(GB.columns[2]))"
   ]
  },
  {
   "cell_type": "markdown",
   "id": "tough-chapter",
   "metadata": {},
   "source": [
    "selct the model based on AIC"
   ]
  },
  {
   "cell_type": "code",
   "execution_count": null,
   "id": "ahead-vector",
   "metadata": {},
   "outputs": [],
   "source": [
    "def forward_select(data,target):\n",
    "    variate=set(data.columns) \n",
    "    variate.remove(target)  \n",
    "    selected=[]\n",
    "    current_score,best_new_score=float('inf'),float('inf')  \n",
    "    \n",
    "    while variate:\n",
    "        aic_with_variate=[]\n",
    "        for candidate in variate:  \n",
    "            formula=\"{}~{}\".format(target,\"+\".join(selected+[candidate]))  \n",
    "            print(formula)\n",
    "            aic=ols(formula=formula,data=data).fit().aic \n",
    "            aic_with_variate.append((aic,candidate))  \n",
    "        aic_with_variate.sort(reverse=True)  \n",
    "        best_new_score,best_candidate=aic_with_variate.pop()  \n",
    "        if current_score>best_new_score:  \n",
    "            variate.remove(best_candidate)  \n",
    "            selected.append(best_candidate) \n",
    "            current_score=best_new_score  \n",
    "            print(\"aic is {},continuing!\".format(current_score))  \n",
    "        else:\n",
    "            print(\"for selection over!\")\n",
    "            break\n",
    "    formula=\"{}~{}\".format(target,\"+\".join(selected))  \n",
    "    print(\"final formula is {}\".format(formula))\n",
    "    model=ols(formula=formula,data=data).fit()\n",
    "    return(model)"
   ]
  },
  {
   "cell_type": "markdown",
   "id": "important-singles",
   "metadata": {},
   "source": [
    "select the model based on BIC"
   ]
  },
  {
   "cell_type": "code",
   "execution_count": null,
   "id": "powerful-circuit",
   "metadata": {},
   "outputs": [],
   "source": [
    "def forward_select_bic(data,target):\n",
    "    variate=set(data.columns) \n",
    "    variate.remove(target)  \n",
    "    selected=[]\n",
    "    current_score,best_new_score=float('inf'),float('inf')  \n",
    "    \n",
    "    while variate:\n",
    "        aic_with_variate=[]\n",
    "        for candidate in variate:  \n",
    "            formula=\"{}~{}\".format(target,\"+\".join(selected+[candidate]))  \n",
    "            print(formula)\n",
    "            aic=ols(formula=formula,data=data).fit().bic\n",
    "            aic_with_variate.append((aic,candidate))  \n",
    "        aic_with_variate.sort(reverse=True)  \n",
    "        best_new_score,best_candidate=aic_with_variate.pop()  \n",
    "        if current_score>best_new_score:  \n",
    "            variate.remove(best_candidate)  \n",
    "            selected.append(best_candidate) \n",
    "            current_score=best_new_score  \n",
    "            print(\"bic is {},continuing!\".format(current_score))  \n",
    "        else:\n",
    "            print(\"for selection over!\")\n",
    "            break\n",
    "    formula=\"{}~{}\".format(target,\"+\".join(selected))  \n",
    "    print(\"final formula is {}\".format(formula))\n",
    "    model=ols(formula=formula,data=data).fit()\n",
    "    return(model)"
   ]
  },
  {
   "cell_type": "code",
   "execution_count": null,
   "id": "expensive-repository",
   "metadata": {},
   "outputs": [],
   "source": [
    "GB_select = GB.iloc[:,list(range(2,18))]\n",
    "# print(GB_select.head())\n",
    "Y = str(GB.columns[2])\n",
    "# print(Y)\n",
    "GB_model = forward_select_bic(data=GB_select,target=Y)"
   ]
  }
 ],
 "metadata": {
  "kernelspec": {
   "display_name": "Python 3",
   "language": "python",
   "name": "python3"
  },
  "language_info": {
   "codemirror_mode": {
    "name": "ipython",
    "version": 3
   },
   "file_extension": ".py",
   "mimetype": "text/x-python",
   "name": "python",
   "nbconvert_exporter": "python",
   "pygments_lexer": "ipython3",
   "version": "3.8.5"
  }
 },
 "nbformat": 4,
 "nbformat_minor": 5
}
